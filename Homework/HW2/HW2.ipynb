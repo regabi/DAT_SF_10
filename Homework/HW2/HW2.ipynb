{
 "metadata": {
  "name": "",
  "signature": "sha256:b88ca6095982b4d4b1740f810c51c5fc5deae133b49aec5485413bf6700b2e4a"
 },
 "nbformat": 3,
 "nbformat_minor": 0,
 "worksheets": [
  {
   "cells": [
    {
     "cell_type": "heading",
     "level": 3,
     "metadata": {},
     "source": [
      "Let's start by importing the csv file into a Pandas dataframe"
     ]
    },
    {
     "cell_type": "code",
     "collapsed": false,
     "input": [
      "import pandas as pd\n",
      "\n",
      "feature_columns = ['sepal length', 'sepal width', 'petal length', 'petal width']\n",
      "target_column = 'target name'\n",
      "\n",
      "columns = list(feature_columns)\n",
      "columns.append(target_column)\n",
      "\n",
      "iris = pd.io.parsers.read_csv('iris.csv', names=columns)"
     ],
     "language": "python",
     "metadata": {},
     "outputs": [],
     "prompt_number": 1
    },
    {
     "cell_type": "code",
     "collapsed": false,
     "input": [
      "iris.columns"
     ],
     "language": "python",
     "metadata": {},
     "outputs": [
      {
       "metadata": {},
       "output_type": "pyout",
       "prompt_number": 2,
       "text": [
        "Index([u'sepal length', u'sepal width', u'petal length', u'petal width', u'target name'], dtype='object')"
       ]
      }
     ],
     "prompt_number": 2
    },
    {
     "cell_type": "code",
     "collapsed": false,
     "input": [
      "iris.describe()"
     ],
     "language": "python",
     "metadata": {},
     "outputs": [
      {
       "html": [
        "<div style=\"max-height:1000px;max-width:1500px;overflow:auto;\">\n",
        "<table border=\"1\" class=\"dataframe\">\n",
        "  <thead>\n",
        "    <tr style=\"text-align: right;\">\n",
        "      <th></th>\n",
        "      <th>sepal length</th>\n",
        "      <th>sepal width</th>\n",
        "      <th>petal length</th>\n",
        "      <th>petal width</th>\n",
        "    </tr>\n",
        "  </thead>\n",
        "  <tbody>\n",
        "    <tr>\n",
        "      <th>count</th>\n",
        "      <td> 150.000000</td>\n",
        "      <td> 150.000000</td>\n",
        "      <td> 150.000000</td>\n",
        "      <td> 150.000000</td>\n",
        "    </tr>\n",
        "    <tr>\n",
        "      <th>mean</th>\n",
        "      <td>   5.843333</td>\n",
        "      <td>   3.054000</td>\n",
        "      <td>   3.758667</td>\n",
        "      <td>   1.198667</td>\n",
        "    </tr>\n",
        "    <tr>\n",
        "      <th>std</th>\n",
        "      <td>   0.828066</td>\n",
        "      <td>   0.433594</td>\n",
        "      <td>   1.764420</td>\n",
        "      <td>   0.763161</td>\n",
        "    </tr>\n",
        "    <tr>\n",
        "      <th>min</th>\n",
        "      <td>   4.300000</td>\n",
        "      <td>   2.000000</td>\n",
        "      <td>   1.000000</td>\n",
        "      <td>   0.100000</td>\n",
        "    </tr>\n",
        "    <tr>\n",
        "      <th>25%</th>\n",
        "      <td>   5.100000</td>\n",
        "      <td>   2.800000</td>\n",
        "      <td>   1.600000</td>\n",
        "      <td>   0.300000</td>\n",
        "    </tr>\n",
        "    <tr>\n",
        "      <th>50%</th>\n",
        "      <td>   5.800000</td>\n",
        "      <td>   3.000000</td>\n",
        "      <td>   4.350000</td>\n",
        "      <td>   1.300000</td>\n",
        "    </tr>\n",
        "    <tr>\n",
        "      <th>75%</th>\n",
        "      <td>   6.400000</td>\n",
        "      <td>   3.300000</td>\n",
        "      <td>   5.100000</td>\n",
        "      <td>   1.800000</td>\n",
        "    </tr>\n",
        "    <tr>\n",
        "      <th>max</th>\n",
        "      <td>   7.900000</td>\n",
        "      <td>   4.400000</td>\n",
        "      <td>   6.900000</td>\n",
        "      <td>   2.500000</td>\n",
        "    </tr>\n",
        "  </tbody>\n",
        "</table>\n",
        "</div>"
       ],
       "metadata": {},
       "output_type": "pyout",
       "prompt_number": 3,
       "text": [
        "       sepal length  sepal width  petal length  petal width\n",
        "count    150.000000   150.000000    150.000000   150.000000\n",
        "mean       5.843333     3.054000      3.758667     1.198667\n",
        "std        0.828066     0.433594      1.764420     0.763161\n",
        "min        4.300000     2.000000      1.000000     0.100000\n",
        "25%        5.100000     2.800000      1.600000     0.300000\n",
        "50%        5.800000     3.000000      4.350000     1.300000\n",
        "75%        6.400000     3.300000      5.100000     1.800000\n",
        "max        7.900000     4.400000      6.900000     2.500000"
       ]
      }
     ],
     "prompt_number": 3
    },
    {
     "cell_type": "code",
     "collapsed": false,
     "input": [
      "iris['target name'].value_counts()"
     ],
     "language": "python",
     "metadata": {},
     "outputs": [
      {
       "metadata": {},
       "output_type": "pyout",
       "prompt_number": 4,
       "text": [
        "Iris-setosa        50\n",
        "Iris-versicolor    50\n",
        "Iris-virginica     50\n",
        "dtype: int64"
       ]
      }
     ],
     "prompt_number": 4
    },
    {
     "cell_type": "code",
     "collapsed": false,
     "input": [
      "iris"
     ],
     "language": "python",
     "metadata": {},
     "outputs": [
      {
       "html": [
        "<div style=\"max-height:1000px;max-width:1500px;overflow:auto;\">\n",
        "<table border=\"1\" class=\"dataframe\">\n",
        "  <thead>\n",
        "    <tr style=\"text-align: right;\">\n",
        "      <th></th>\n",
        "      <th>sepal length</th>\n",
        "      <th>sepal width</th>\n",
        "      <th>petal length</th>\n",
        "      <th>petal width</th>\n",
        "      <th>target name</th>\n",
        "    </tr>\n",
        "  </thead>\n",
        "  <tbody>\n",
        "    <tr>\n",
        "      <th>0  </th>\n",
        "      <td> 5.1</td>\n",
        "      <td> 3.5</td>\n",
        "      <td> 1.4</td>\n",
        "      <td> 0.2</td>\n",
        "      <td>    Iris-setosa</td>\n",
        "    </tr>\n",
        "    <tr>\n",
        "      <th>1  </th>\n",
        "      <td> 4.9</td>\n",
        "      <td> 3.0</td>\n",
        "      <td> 1.4</td>\n",
        "      <td> 0.2</td>\n",
        "      <td>    Iris-setosa</td>\n",
        "    </tr>\n",
        "    <tr>\n",
        "      <th>2  </th>\n",
        "      <td> 4.7</td>\n",
        "      <td> 3.2</td>\n",
        "      <td> 1.3</td>\n",
        "      <td> 0.2</td>\n",
        "      <td>    Iris-setosa</td>\n",
        "    </tr>\n",
        "    <tr>\n",
        "      <th>3  </th>\n",
        "      <td> 4.6</td>\n",
        "      <td> 3.1</td>\n",
        "      <td> 1.5</td>\n",
        "      <td> 0.2</td>\n",
        "      <td>    Iris-setosa</td>\n",
        "    </tr>\n",
        "    <tr>\n",
        "      <th>4  </th>\n",
        "      <td> 5.0</td>\n",
        "      <td> 3.6</td>\n",
        "      <td> 1.4</td>\n",
        "      <td> 0.2</td>\n",
        "      <td>    Iris-setosa</td>\n",
        "    </tr>\n",
        "    <tr>\n",
        "      <th>5  </th>\n",
        "      <td> 5.4</td>\n",
        "      <td> 3.9</td>\n",
        "      <td> 1.7</td>\n",
        "      <td> 0.4</td>\n",
        "      <td>    Iris-setosa</td>\n",
        "    </tr>\n",
        "    <tr>\n",
        "      <th>6  </th>\n",
        "      <td> 4.6</td>\n",
        "      <td> 3.4</td>\n",
        "      <td> 1.4</td>\n",
        "      <td> 0.3</td>\n",
        "      <td>    Iris-setosa</td>\n",
        "    </tr>\n",
        "    <tr>\n",
        "      <th>7  </th>\n",
        "      <td> 5.0</td>\n",
        "      <td> 3.4</td>\n",
        "      <td> 1.5</td>\n",
        "      <td> 0.2</td>\n",
        "      <td>    Iris-setosa</td>\n",
        "    </tr>\n",
        "    <tr>\n",
        "      <th>8  </th>\n",
        "      <td> 4.4</td>\n",
        "      <td> 2.9</td>\n",
        "      <td> 1.4</td>\n",
        "      <td> 0.2</td>\n",
        "      <td>    Iris-setosa</td>\n",
        "    </tr>\n",
        "    <tr>\n",
        "      <th>9  </th>\n",
        "      <td> 4.9</td>\n",
        "      <td> 3.1</td>\n",
        "      <td> 1.5</td>\n",
        "      <td> 0.1</td>\n",
        "      <td>    Iris-setosa</td>\n",
        "    </tr>\n",
        "    <tr>\n",
        "      <th>10 </th>\n",
        "      <td> 5.4</td>\n",
        "      <td> 3.7</td>\n",
        "      <td> 1.5</td>\n",
        "      <td> 0.2</td>\n",
        "      <td>    Iris-setosa</td>\n",
        "    </tr>\n",
        "    <tr>\n",
        "      <th>11 </th>\n",
        "      <td> 4.8</td>\n",
        "      <td> 3.4</td>\n",
        "      <td> 1.6</td>\n",
        "      <td> 0.2</td>\n",
        "      <td>    Iris-setosa</td>\n",
        "    </tr>\n",
        "    <tr>\n",
        "      <th>12 </th>\n",
        "      <td> 4.8</td>\n",
        "      <td> 3.0</td>\n",
        "      <td> 1.4</td>\n",
        "      <td> 0.1</td>\n",
        "      <td>    Iris-setosa</td>\n",
        "    </tr>\n",
        "    <tr>\n",
        "      <th>13 </th>\n",
        "      <td> 4.3</td>\n",
        "      <td> 3.0</td>\n",
        "      <td> 1.1</td>\n",
        "      <td> 0.1</td>\n",
        "      <td>    Iris-setosa</td>\n",
        "    </tr>\n",
        "    <tr>\n",
        "      <th>14 </th>\n",
        "      <td> 5.8</td>\n",
        "      <td> 4.0</td>\n",
        "      <td> 1.2</td>\n",
        "      <td> 0.2</td>\n",
        "      <td>    Iris-setosa</td>\n",
        "    </tr>\n",
        "    <tr>\n",
        "      <th>15 </th>\n",
        "      <td> 5.7</td>\n",
        "      <td> 4.4</td>\n",
        "      <td> 1.5</td>\n",
        "      <td> 0.4</td>\n",
        "      <td>    Iris-setosa</td>\n",
        "    </tr>\n",
        "    <tr>\n",
        "      <th>16 </th>\n",
        "      <td> 5.4</td>\n",
        "      <td> 3.9</td>\n",
        "      <td> 1.3</td>\n",
        "      <td> 0.4</td>\n",
        "      <td>    Iris-setosa</td>\n",
        "    </tr>\n",
        "    <tr>\n",
        "      <th>17 </th>\n",
        "      <td> 5.1</td>\n",
        "      <td> 3.5</td>\n",
        "      <td> 1.4</td>\n",
        "      <td> 0.3</td>\n",
        "      <td>    Iris-setosa</td>\n",
        "    </tr>\n",
        "    <tr>\n",
        "      <th>18 </th>\n",
        "      <td> 5.7</td>\n",
        "      <td> 3.8</td>\n",
        "      <td> 1.7</td>\n",
        "      <td> 0.3</td>\n",
        "      <td>    Iris-setosa</td>\n",
        "    </tr>\n",
        "    <tr>\n",
        "      <th>19 </th>\n",
        "      <td> 5.1</td>\n",
        "      <td> 3.8</td>\n",
        "      <td> 1.5</td>\n",
        "      <td> 0.3</td>\n",
        "      <td>    Iris-setosa</td>\n",
        "    </tr>\n",
        "    <tr>\n",
        "      <th>20 </th>\n",
        "      <td> 5.4</td>\n",
        "      <td> 3.4</td>\n",
        "      <td> 1.7</td>\n",
        "      <td> 0.2</td>\n",
        "      <td>    Iris-setosa</td>\n",
        "    </tr>\n",
        "    <tr>\n",
        "      <th>21 </th>\n",
        "      <td> 5.1</td>\n",
        "      <td> 3.7</td>\n",
        "      <td> 1.5</td>\n",
        "      <td> 0.4</td>\n",
        "      <td>    Iris-setosa</td>\n",
        "    </tr>\n",
        "    <tr>\n",
        "      <th>22 </th>\n",
        "      <td> 4.6</td>\n",
        "      <td> 3.6</td>\n",
        "      <td> 1.0</td>\n",
        "      <td> 0.2</td>\n",
        "      <td>    Iris-setosa</td>\n",
        "    </tr>\n",
        "    <tr>\n",
        "      <th>23 </th>\n",
        "      <td> 5.1</td>\n",
        "      <td> 3.3</td>\n",
        "      <td> 1.7</td>\n",
        "      <td> 0.5</td>\n",
        "      <td>    Iris-setosa</td>\n",
        "    </tr>\n",
        "    <tr>\n",
        "      <th>24 </th>\n",
        "      <td> 4.8</td>\n",
        "      <td> 3.4</td>\n",
        "      <td> 1.9</td>\n",
        "      <td> 0.2</td>\n",
        "      <td>    Iris-setosa</td>\n",
        "    </tr>\n",
        "    <tr>\n",
        "      <th>25 </th>\n",
        "      <td> 5.0</td>\n",
        "      <td> 3.0</td>\n",
        "      <td> 1.6</td>\n",
        "      <td> 0.2</td>\n",
        "      <td>    Iris-setosa</td>\n",
        "    </tr>\n",
        "    <tr>\n",
        "      <th>26 </th>\n",
        "      <td> 5.0</td>\n",
        "      <td> 3.4</td>\n",
        "      <td> 1.6</td>\n",
        "      <td> 0.4</td>\n",
        "      <td>    Iris-setosa</td>\n",
        "    </tr>\n",
        "    <tr>\n",
        "      <th>27 </th>\n",
        "      <td> 5.2</td>\n",
        "      <td> 3.5</td>\n",
        "      <td> 1.5</td>\n",
        "      <td> 0.2</td>\n",
        "      <td>    Iris-setosa</td>\n",
        "    </tr>\n",
        "    <tr>\n",
        "      <th>28 </th>\n",
        "      <td> 5.2</td>\n",
        "      <td> 3.4</td>\n",
        "      <td> 1.4</td>\n",
        "      <td> 0.2</td>\n",
        "      <td>    Iris-setosa</td>\n",
        "    </tr>\n",
        "    <tr>\n",
        "      <th>29 </th>\n",
        "      <td> 4.7</td>\n",
        "      <td> 3.2</td>\n",
        "      <td> 1.6</td>\n",
        "      <td> 0.2</td>\n",
        "      <td>    Iris-setosa</td>\n",
        "    </tr>\n",
        "    <tr>\n",
        "      <th>...</th>\n",
        "      <td>...</td>\n",
        "      <td>...</td>\n",
        "      <td>...</td>\n",
        "      <td>...</td>\n",
        "      <td>...</td>\n",
        "    </tr>\n",
        "    <tr>\n",
        "      <th>120</th>\n",
        "      <td> 6.9</td>\n",
        "      <td> 3.2</td>\n",
        "      <td> 5.7</td>\n",
        "      <td> 2.3</td>\n",
        "      <td> Iris-virginica</td>\n",
        "    </tr>\n",
        "    <tr>\n",
        "      <th>121</th>\n",
        "      <td> 5.6</td>\n",
        "      <td> 2.8</td>\n",
        "      <td> 4.9</td>\n",
        "      <td> 2.0</td>\n",
        "      <td> Iris-virginica</td>\n",
        "    </tr>\n",
        "    <tr>\n",
        "      <th>122</th>\n",
        "      <td> 7.7</td>\n",
        "      <td> 2.8</td>\n",
        "      <td> 6.7</td>\n",
        "      <td> 2.0</td>\n",
        "      <td> Iris-virginica</td>\n",
        "    </tr>\n",
        "    <tr>\n",
        "      <th>123</th>\n",
        "      <td> 6.3</td>\n",
        "      <td> 2.7</td>\n",
        "      <td> 4.9</td>\n",
        "      <td> 1.8</td>\n",
        "      <td> Iris-virginica</td>\n",
        "    </tr>\n",
        "    <tr>\n",
        "      <th>124</th>\n",
        "      <td> 6.7</td>\n",
        "      <td> 3.3</td>\n",
        "      <td> 5.7</td>\n",
        "      <td> 2.1</td>\n",
        "      <td> Iris-virginica</td>\n",
        "    </tr>\n",
        "    <tr>\n",
        "      <th>125</th>\n",
        "      <td> 7.2</td>\n",
        "      <td> 3.2</td>\n",
        "      <td> 6.0</td>\n",
        "      <td> 1.8</td>\n",
        "      <td> Iris-virginica</td>\n",
        "    </tr>\n",
        "    <tr>\n",
        "      <th>126</th>\n",
        "      <td> 6.2</td>\n",
        "      <td> 2.8</td>\n",
        "      <td> 4.8</td>\n",
        "      <td> 1.8</td>\n",
        "      <td> Iris-virginica</td>\n",
        "    </tr>\n",
        "    <tr>\n",
        "      <th>127</th>\n",
        "      <td> 6.1</td>\n",
        "      <td> 3.0</td>\n",
        "      <td> 4.9</td>\n",
        "      <td> 1.8</td>\n",
        "      <td> Iris-virginica</td>\n",
        "    </tr>\n",
        "    <tr>\n",
        "      <th>128</th>\n",
        "      <td> 6.4</td>\n",
        "      <td> 2.8</td>\n",
        "      <td> 5.6</td>\n",
        "      <td> 2.1</td>\n",
        "      <td> Iris-virginica</td>\n",
        "    </tr>\n",
        "    <tr>\n",
        "      <th>129</th>\n",
        "      <td> 7.2</td>\n",
        "      <td> 3.0</td>\n",
        "      <td> 5.8</td>\n",
        "      <td> 1.6</td>\n",
        "      <td> Iris-virginica</td>\n",
        "    </tr>\n",
        "    <tr>\n",
        "      <th>130</th>\n",
        "      <td> 7.4</td>\n",
        "      <td> 2.8</td>\n",
        "      <td> 6.1</td>\n",
        "      <td> 1.9</td>\n",
        "      <td> Iris-virginica</td>\n",
        "    </tr>\n",
        "    <tr>\n",
        "      <th>131</th>\n",
        "      <td> 7.9</td>\n",
        "      <td> 3.8</td>\n",
        "      <td> 6.4</td>\n",
        "      <td> 2.0</td>\n",
        "      <td> Iris-virginica</td>\n",
        "    </tr>\n",
        "    <tr>\n",
        "      <th>132</th>\n",
        "      <td> 6.4</td>\n",
        "      <td> 2.8</td>\n",
        "      <td> 5.6</td>\n",
        "      <td> 2.2</td>\n",
        "      <td> Iris-virginica</td>\n",
        "    </tr>\n",
        "    <tr>\n",
        "      <th>133</th>\n",
        "      <td> 6.3</td>\n",
        "      <td> 2.8</td>\n",
        "      <td> 5.1</td>\n",
        "      <td> 1.5</td>\n",
        "      <td> Iris-virginica</td>\n",
        "    </tr>\n",
        "    <tr>\n",
        "      <th>134</th>\n",
        "      <td> 6.1</td>\n",
        "      <td> 2.6</td>\n",
        "      <td> 5.6</td>\n",
        "      <td> 1.4</td>\n",
        "      <td> Iris-virginica</td>\n",
        "    </tr>\n",
        "    <tr>\n",
        "      <th>135</th>\n",
        "      <td> 7.7</td>\n",
        "      <td> 3.0</td>\n",
        "      <td> 6.1</td>\n",
        "      <td> 2.3</td>\n",
        "      <td> Iris-virginica</td>\n",
        "    </tr>\n",
        "    <tr>\n",
        "      <th>136</th>\n",
        "      <td> 6.3</td>\n",
        "      <td> 3.4</td>\n",
        "      <td> 5.6</td>\n",
        "      <td> 2.4</td>\n",
        "      <td> Iris-virginica</td>\n",
        "    </tr>\n",
        "    <tr>\n",
        "      <th>137</th>\n",
        "      <td> 6.4</td>\n",
        "      <td> 3.1</td>\n",
        "      <td> 5.5</td>\n",
        "      <td> 1.8</td>\n",
        "      <td> Iris-virginica</td>\n",
        "    </tr>\n",
        "    <tr>\n",
        "      <th>138</th>\n",
        "      <td> 6.0</td>\n",
        "      <td> 3.0</td>\n",
        "      <td> 4.8</td>\n",
        "      <td> 1.8</td>\n",
        "      <td> Iris-virginica</td>\n",
        "    </tr>\n",
        "    <tr>\n",
        "      <th>139</th>\n",
        "      <td> 6.9</td>\n",
        "      <td> 3.1</td>\n",
        "      <td> 5.4</td>\n",
        "      <td> 2.1</td>\n",
        "      <td> Iris-virginica</td>\n",
        "    </tr>\n",
        "    <tr>\n",
        "      <th>140</th>\n",
        "      <td> 6.7</td>\n",
        "      <td> 3.1</td>\n",
        "      <td> 5.6</td>\n",
        "      <td> 2.4</td>\n",
        "      <td> Iris-virginica</td>\n",
        "    </tr>\n",
        "    <tr>\n",
        "      <th>141</th>\n",
        "      <td> 6.9</td>\n",
        "      <td> 3.1</td>\n",
        "      <td> 5.1</td>\n",
        "      <td> 2.3</td>\n",
        "      <td> Iris-virginica</td>\n",
        "    </tr>\n",
        "    <tr>\n",
        "      <th>142</th>\n",
        "      <td> 5.8</td>\n",
        "      <td> 2.7</td>\n",
        "      <td> 5.1</td>\n",
        "      <td> 1.9</td>\n",
        "      <td> Iris-virginica</td>\n",
        "    </tr>\n",
        "    <tr>\n",
        "      <th>143</th>\n",
        "      <td> 6.8</td>\n",
        "      <td> 3.2</td>\n",
        "      <td> 5.9</td>\n",
        "      <td> 2.3</td>\n",
        "      <td> Iris-virginica</td>\n",
        "    </tr>\n",
        "    <tr>\n",
        "      <th>144</th>\n",
        "      <td> 6.7</td>\n",
        "      <td> 3.3</td>\n",
        "      <td> 5.7</td>\n",
        "      <td> 2.5</td>\n",
        "      <td> Iris-virginica</td>\n",
        "    </tr>\n",
        "    <tr>\n",
        "      <th>145</th>\n",
        "      <td> 6.7</td>\n",
        "      <td> 3.0</td>\n",
        "      <td> 5.2</td>\n",
        "      <td> 2.3</td>\n",
        "      <td> Iris-virginica</td>\n",
        "    </tr>\n",
        "    <tr>\n",
        "      <th>146</th>\n",
        "      <td> 6.3</td>\n",
        "      <td> 2.5</td>\n",
        "      <td> 5.0</td>\n",
        "      <td> 1.9</td>\n",
        "      <td> Iris-virginica</td>\n",
        "    </tr>\n",
        "    <tr>\n",
        "      <th>147</th>\n",
        "      <td> 6.5</td>\n",
        "      <td> 3.0</td>\n",
        "      <td> 5.2</td>\n",
        "      <td> 2.0</td>\n",
        "      <td> Iris-virginica</td>\n",
        "    </tr>\n",
        "    <tr>\n",
        "      <th>148</th>\n",
        "      <td> 6.2</td>\n",
        "      <td> 3.4</td>\n",
        "      <td> 5.4</td>\n",
        "      <td> 2.3</td>\n",
        "      <td> Iris-virginica</td>\n",
        "    </tr>\n",
        "    <tr>\n",
        "      <th>149</th>\n",
        "      <td> 5.9</td>\n",
        "      <td> 3.0</td>\n",
        "      <td> 5.1</td>\n",
        "      <td> 1.8</td>\n",
        "      <td> Iris-virginica</td>\n",
        "    </tr>\n",
        "  </tbody>\n",
        "</table>\n",
        "<p>150 rows \u00d7 5 columns</p>\n",
        "</div>"
       ],
       "metadata": {},
       "output_type": "pyout",
       "prompt_number": 5,
       "text": [
        "     sepal length  sepal width  petal length  petal width     target name\n",
        "0             5.1          3.5           1.4          0.2     Iris-setosa\n",
        "1             4.9          3.0           1.4          0.2     Iris-setosa\n",
        "2             4.7          3.2           1.3          0.2     Iris-setosa\n",
        "3             4.6          3.1           1.5          0.2     Iris-setosa\n",
        "4             5.0          3.6           1.4          0.2     Iris-setosa\n",
        "5             5.4          3.9           1.7          0.4     Iris-setosa\n",
        "6             4.6          3.4           1.4          0.3     Iris-setosa\n",
        "7             5.0          3.4           1.5          0.2     Iris-setosa\n",
        "8             4.4          2.9           1.4          0.2     Iris-setosa\n",
        "9             4.9          3.1           1.5          0.1     Iris-setosa\n",
        "10            5.4          3.7           1.5          0.2     Iris-setosa\n",
        "11            4.8          3.4           1.6          0.2     Iris-setosa\n",
        "12            4.8          3.0           1.4          0.1     Iris-setosa\n",
        "13            4.3          3.0           1.1          0.1     Iris-setosa\n",
        "14            5.8          4.0           1.2          0.2     Iris-setosa\n",
        "15            5.7          4.4           1.5          0.4     Iris-setosa\n",
        "16            5.4          3.9           1.3          0.4     Iris-setosa\n",
        "17            5.1          3.5           1.4          0.3     Iris-setosa\n",
        "18            5.7          3.8           1.7          0.3     Iris-setosa\n",
        "19            5.1          3.8           1.5          0.3     Iris-setosa\n",
        "20            5.4          3.4           1.7          0.2     Iris-setosa\n",
        "21            5.1          3.7           1.5          0.4     Iris-setosa\n",
        "22            4.6          3.6           1.0          0.2     Iris-setosa\n",
        "23            5.1          3.3           1.7          0.5     Iris-setosa\n",
        "24            4.8          3.4           1.9          0.2     Iris-setosa\n",
        "25            5.0          3.0           1.6          0.2     Iris-setosa\n",
        "26            5.0          3.4           1.6          0.4     Iris-setosa\n",
        "27            5.2          3.5           1.5          0.2     Iris-setosa\n",
        "28            5.2          3.4           1.4          0.2     Iris-setosa\n",
        "29            4.7          3.2           1.6          0.2     Iris-setosa\n",
        "..            ...          ...           ...          ...             ...\n",
        "120           6.9          3.2           5.7          2.3  Iris-virginica\n",
        "121           5.6          2.8           4.9          2.0  Iris-virginica\n",
        "122           7.7          2.8           6.7          2.0  Iris-virginica\n",
        "123           6.3          2.7           4.9          1.8  Iris-virginica\n",
        "124           6.7          3.3           5.7          2.1  Iris-virginica\n",
        "125           7.2          3.2           6.0          1.8  Iris-virginica\n",
        "126           6.2          2.8           4.8          1.8  Iris-virginica\n",
        "127           6.1          3.0           4.9          1.8  Iris-virginica\n",
        "128           6.4          2.8           5.6          2.1  Iris-virginica\n",
        "129           7.2          3.0           5.8          1.6  Iris-virginica\n",
        "130           7.4          2.8           6.1          1.9  Iris-virginica\n",
        "131           7.9          3.8           6.4          2.0  Iris-virginica\n",
        "132           6.4          2.8           5.6          2.2  Iris-virginica\n",
        "133           6.3          2.8           5.1          1.5  Iris-virginica\n",
        "134           6.1          2.6           5.6          1.4  Iris-virginica\n",
        "135           7.7          3.0           6.1          2.3  Iris-virginica\n",
        "136           6.3          3.4           5.6          2.4  Iris-virginica\n",
        "137           6.4          3.1           5.5          1.8  Iris-virginica\n",
        "138           6.0          3.0           4.8          1.8  Iris-virginica\n",
        "139           6.9          3.1           5.4          2.1  Iris-virginica\n",
        "140           6.7          3.1           5.6          2.4  Iris-virginica\n",
        "141           6.9          3.1           5.1          2.3  Iris-virginica\n",
        "142           5.8          2.7           5.1          1.9  Iris-virginica\n",
        "143           6.8          3.2           5.9          2.3  Iris-virginica\n",
        "144           6.7          3.3           5.7          2.5  Iris-virginica\n",
        "145           6.7          3.0           5.2          2.3  Iris-virginica\n",
        "146           6.3          2.5           5.0          1.9  Iris-virginica\n",
        "147           6.5          3.0           5.2          2.0  Iris-virginica\n",
        "148           6.2          3.4           5.4          2.3  Iris-virginica\n",
        "149           5.9          3.0           5.1          1.8  Iris-virginica\n",
        "\n",
        "[150 rows x 5 columns]"
       ]
      }
     ],
     "prompt_number": 5
    },
    {
     "cell_type": "markdown",
     "metadata": {},
     "source": [
      "We have 150 flowers in the data set:\n",
      "- the first 50 are setosa\n",
      "- the next 50 are versicolor\n",
      "- the last 50 are virginica "
     ]
    },
    {
     "cell_type": "code",
     "collapsed": false,
     "input": [
      "# we can select only the features \n",
      "iris[feature_columns][:5]"
     ],
     "language": "python",
     "metadata": {},
     "outputs": [
      {
       "html": [
        "<div style=\"max-height:1000px;max-width:1500px;overflow:auto;\">\n",
        "<table border=\"1\" class=\"dataframe\">\n",
        "  <thead>\n",
        "    <tr style=\"text-align: right;\">\n",
        "      <th></th>\n",
        "      <th>sepal length</th>\n",
        "      <th>sepal width</th>\n",
        "      <th>petal length</th>\n",
        "      <th>petal width</th>\n",
        "    </tr>\n",
        "  </thead>\n",
        "  <tbody>\n",
        "    <tr>\n",
        "      <th>0</th>\n",
        "      <td> 5.1</td>\n",
        "      <td> 3.5</td>\n",
        "      <td> 1.4</td>\n",
        "      <td> 0.2</td>\n",
        "    </tr>\n",
        "    <tr>\n",
        "      <th>1</th>\n",
        "      <td> 4.9</td>\n",
        "      <td> 3.0</td>\n",
        "      <td> 1.4</td>\n",
        "      <td> 0.2</td>\n",
        "    </tr>\n",
        "    <tr>\n",
        "      <th>2</th>\n",
        "      <td> 4.7</td>\n",
        "      <td> 3.2</td>\n",
        "      <td> 1.3</td>\n",
        "      <td> 0.2</td>\n",
        "    </tr>\n",
        "    <tr>\n",
        "      <th>3</th>\n",
        "      <td> 4.6</td>\n",
        "      <td> 3.1</td>\n",
        "      <td> 1.5</td>\n",
        "      <td> 0.2</td>\n",
        "    </tr>\n",
        "    <tr>\n",
        "      <th>4</th>\n",
        "      <td> 5.0</td>\n",
        "      <td> 3.6</td>\n",
        "      <td> 1.4</td>\n",
        "      <td> 0.2</td>\n",
        "    </tr>\n",
        "  </tbody>\n",
        "</table>\n",
        "</div>"
       ],
       "metadata": {},
       "output_type": "pyout",
       "prompt_number": 6,
       "text": [
        "   sepal length  sepal width  petal length  petal width\n",
        "0           5.1          3.5           1.4          0.2\n",
        "1           4.9          3.0           1.4          0.2\n",
        "2           4.7          3.2           1.3          0.2\n",
        "3           4.6          3.1           1.5          0.2\n",
        "4           5.0          3.6           1.4          0.2"
       ]
      }
     ],
     "prompt_number": 6
    },
    {
     "cell_type": "code",
     "collapsed": false,
     "input": [
      "# or select only the target values\n",
      "iris[target_column][:5]"
     ],
     "language": "python",
     "metadata": {},
     "outputs": [
      {
       "metadata": {},
       "output_type": "pyout",
       "prompt_number": 7,
       "text": [
        "0    Iris-setosa\n",
        "1    Iris-setosa\n",
        "2    Iris-setosa\n",
        "3    Iris-setosa\n",
        "4    Iris-setosa\n",
        "Name: target name, dtype: object"
       ]
      }
     ],
     "prompt_number": 7
    },
    {
     "cell_type": "markdown",
     "metadata": {},
     "source": [
      "### 1. Implement KNN classification, using the sklearn package."
     ]
    },
    {
     "cell_type": "markdown",
     "metadata": {},
     "source": [
      "First Let's simply run KNN on the data set, without splitting the data"
     ]
    },
    {
     "cell_type": "code",
     "collapsed": false,
     "input": [
      "X = iris[feature_columns].values\n",
      "y = iris[target_column].values\n",
      "\n",
      "from sklearn.neighbors import KNeighborsClassifier\n",
      "knn = KNeighborsClassifier(5).fit(X, y)\n",
      "knn"
     ],
     "language": "python",
     "metadata": {},
     "outputs": [
      {
       "metadata": {},
       "output_type": "pyout",
       "prompt_number": 8,
       "text": [
        "KNeighborsClassifier(algorithm='auto', leaf_size=30, metric='minkowski',\n",
        "           metric_params=None, n_neighbors=5, p=2, weights='uniform')"
       ]
      }
     ],
     "prompt_number": 8
    },
    {
     "cell_type": "markdown",
     "metadata": {},
     "source": [
      "Well, it works but the right way to go is to split the data set into a training set and a test set."
     ]
    },
    {
     "cell_type": "code",
     "collapsed": false,
     "input": [
      "from sklearn.cross_validation import train_test_split\n",
      "X_train, X_test, y_train, y_test = train_test_split( X, y, test_size=0.2)\n",
      "\n",
      "knn = KNeighborsClassifier(5).fit(X_train, y_train)\n",
      "knn.score(X_test, y_test)"
     ],
     "language": "python",
     "metadata": {},
     "outputs": [
      {
       "metadata": {},
       "output_type": "pyout",
       "prompt_number": 9,
       "text": [
        "0.93333333333333335"
       ]
      }
     ],
     "prompt_number": 9
    },
    {
     "cell_type": "markdown",
     "metadata": {},
     "source": [
      "This is much more useful. We managed to get a test score (ie. model accuracy) above 90% so the algorithm works well."
     ]
    },
    {
     "cell_type": "markdown",
     "metadata": {},
     "source": [
      "### 2. Implement cross\u00advalidation for your KNN classifier"
     ]
    },
    {
     "cell_type": "code",
     "collapsed": false,
     "input": [
      "from sklearn.cross_validation import KFold\n",
      "import numpy as np\n",
      "\n",
      "# we implement our custom cross validation in a function so we can reuse it later\n",
      "def custom_cross_val_score(classifier, X, y, cv):\n",
      "    scores = []\n",
      "\n",
      "    for train, test in cv:\n",
      "        myknn = classifier.fit(X[train], y[train])\n",
      "        scores.append(myknn.score(X[test], y[test]))\n",
      "\n",
      "    return scores\n",
      "\n",
      "# same thing with the cross validation running function\n",
      "def run_crossvalidation(validator, classifier, X, y, cv):\n",
      "    test_scores = np.array(validator(classifier, X, y, cv=cv))\n",
      "    print \"test scores: {0}\".format(test_scores)\n",
      "    print \"mean: {0}\".format(test_scores.mean())"
     ],
     "language": "python",
     "metadata": {},
     "outputs": [],
     "prompt_number": 10
    },
    {
     "cell_type": "code",
     "collapsed": false,
     "input": [
      "# Now let's run our custom cross validation\n",
      "# we use KFold as the cross validator with 5 folds\n",
      "knn = KNeighborsClassifier(3)\n",
      "cv = KFold(len(iris), n_folds=5)\n",
      "run_crossvalidation(custom_cross_val_score, knn, X, y, cv)"
     ],
     "language": "python",
     "metadata": {},
     "outputs": [
      {
       "output_type": "stream",
       "stream": "stdout",
       "text": [
        "test scores: [ 1.          1.          0.83333333  0.93333333  0.76666667]\n",
        "mean: 0.906666666667\n"
       ]
      }
     ],
     "prompt_number": 11
    },
    {
     "cell_type": "code",
     "collapsed": false,
     "input": [
      "# Let's validate our scores against sk_learn's cross_val_score just to make sure we're correct\n",
      "\n",
      "from sklearn.cross_validation import cross_val_score\n",
      "run_crossvalidation(cross_val_score, knn, X, y, cv)"
     ],
     "language": "python",
     "metadata": {},
     "outputs": [
      {
       "output_type": "stream",
       "stream": "stdout",
       "text": [
        "test scores: [ 1.          1.          0.83333333  0.93333333  0.76666667]\n",
        "mean: 0.906666666667\n"
       ]
      }
     ],
     "prompt_number": 12
    },
    {
     "cell_type": "markdown",
     "metadata": {},
     "source": [
      "Ok it works! Note that by default, KFold does not shuffle which is convenient to validate our work. We noted earlier that this data set is ordered by the target type of flower so we should be shuffling the data, let's try..."
     ]
    },
    {
     "cell_type": "code",
     "collapsed": false,
     "input": [
      "cv = KFold(len(iris), n_folds=5, shuffle=True)\n",
      "run_crossvalidation(custom_cross_val_score, knn, X, y, cv)"
     ],
     "language": "python",
     "metadata": {},
     "outputs": [
      {
       "output_type": "stream",
       "stream": "stdout",
       "text": [
        "test scores: [ 0.96666667  0.9         0.96666667  0.96666667  1.        ]\n",
        "mean: 0.96\n"
       ]
      }
     ],
     "prompt_number": 13
    },
    {
     "cell_type": "markdown",
     "metadata": {},
     "source": [
      "Ok it still works with shuffle=True\n",
      "We're good."
     ]
    },
    {
     "cell_type": "markdown",
     "metadata": {},
     "source": [
      "### 3. Use your KNN classifier and cross\u00advalidation code from (1) and (2) above to determine the optimal value of K (number of nearest neighbors to consult) for this Iris dataset.\n",
      "and\n",
      "### 4. Using matplotlib, plot classifier accuracy versus the hyperparameter K for a range of K that you consider interesting. Explain in words what you are seeing."
     ]
    },
    {
     "cell_type": "code",
     "collapsed": false,
     "input": [
      "%matplotlib inline\n",
      "import matplotlib.pyplot as plt\n",
      "import numpy as np\n",
      "\n",
      "\n",
      "def plot_model_accuracy_over_k(plot=False, runs_per_k=2):\n",
      "    k_values = range(1, 90)\n",
      "    mean_scores = []\n",
      "    \n",
      "    # let's run our cross validator for each value of k between 1 and 90\n",
      "    for k in k_values:\n",
      "        test_scores = []\n",
      "        for i in range(1, runs_per_k):\n",
      "            classifier = KNeighborsClassifier(k)\n",
      "            cv = KFold(len(X), n_folds=5, shuffle=True)\n",
      "            test_scores.append(custom_cross_val_score(classifier, X, y, cv=cv))\n",
      "\n",
      "        mean_scores.append(np.array(test_scores).mean())\n",
      "    \n",
      "    # Now, let's find out the maximum score and the corresponding k value\n",
      "    max_score = max(mean_scores)\n",
      "    max_index = mean_scores.index(max_score)\n",
      "    k_at_max = k_values[max_index]\n",
      "    print \"maximum accuracy {0} for K={1}\".format(max_score, k_at_max)\n",
      "\n",
      "    # Finally let's plot the data to get a sense of the relationship between k and accuracy\n",
      "    if plot:\n",
      "        plt.xlabel('K')\n",
      "        plt.ylabel('model accuracy')\n",
      "        plt.scatter(k_values, mean_scores)\n",
      "    \n",
      "    return k_at_max"
     ],
     "language": "python",
     "metadata": {},
     "outputs": [],
     "prompt_number": 14
    },
    {
     "cell_type": "code",
     "collapsed": false,
     "input": [
      "# Now that our function is ready, let's run it a couple times\n",
      "plot_model_accuracy_over_k(plot=True)"
     ],
     "language": "python",
     "metadata": {},
     "outputs": [
      {
       "output_type": "stream",
       "stream": "stdout",
       "text": [
        "maximum accuracy 0.98 for K=12\n"
       ]
      },
      {
       "metadata": {},
       "output_type": "pyout",
       "prompt_number": 15,
       "text": [
        "12"
       ]
      },
      {
       "metadata": {},
       "output_type": "display_data",
       "png": "[encoded data removed]",
       "text": [
        "<matplotlib.figure.Figure at 0x110550e50>"
       ]
      }
     ],
     "prompt_number": 15
    },
    {
     "cell_type": "code",
     "collapsed": false,
     "input": [
      "plot_model_accuracy_over_k(plot=True)"
     ],
     "language": "python",
     "metadata": {},
     "outputs": [
      {
       "output_type": "stream",
       "stream": "stdout",
       "text": [
        "maximum accuracy 0.973333333333 for K=7\n"
       ]
      },
      {
       "metadata": {},
       "output_type": "pyout",
       "prompt_number": 16,
       "text": [
        "7"
       ]
      },
      {
       "metadata": {},
       "output_type": "display_data",
       "png": "[encoded data removed]",
       "text": [
        "<matplotlib.figure.Figure at 0x110e98890>"
       ]
      }
     ],
     "prompt_number": 16
    },
    {
     "cell_type": "markdown",
     "metadata": {},
     "source": [
      "It seems clear that the optimal value for K varies a lot on every run. The only variable between each run is the shuffling in KFold. Our data set is so small that depending on how the shuffle comes out, the results will vary a lot.\n",
      "\n",
      "Just for fun, let's rewrite the function with the ability to loop multiple times for each value of K."
     ]
    },
    {
     "cell_type": "code",
     "collapsed": false,
     "input": [
      "def plot_model_accuracy_over_k(plot=False, runs_per_iteration=2):\n",
      "    k_values = range(1, 90)\n",
      "    mean_scores = []\n",
      "    \n",
      "    # let's run our cross validator for each value of k between 1 and 90\n",
      "    for k in k_values:\n",
      "        test_scores = []\n",
      "        for i in range(1, runs_per_iteration):\n",
      "            classifier = KNeighborsClassifier(k)\n",
      "            cv = KFold(len(X), n_folds=5, shuffle=True)\n",
      "            test_scores.append(custom_cross_val_score(classifier, X, y, cv=cv))\n",
      "\n",
      "        mean_scores.append(np.array(test_scores).mean())\n",
      "    \n",
      "    # Now, let's find out the maximum score and the corresponding k value\n",
      "    max_score = max(mean_scores)\n",
      "    max_index = mean_scores.index(max_score)\n",
      "    k_at_max = k_values[max_index]\n",
      "    print \"maximum accuracy {0} for K={1}\".format(max_score, k_at_max)\n",
      "\n",
      "    # Finally let's plot the data to get a sense of the relationship between k and accuracy\n",
      "    if plot:\n",
      "        plt.xlabel('K')\n",
      "        plt.ylabel('model accuracy')\n",
      "        plt.scatter(k_values, mean_scores)\n",
      "    \n",
      "    return k_at_max\n",
      "\n",
      "plot_model_accuracy_over_k(plot=True, runs_per_iteration=50)"
     ],
     "language": "python",
     "metadata": {},
     "outputs": [
      {
       "output_type": "stream",
       "stream": "stdout",
       "text": [
        "maximum accuracy 0.967619047619 for K=13\n"
       ]
      },
      {
       "metadata": {},
       "output_type": "pyout",
       "prompt_number": 17,
       "text": [
        "13"
       ]
      },
      {
       "metadata": {},
       "output_type": "display_data",
       "png": "[encoded data removed]",
       "text": [
        "<matplotlib.figure.Figure at 0x111010910>"
       ]
      }
     ],
     "prompt_number": 17
    },
    {
     "cell_type": "markdown",
     "metadata": {},
     "source": [
      "It takes a lot longer but the accuracy over k looks much more clear. Our best choice for K is 13."
     ]
    },
    {
     "cell_type": "markdown",
     "metadata": {},
     "source": [
      "### Bonus: Using the value of K obtained in (3) above, vary the number of folds used for cross\u00advalidation across an interesting range"
     ]
    },
    {
     "cell_type": "markdown",
     "metadata": {},
     "source": [
      "We're going to use the same technique we just used and plot the model's accuracy based on the number of folds in KNN but setting K=13."
     ]
    },
    {
     "cell_type": "code",
     "collapsed": false,
     "input": [
      "def plot_model_accuracy_over_nfolds(plot=False, max_nfolds=10, runs_per_iteration=2):\n",
      "    k = 13\n",
      "    nfolds_values = range(2, max_nfolds)\n",
      "    mean_scores = []\n",
      "    \n",
      "    # let's run our cross validator for each value of k between 1 and 90\n",
      "    classifier = KNeighborsClassifier(k)\n",
      "    \n",
      "    for nfolds in nfolds_values:\n",
      "        test_scores = []\n",
      "        for i in range(1, runs_per_iteration):\n",
      "            classifier = KNeighborsClassifier(k)\n",
      "            cv = KFold(len(X), n_folds=nfolds, shuffle=True)\n",
      "            test_scores.append(custom_cross_val_score(classifier, X, y, cv=cv))\n",
      "\n",
      "        mean_scores.append(np.array(test_scores).mean())\n",
      " \n",
      "        \n",
      "    # Now, let's find out the maximum score and the corresponding nfolds value\n",
      "    max_score = max(mean_scores)\n",
      "    max_index = mean_scores.index(max_score)\n",
      "    nfolds_at_max = nfolds_values[max_index]\n",
      "    print \"maximum accuracy {0} for nfolds={1}\".format(max_score, nfolds_at_max)\n",
      "\n",
      "    # Finally let's plot the data to get a sense of the relationship between k and accuracy\n",
      "    if plot:\n",
      "        plt.xlabel('nfolds')\n",
      "        plt.ylabel('model accuracy')\n",
      "        plt.scatter(nfolds_values, mean_scores)\n",
      "    \n",
      "    return nfolds_at_max"
     ],
     "language": "python",
     "metadata": {},
     "outputs": [],
     "prompt_number": 24
    },
    {
     "cell_type": "markdown",
     "metadata": {},
     "source": [
      "Let's start by varying number of folds between 1 and 100"
     ]
    },
    {
     "cell_type": "code",
     "collapsed": false,
     "input": [
      "plot_model_accuracy_over_nfolds(plot=True, max_nfolds=100, runs_per_iteration=10)"
     ],
     "language": "python",
     "metadata": {},
     "outputs": [
      {
       "output_type": "stream",
       "stream": "stdout",
       "text": [
        "maximum accuracy 0.973214285714 for nfolds=20\n"
       ]
      },
      {
       "metadata": {},
       "output_type": "pyout",
       "prompt_number": 25,
       "text": [
        "20"
       ]
      },
      {
       "metadata": {},
       "output_type": "display_data",
       "png": "[encoded data removed]",
       "text": [
        "<matplotlib.figure.Figure at 0x10efad8d0>"
       ]
      }
     ],
     "prompt_number": 25
    },
    {
     "cell_type": "markdown",
     "metadata": {},
     "source": [
      "The more folds the more accurate the model gets but the accuracy gets good very quickly. Let's zoom in:"
     ]
    },
    {
     "cell_type": "code",
     "collapsed": false,
     "input": [
      "plot_model_accuracy_over_nfolds(plot=True, max_nfolds=15, runs_per_iteration=10)"
     ],
     "language": "python",
     "metadata": {},
     "outputs": [
      {
       "output_type": "stream",
       "stream": "stdout",
       "text": [
        "maximum accuracy 0.970409220409 for nfolds=13\n"
       ]
      },
      {
       "metadata": {},
       "output_type": "pyout",
       "prompt_number": 26,
       "text": [
        "13"
       ]
      },
      {
       "metadata": {},
       "output_type": "display_data",
       "png": "[encoded data removed]",
       "text": [
        "<matplotlib.figure.Figure at 0x1115125d0>"
       ]
      }
     ],
     "prompt_number": 26
    },
    {
     "cell_type": "markdown",
     "metadata": {},
     "source": [
      "When we get to 5-6 folds, it brings little gain to keep increasing the number of folds."
     ]
    }
   ],
   "metadata": {}
  }
 ]
}