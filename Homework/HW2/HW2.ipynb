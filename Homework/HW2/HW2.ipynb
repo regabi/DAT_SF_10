{
 "metadata": {
  "name": "",
  "signature": "sha256:9423b9917a9ee42912a05da6e9b0b551afec95a284991b2fc2a4bd7f5564a499"
 },
 "nbformat": 3,
 "nbformat_minor": 0,
 "worksheets": [
  {
   "cells": [
    {
     "cell_type": "code",
     "collapsed": false,
     "input": [
      "import pandas as pd\n",
      "\n",
      "feature_columns = ['sepal length', 'sepal width', 'petal length', 'petal width']\n",
      "target_column = 'target name'\n",
      "\n",
      "columns = list(feature_columns)\n",
      "columns.append(target_column)\n",
      "\n",
      "iris = pd.io.parsers.read_csv('iris.csv', names=columns)"
     ],
     "language": "python",
     "metadata": {},
     "outputs": [],
     "prompt_number": 5
    },
    {
     "cell_type": "code",
     "collapsed": false,
     "input": [
      "iris.columns"
     ],
     "language": "python",
     "metadata": {},
     "outputs": [
      {
       "metadata": {},
       "output_type": "pyout",
       "prompt_number": 6,
       "text": [
        "Index([u'sepal length', u'sepal width', u'petal length', u'petal width', u'target name'], dtype='object')"
       ]
      }
     ],
     "prompt_number": 6
    },
    {
     "cell_type": "code",
     "collapsed": false,
     "input": [
      "iris.describe()"
     ],
     "language": "python",
     "metadata": {},
     "outputs": [
      {
       "html": [
        "<div style=\"max-height:1000px;max-width:1500px;overflow:auto;\">\n",
        "<table border=\"1\" class=\"dataframe\">\n",
        "  <thead>\n",
        "    <tr style=\"text-align: right;\">\n",
        "      <th></th>\n",
        "      <th>sepal length</th>\n",
        "      <th>sepal width</th>\n",
        "      <th>petal length</th>\n",
        "      <th>petal width</th>\n",
        "    </tr>\n",
        "  </thead>\n",
        "  <tbody>\n",
        "    <tr>\n",
        "      <th>count</th>\n",
        "      <td> 150.000000</td>\n",
        "      <td> 150.000000</td>\n",
        "      <td> 150.000000</td>\n",
        "      <td> 150.000000</td>\n",
        "    </tr>\n",
        "    <tr>\n",
        "      <th>mean</th>\n",
        "      <td>   5.843333</td>\n",
        "      <td>   3.054000</td>\n",
        "      <td>   3.758667</td>\n",
        "      <td>   1.198667</td>\n",
        "    </tr>\n",
        "    <tr>\n",
        "      <th>std</th>\n",
        "      <td>   0.828066</td>\n",
        "      <td>   0.433594</td>\n",
        "      <td>   1.764420</td>\n",
        "      <td>   0.763161</td>\n",
        "    </tr>\n",
        "    <tr>\n",
        "      <th>min</th>\n",
        "      <td>   4.300000</td>\n",
        "      <td>   2.000000</td>\n",
        "      <td>   1.000000</td>\n",
        "      <td>   0.100000</td>\n",
        "    </tr>\n",
        "    <tr>\n",
        "      <th>25%</th>\n",
        "      <td>   5.100000</td>\n",
        "      <td>   2.800000</td>\n",
        "      <td>   1.600000</td>\n",
        "      <td>   0.300000</td>\n",
        "    </tr>\n",
        "    <tr>\n",
        "      <th>50%</th>\n",
        "      <td>   5.800000</td>\n",
        "      <td>   3.000000</td>\n",
        "      <td>   4.350000</td>\n",
        "      <td>   1.300000</td>\n",
        "    </tr>\n",
        "    <tr>\n",
        "      <th>75%</th>\n",
        "      <td>   6.400000</td>\n",
        "      <td>   3.300000</td>\n",
        "      <td>   5.100000</td>\n",
        "      <td>   1.800000</td>\n",
        "    </tr>\n",
        "    <tr>\n",
        "      <th>max</th>\n",
        "      <td>   7.900000</td>\n",
        "      <td>   4.400000</td>\n",
        "      <td>   6.900000</td>\n",
        "      <td>   2.500000</td>\n",
        "    </tr>\n",
        "  </tbody>\n",
        "</table>\n",
        "</div>"
       ],
       "metadata": {},
       "output_type": "pyout",
       "prompt_number": 7,
       "text": [
        "       sepal length  sepal width  petal length  petal width\n",
        "count    150.000000   150.000000    150.000000   150.000000\n",
        "mean       5.843333     3.054000      3.758667     1.198667\n",
        "std        0.828066     0.433594      1.764420     0.763161\n",
        "min        4.300000     2.000000      1.000000     0.100000\n",
        "25%        5.100000     2.800000      1.600000     0.300000\n",
        "50%        5.800000     3.000000      4.350000     1.300000\n",
        "75%        6.400000     3.300000      5.100000     1.800000\n",
        "max        7.900000     4.400000      6.900000     2.500000"
       ]
      }
     ],
     "prompt_number": 7
    },
    {
     "cell_type": "code",
     "collapsed": false,
     "input": [
      "iris['target name'].value_counts()"
     ],
     "language": "python",
     "metadata": {},
     "outputs": [
      {
       "metadata": {},
       "output_type": "pyout",
       "prompt_number": 8,
       "text": [
        "Iris-setosa        50\n",
        "Iris-versicolor    50\n",
        "Iris-virginica     50\n",
        "dtype: int64"
       ]
      }
     ],
     "prompt_number": 8
    },
    {
     "cell_type": "code",
     "collapsed": false,
     "input": [
      "iris[feature_columns][:5]"
     ],
     "language": "python",
     "metadata": {},
     "outputs": [
      {
       "html": [
        "<div style=\"max-height:1000px;max-width:1500px;overflow:auto;\">\n",
        "<table border=\"1\" class=\"dataframe\">\n",
        "  <thead>\n",
        "    <tr style=\"text-align: right;\">\n",
        "      <th></th>\n",
        "      <th>sepal length</th>\n",
        "      <th>sepal width</th>\n",
        "      <th>petal length</th>\n",
        "      <th>petal width</th>\n",
        "    </tr>\n",
        "  </thead>\n",
        "  <tbody>\n",
        "    <tr>\n",
        "      <th>0</th>\n",
        "      <td> 5.1</td>\n",
        "      <td> 3.5</td>\n",
        "      <td> 1.4</td>\n",
        "      <td> 0.2</td>\n",
        "    </tr>\n",
        "    <tr>\n",
        "      <th>1</th>\n",
        "      <td> 4.9</td>\n",
        "      <td> 3.0</td>\n",
        "      <td> 1.4</td>\n",
        "      <td> 0.2</td>\n",
        "    </tr>\n",
        "    <tr>\n",
        "      <th>2</th>\n",
        "      <td> 4.7</td>\n",
        "      <td> 3.2</td>\n",
        "      <td> 1.3</td>\n",
        "      <td> 0.2</td>\n",
        "    </tr>\n",
        "    <tr>\n",
        "      <th>3</th>\n",
        "      <td> 4.6</td>\n",
        "      <td> 3.1</td>\n",
        "      <td> 1.5</td>\n",
        "      <td> 0.2</td>\n",
        "    </tr>\n",
        "    <tr>\n",
        "      <th>4</th>\n",
        "      <td> 5.0</td>\n",
        "      <td> 3.6</td>\n",
        "      <td> 1.4</td>\n",
        "      <td> 0.2</td>\n",
        "    </tr>\n",
        "  </tbody>\n",
        "</table>\n",
        "</div>"
       ],
       "metadata": {},
       "output_type": "pyout",
       "prompt_number": 9,
       "text": [
        "   sepal length  sepal width  petal length  petal width\n",
        "0           5.1          3.5           1.4          0.2\n",
        "1           4.9          3.0           1.4          0.2\n",
        "2           4.7          3.2           1.3          0.2\n",
        "3           4.6          3.1           1.5          0.2\n",
        "4           5.0          3.6           1.4          0.2"
       ]
      }
     ],
     "prompt_number": 9
    },
    {
     "cell_type": "code",
     "collapsed": false,
     "input": [
      "iris[iris['target name'] == 'Iris-versicolor'][:5]"
     ],
     "language": "python",
     "metadata": {},
     "outputs": [
      {
       "html": [
        "<div style=\"max-height:1000px;max-width:1500px;overflow:auto;\">\n",
        "<table border=\"1\" class=\"dataframe\">\n",
        "  <thead>\n",
        "    <tr style=\"text-align: right;\">\n",
        "      <th></th>\n",
        "      <th>sepal length</th>\n",
        "      <th>sepal width</th>\n",
        "      <th>petal length</th>\n",
        "      <th>petal width</th>\n",
        "      <th>target name</th>\n",
        "    </tr>\n",
        "  </thead>\n",
        "  <tbody>\n",
        "    <tr>\n",
        "      <th>50</th>\n",
        "      <td> 7.0</td>\n",
        "      <td> 3.2</td>\n",
        "      <td> 4.7</td>\n",
        "      <td> 1.4</td>\n",
        "      <td> Iris-versicolor</td>\n",
        "    </tr>\n",
        "    <tr>\n",
        "      <th>51</th>\n",
        "      <td> 6.4</td>\n",
        "      <td> 3.2</td>\n",
        "      <td> 4.5</td>\n",
        "      <td> 1.5</td>\n",
        "      <td> Iris-versicolor</td>\n",
        "    </tr>\n",
        "    <tr>\n",
        "      <th>52</th>\n",
        "      <td> 6.9</td>\n",
        "      <td> 3.1</td>\n",
        "      <td> 4.9</td>\n",
        "      <td> 1.5</td>\n",
        "      <td> Iris-versicolor</td>\n",
        "    </tr>\n",
        "    <tr>\n",
        "      <th>53</th>\n",
        "      <td> 5.5</td>\n",
        "      <td> 2.3</td>\n",
        "      <td> 4.0</td>\n",
        "      <td> 1.3</td>\n",
        "      <td> Iris-versicolor</td>\n",
        "    </tr>\n",
        "    <tr>\n",
        "      <th>54</th>\n",
        "      <td> 6.5</td>\n",
        "      <td> 2.8</td>\n",
        "      <td> 4.6</td>\n",
        "      <td> 1.5</td>\n",
        "      <td> Iris-versicolor</td>\n",
        "    </tr>\n",
        "  </tbody>\n",
        "</table>\n",
        "</div>"
       ],
       "metadata": {},
       "output_type": "pyout",
       "prompt_number": 10,
       "text": [
        "    sepal length  sepal width  petal length  petal width      target name\n",
        "50           7.0          3.2           4.7          1.4  Iris-versicolor\n",
        "51           6.4          3.2           4.5          1.5  Iris-versicolor\n",
        "52           6.9          3.1           4.9          1.5  Iris-versicolor\n",
        "53           5.5          2.3           4.0          1.3  Iris-versicolor\n",
        "54           6.5          2.8           4.6          1.5  Iris-versicolor"
       ]
      }
     ],
     "prompt_number": 10
    },
    {
     "cell_type": "code",
     "collapsed": false,
     "input": [],
     "language": "python",
     "metadata": {},
     "outputs": [],
     "prompt_number": 10
    },
    {
     "cell_type": "markdown",
     "metadata": {},
     "source": [
      "### 1. Implement KNN classification, using the sklearn package."
     ]
    },
    {
     "cell_type": "code",
     "collapsed": false,
     "input": [
      "X = iris[feature_columns].values\n",
      "y = iris[target_column].values\n",
      "\n",
      "# Names = iris.target_names\n",
      "from sklearn.cross_validation import train_test_split\n",
      "\n",
      "X_train, X_test, y_train, y_test = train_test_split( X, y, test_size=0.2)"
     ],
     "language": "python",
     "metadata": {},
     "outputs": [],
     "prompt_number": 11
    },
    {
     "cell_type": "code",
     "collapsed": false,
     "input": [
      "from sklearn.neighbors import KNeighborsClassifier"
     ],
     "language": "python",
     "metadata": {},
     "outputs": [],
     "prompt_number": 12
    },
    {
     "cell_type": "code",
     "collapsed": false,
     "input": [
      "myknn = KNeighborsClassifier(5).fit(X_train,y_train)\n",
      "myknn.score(X_test, y_test)"
     ],
     "language": "python",
     "metadata": {},
     "outputs": [
      {
       "metadata": {},
       "output_type": "pyout",
       "prompt_number": 13,
       "text": [
        "0.96666666666666667"
       ]
      }
     ],
     "prompt_number": 13
    },
    {
     "cell_type": "markdown",
     "metadata": {},
     "source": [
      "### 2. Implement cross\u00advalidation for your KNN classifier"
     ]
    },
    {
     "cell_type": "code",
     "collapsed": false,
     "input": [
      "from sklearn.cross_validation import KFold\n",
      "\n",
      "def crossvalidateModel(classifier, X, y):\n",
      "    kf = KFold(len(iris), n_folds=5, shuffle=True)\n",
      "\n",
      "    scores = []\n",
      "\n",
      "    for train, test in kf:\n",
      "        myknn = classifier.fit(X[train], y[train])\n",
      "        scores.append(myknn.score(X[test], y[test]))\n",
      "\n",
      "    return scores\n",
      "\n",
      "#     scores = pd.DataFrame(scores)\n",
      "#     print scores\n",
      "#     print(\"Accuracy: %0.2f (+/- %0.2f)\" % (scores.mean(), scores.std() * 2))\n",
      "#     return float(scores.mean())\n",
      "    \n",
      "\n",
      "np.array(crossvalidateModel(KNeighborsClassifier(6), X, y)).mean()"
     ],
     "language": "python",
     "metadata": {},
     "outputs": [
      {
       "metadata": {},
       "output_type": "pyout",
       "prompt_number": 67,
       "text": [
        "0.97333333333333338"
       ]
      }
     ],
     "prompt_number": 67
    },
    {
     "cell_type": "code",
     "collapsed": false,
     "input": [
      "# Let's validate against sk_learn's cross_val_score\n",
      "\n",
      "from sklearn.cross_validation import cross_val_score, ShuffleSplit\n",
      "\n",
      "n_samples = len(y)\n",
      "knn = KNeighborsClassifier(3)\n",
      "cv = ShuffleSplit(n_samples, n_iter=10, test_size=0.3, random_state=0)\n",
      "cv = KFold(len(iris), n_folds=5, shuffle=True)\n",
      "\n",
      "test_scores = cross_val_score(knn, X, y) #, cv=cv)\n",
      "# test_scores.mean()\n",
      "test_scores.mean()"
     ],
     "language": "python",
     "metadata": {},
     "outputs": [
      {
       "metadata": {},
       "output_type": "pyout",
       "prompt_number": 75,
       "text": [
        "0.98039215686274517"
       ]
      }
     ],
     "prompt_number": 75
    },
    {
     "cell_type": "markdown",
     "metadata": {},
     "source": [
      "### 3. Use your KNN classifier and cross\u00advalidation code from (1) and (2) above to determine the optimal value of K (number of nearest neighbors to consult) for this Iris dataset."
     ]
    },
    {
     "cell_type": "code",
     "collapsed": false,
     "input": [
      "from sklearn.cross_validation import cross_val_score\n",
      "%matplotlib inline\n",
      "import matplotlib.pyplot as plt\n",
      "import numpy as np\n",
      "\n",
      "\n",
      "def plot_model_accuracy_over_k(cross_validator):\n",
      "    k_values = range(1, 90)\n",
      "    scores = []\n",
      "    avg_scores = []\n",
      "    \n",
      "    for k in k_values:\n",
      "        model = KNeighborsClassifier(k)\n",
      "        cv_scores = cross_validator(model, X, y)\n",
      "        scores.append(cv_scores)\n",
      "        avg_scores.append(np.array(cv_scores).mean())\n",
      "\n",
      "#     print len(k_values)\n",
      "#     print avg_scores\n",
      "    \n",
      "    max_score = max(avg_scores)\n",
      "    max_index = avg_scores.index(max_score)\n",
      "    k_at_max = k_values[max_index]\n",
      "    print \"maximum accuracy {0} for k={1}\".format(max_score, k_at_max)\n",
      "\n",
      "    plt.xlabel('k')\n",
      "    plt.ylabel('model accuracy')\n",
      "    plt.scatter(k_values, avg_scores)\n",
      "    \n",
      "\n",
      "\n",
      "# crossvalidateModel\n",
      "# cross_val_score\n",
      "plot_model_accuracy_over_k(crossvalidateModel)"
     ],
     "language": "python",
     "metadata": {},
     "outputs": [
      {
       "output_type": "stream",
       "stream": "stdout",
       "text": [
        "maximum accuracy 0.98 for k=11\n"
       ]
      },
      {
       "metadata": {},
       "output_type": "display_data",
       "png": "[encoded data removed]",
       "text": [
        "<matplotlib.figure.Figure at 0x1135fd2d0>"
       ]
      }
     ],
     "prompt_number": 37
    },
    {
     "cell_type": "code",
     "collapsed": false,
     "input": [],
     "language": "python",
     "metadata": {},
     "outputs": [
      {
       "metadata": {},
       "output_type": "pyout",
       "prompt_number": 400,
       "text": [
        "5"
       ]
      }
     ],
     "prompt_number": 400
    },
    {
     "cell_type": "heading",
     "level": 3,
     "metadata": {},
     "source": [
      "Interestingly the maximum accuracy for for k=1"
     ]
    },
    {
     "cell_type": "code",
     "collapsed": false,
     "input": [
      "x = np.linspace(0, 3*np.pi, 500)\n",
      "plt.plot(x, np.sin(x**2))"
     ],
     "language": "python",
     "metadata": {},
     "outputs": [
      {
       "metadata": {},
       "output_type": "pyout",
       "prompt_number": 8,
       "text": [
        "[<matplotlib.lines.Line2D at 0x1082e3510>]"
       ]
      },
      {
       "metadata": {},
       "output_type": "display_data",
       "png": "[encoded data removed]",
       "text": [
        "<matplotlib.figure.Figure at 0x10822e610>"
       ]
      }
     ],
     "prompt_number": 8
    },
    {
     "cell_type": "code",
     "collapsed": false,
     "input": [
      "N = 50\n",
      "x = np.random.rand(N)\n",
      "y = np.random.rand(N)\n",
      "colors = np.random.rand(N)\n",
      "area = np.pi * (15 * np.random.rand(N))**2 # 0 to 15 point radiuses\n",
      "\n",
      "plt.scatter(x, y, s=area, c=colors, alpha=0.5)"
     ],
     "language": "python",
     "metadata": {},
     "outputs": [
      {
       "metadata": {},
       "output_type": "pyout",
       "prompt_number": 25,
       "text": [
        "<matplotlib.collections.PathCollection at 0x11453f750>"
       ]
      },
      {
       "metadata": {},
       "output_type": "display_data",
       "png": "[encoded data removed]",
       "text": [
        "<matplotlib.figure.Figure at 0x11414da50>"
       ]
      }
     ],
     "prompt_number": 25
    },
    {
     "cell_type": "code",
     "collapsed": false,
     "input": [
      "v1 = iris['target name'] == 'Iris-versicolor'\n",
      "v2 = iris['target name'] == 'Iris-setosa'\n",
      "v3 = iris['target name'] == 'Iris-virginica'\n",
      "iris[v1][:5]"
     ],
     "language": "python",
     "metadata": {},
     "outputs": [
      {
       "html": [
        "<div style=\"max-height:1000px;max-width:1500px;overflow:auto;\">\n",
        "<table border=\"1\" class=\"dataframe\">\n",
        "  <thead>\n",
        "    <tr style=\"text-align: right;\">\n",
        "      <th></th>\n",
        "      <th>sepal length</th>\n",
        "      <th>sepal width</th>\n",
        "      <th>petal length</th>\n",
        "      <th>petal width</th>\n",
        "      <th>target name</th>\n",
        "    </tr>\n",
        "  </thead>\n",
        "  <tbody>\n",
        "    <tr>\n",
        "      <th>49</th>\n",
        "      <td> 7.0</td>\n",
        "      <td> 3.2</td>\n",
        "      <td> 4.7</td>\n",
        "      <td> 1.4</td>\n",
        "      <td> Iris-versicolor</td>\n",
        "    </tr>\n",
        "    <tr>\n",
        "      <th>50</th>\n",
        "      <td> 6.4</td>\n",
        "      <td> 3.2</td>\n",
        "      <td> 4.5</td>\n",
        "      <td> 1.5</td>\n",
        "      <td> Iris-versicolor</td>\n",
        "    </tr>\n",
        "    <tr>\n",
        "      <th>51</th>\n",
        "      <td> 6.9</td>\n",
        "      <td> 3.1</td>\n",
        "      <td> 4.9</td>\n",
        "      <td> 1.5</td>\n",
        "      <td> Iris-versicolor</td>\n",
        "    </tr>\n",
        "    <tr>\n",
        "      <th>52</th>\n",
        "      <td> 5.5</td>\n",
        "      <td> 2.3</td>\n",
        "      <td> 4.0</td>\n",
        "      <td> 1.3</td>\n",
        "      <td> Iris-versicolor</td>\n",
        "    </tr>\n",
        "    <tr>\n",
        "      <th>53</th>\n",
        "      <td> 6.5</td>\n",
        "      <td> 2.8</td>\n",
        "      <td> 4.6</td>\n",
        "      <td> 1.5</td>\n",
        "      <td> Iris-versicolor</td>\n",
        "    </tr>\n",
        "  </tbody>\n",
        "</table>\n",
        "</div>"
       ],
       "metadata": {},
       "output_type": "pyout",
       "prompt_number": 65,
       "text": [
        "    sepal length  sepal width  petal length  petal width      target name\n",
        "49           7.0          3.2           4.7          1.4  Iris-versicolor\n",
        "50           6.4          3.2           4.5          1.5  Iris-versicolor\n",
        "51           6.9          3.1           4.9          1.5  Iris-versicolor\n",
        "52           5.5          2.3           4.0          1.3  Iris-versicolor\n",
        "53           6.5          2.8           4.6          1.5  Iris-versicolor"
       ]
      }
     ],
     "prompt_number": 65
    },
    {
     "cell_type": "code",
     "collapsed": false,
     "input": [
      "plt.scatter(iris[v1]['sepal length'],\n",
      "            iris[v1]['sepal width'],\n",
      "            marker='>',\n",
      "            c='r')\n",
      "\n",
      "plt.scatter(iris[v2]['sepal length'],\n",
      "            iris[v2]['sepal width'],\n",
      "            marker='o',\n",
      "            c='g')\n",
      "\n",
      "plt.scatter(iris[v3]['sepal length'],\n",
      "            iris[v3]['sepal width'],\n",
      "            marker='x',\n",
      "            c='b')\n",
      "\n",
      "# plt.set_xlabel('sepal length', fontsize=8)\n",
      "# plt.set_ylabel('sepal width', fontsize=8)\n"
     ],
     "language": "python",
     "metadata": {},
     "outputs": [
      {
       "metadata": {},
       "output_type": "pyout",
       "prompt_number": 71,
       "text": [
        "<matplotlib.collections.PathCollection at 0x114df0950>"
       ]
      },
      {
       "metadata": {},
       "output_type": "display_data",
       "png": "[encoded data removed]",
       "text": [
        "<matplotlib.figure.Figure at 0x1148e8e10>"
       ]
      }
     ],
     "prompt_number": 71
    },
    {
     "cell_type": "code",
     "collapsed": false,
     "input": [],
     "language": "python",
     "metadata": {},
     "outputs": []
    }
   ],
   "metadata": {}
  }
 ]
}