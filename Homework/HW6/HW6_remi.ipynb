{
 "metadata": {
  "name": "",
  "signature": "sha256:17805c2c14f5422987bb98a1875c080f72751f7ebe80501c1c594237c224cf75"
 },
 "nbformat": 3,
 "nbformat_minor": 0,
 "worksheets": [
  {
   "cells": [
    {
     "cell_type": "code",
     "collapsed": false,
     "input": [
      "import pandas as pd\n",
      "import numpy as np\n",
      "from matplotlib import pyplot as plt\n",
      "%matplotlib inline"
     ],
     "language": "python",
     "metadata": {},
     "outputs": [],
     "prompt_number": 51
    },
    {
     "cell_type": "code",
     "collapsed": false,
     "input": [
      "df = pd.read_table('bank/bank.csv', sep=';')\n",
      "df.head()"
     ],
     "language": "python",
     "metadata": {},
     "outputs": [
      {
       "html": [
        "<div style=\"max-height:1000px;max-width:1500px;overflow:auto;\">\n",
        "<table border=\"1\" class=\"dataframe\">\n",
        "  <thead>\n",
        "    <tr style=\"text-align: right;\">\n",
        "      <th></th>\n",
        "      <th>age</th>\n",
        "      <th>job</th>\n",
        "      <th>marital</th>\n",
        "      <th>education</th>\n",
        "      <th>default</th>\n",
        "      <th>balance</th>\n",
        "      <th>housing</th>\n",
        "      <th>loan</th>\n",
        "      <th>contact</th>\n",
        "      <th>day</th>\n",
        "      <th>month</th>\n",
        "      <th>duration</th>\n",
        "      <th>campaign</th>\n",
        "      <th>pdays</th>\n",
        "      <th>previous</th>\n",
        "      <th>poutcome</th>\n",
        "      <th>y</th>\n",
        "    </tr>\n",
        "  </thead>\n",
        "  <tbody>\n",
        "    <tr>\n",
        "      <th>0</th>\n",
        "      <td> 30</td>\n",
        "      <td>  unemployed</td>\n",
        "      <td> married</td>\n",
        "      <td>   primary</td>\n",
        "      <td> no</td>\n",
        "      <td> 1787</td>\n",
        "      <td>  no</td>\n",
        "      <td>  no</td>\n",
        "      <td> cellular</td>\n",
        "      <td> 19</td>\n",
        "      <td> oct</td>\n",
        "      <td>  79</td>\n",
        "      <td> 1</td>\n",
        "      <td>  -1</td>\n",
        "      <td> 0</td>\n",
        "      <td> unknown</td>\n",
        "      <td> no</td>\n",
        "    </tr>\n",
        "    <tr>\n",
        "      <th>1</th>\n",
        "      <td> 33</td>\n",
        "      <td>    services</td>\n",
        "      <td> married</td>\n",
        "      <td> secondary</td>\n",
        "      <td> no</td>\n",
        "      <td> 4789</td>\n",
        "      <td> yes</td>\n",
        "      <td> yes</td>\n",
        "      <td> cellular</td>\n",
        "      <td> 11</td>\n",
        "      <td> may</td>\n",
        "      <td> 220</td>\n",
        "      <td> 1</td>\n",
        "      <td> 339</td>\n",
        "      <td> 4</td>\n",
        "      <td> failure</td>\n",
        "      <td> no</td>\n",
        "    </tr>\n",
        "    <tr>\n",
        "      <th>2</th>\n",
        "      <td> 35</td>\n",
        "      <td>  management</td>\n",
        "      <td>  single</td>\n",
        "      <td>  tertiary</td>\n",
        "      <td> no</td>\n",
        "      <td> 1350</td>\n",
        "      <td> yes</td>\n",
        "      <td>  no</td>\n",
        "      <td> cellular</td>\n",
        "      <td> 16</td>\n",
        "      <td> apr</td>\n",
        "      <td> 185</td>\n",
        "      <td> 1</td>\n",
        "      <td> 330</td>\n",
        "      <td> 1</td>\n",
        "      <td> failure</td>\n",
        "      <td> no</td>\n",
        "    </tr>\n",
        "    <tr>\n",
        "      <th>3</th>\n",
        "      <td> 30</td>\n",
        "      <td>  management</td>\n",
        "      <td> married</td>\n",
        "      <td>  tertiary</td>\n",
        "      <td> no</td>\n",
        "      <td> 1476</td>\n",
        "      <td> yes</td>\n",
        "      <td> yes</td>\n",
        "      <td>  unknown</td>\n",
        "      <td>  3</td>\n",
        "      <td> jun</td>\n",
        "      <td> 199</td>\n",
        "      <td> 4</td>\n",
        "      <td>  -1</td>\n",
        "      <td> 0</td>\n",
        "      <td> unknown</td>\n",
        "      <td> no</td>\n",
        "    </tr>\n",
        "    <tr>\n",
        "      <th>4</th>\n",
        "      <td> 59</td>\n",
        "      <td> blue-collar</td>\n",
        "      <td> married</td>\n",
        "      <td> secondary</td>\n",
        "      <td> no</td>\n",
        "      <td>    0</td>\n",
        "      <td> yes</td>\n",
        "      <td>  no</td>\n",
        "      <td>  unknown</td>\n",
        "      <td>  5</td>\n",
        "      <td> may</td>\n",
        "      <td> 226</td>\n",
        "      <td> 1</td>\n",
        "      <td>  -1</td>\n",
        "      <td> 0</td>\n",
        "      <td> unknown</td>\n",
        "      <td> no</td>\n",
        "    </tr>\n",
        "  </tbody>\n",
        "</table>\n",
        "</div>"
       ],
       "metadata": {},
       "output_type": "pyout",
       "prompt_number": 52,
       "text": [
        "   age          job  marital  education default  balance housing loan  \\\n",
        "0   30   unemployed  married    primary      no     1787      no   no   \n",
        "1   33     services  married  secondary      no     4789     yes  yes   \n",
        "2   35   management   single   tertiary      no     1350     yes   no   \n",
        "3   30   management  married   tertiary      no     1476     yes  yes   \n",
        "4   59  blue-collar  married  secondary      no        0     yes   no   \n",
        "\n",
        "    contact  day month  duration  campaign  pdays  previous poutcome   y  \n",
        "0  cellular   19   oct        79         1     -1         0  unknown  no  \n",
        "1  cellular   11   may       220         1    339         4  failure  no  \n",
        "2  cellular   16   apr       185         1    330         1  failure  no  \n",
        "3   unknown    3   jun       199         4     -1         0  unknown  no  \n",
        "4   unknown    5   may       226         1     -1         0  unknown  no  "
       ]
      }
     ],
     "prompt_number": 52
    },
    {
     "cell_type": "heading",
     "level": 3,
     "metadata": {},
     "source": [
      "1. Use the bank.csv to explore the data. Observe the features: are they numbers? Are they strings? Are they binary? Are they continuous?"
     ]
    },
    {
     "cell_type": "code",
     "collapsed": false,
     "input": [
      "df.info()"
     ],
     "language": "python",
     "metadata": {},
     "outputs": [
      {
       "output_type": "stream",
       "stream": "stdout",
       "text": [
        "<class 'pandas.core.frame.DataFrame'>\n",
        "Int64Index: 4521 entries, 0 to 4520\n",
        "Data columns (total 17 columns):\n",
        "age          4521 non-null int64\n",
        "job          4521 non-null object\n",
        "marital      4521 non-null object\n",
        "education    4521 non-null object\n",
        "default      4521 non-null object\n",
        "balance      4521 non-null int64\n",
        "housing      4521 non-null object\n",
        "loan         4521 non-null object\n",
        "contact      4521 non-null object\n",
        "day          4521 non-null int64\n",
        "month        4521 non-null object\n",
        "duration     4521 non-null int64\n",
        "campaign     4521 non-null int64\n",
        "pdays        4521 non-null int64\n",
        "previous     4521 non-null int64\n",
        "poutcome     4521 non-null object\n",
        "y            4521 non-null object\n",
        "dtypes: int64(7), object(10)"
       ]
      }
     ],
     "prompt_number": 53
    },
    {
     "cell_type": "code",
     "collapsed": false,
     "input": [
      "df.describe()"
     ],
     "language": "python",
     "metadata": {},
     "outputs": [
      {
       "html": [
        "<div style=\"max-height:1000px;max-width:1500px;overflow:auto;\">\n",
        "<table border=\"1\" class=\"dataframe\">\n",
        "  <thead>\n",
        "    <tr style=\"text-align: right;\">\n",
        "      <th></th>\n",
        "      <th>age</th>\n",
        "      <th>balance</th>\n",
        "      <th>day</th>\n",
        "      <th>duration</th>\n",
        "      <th>campaign</th>\n",
        "      <th>pdays</th>\n",
        "      <th>previous</th>\n",
        "    </tr>\n",
        "  </thead>\n",
        "  <tbody>\n",
        "    <tr>\n",
        "      <th>count</th>\n",
        "      <td> 4521.000000</td>\n",
        "      <td>  4521.000000</td>\n",
        "      <td> 4521.000000</td>\n",
        "      <td> 4521.000000</td>\n",
        "      <td> 4521.000000</td>\n",
        "      <td> 4521.000000</td>\n",
        "      <td> 4521.000000</td>\n",
        "    </tr>\n",
        "    <tr>\n",
        "      <th>mean</th>\n",
        "      <td>   41.170095</td>\n",
        "      <td>  1422.657819</td>\n",
        "      <td>   15.915284</td>\n",
        "      <td>  263.961292</td>\n",
        "      <td>    2.793630</td>\n",
        "      <td>   39.766645</td>\n",
        "      <td>    0.542579</td>\n",
        "    </tr>\n",
        "    <tr>\n",
        "      <th>std</th>\n",
        "      <td>   10.576211</td>\n",
        "      <td>  3009.638142</td>\n",
        "      <td>    8.247667</td>\n",
        "      <td>  259.856633</td>\n",
        "      <td>    3.109807</td>\n",
        "      <td>  100.121124</td>\n",
        "      <td>    1.693562</td>\n",
        "    </tr>\n",
        "    <tr>\n",
        "      <th>min</th>\n",
        "      <td>   19.000000</td>\n",
        "      <td> -3313.000000</td>\n",
        "      <td>    1.000000</td>\n",
        "      <td>    4.000000</td>\n",
        "      <td>    1.000000</td>\n",
        "      <td>   -1.000000</td>\n",
        "      <td>    0.000000</td>\n",
        "    </tr>\n",
        "    <tr>\n",
        "      <th>25%</th>\n",
        "      <td>   33.000000</td>\n",
        "      <td>    69.000000</td>\n",
        "      <td>    9.000000</td>\n",
        "      <td>  104.000000</td>\n",
        "      <td>    1.000000</td>\n",
        "      <td>   -1.000000</td>\n",
        "      <td>    0.000000</td>\n",
        "    </tr>\n",
        "    <tr>\n",
        "      <th>50%</th>\n",
        "      <td>   39.000000</td>\n",
        "      <td>   444.000000</td>\n",
        "      <td>   16.000000</td>\n",
        "      <td>  185.000000</td>\n",
        "      <td>    2.000000</td>\n",
        "      <td>   -1.000000</td>\n",
        "      <td>    0.000000</td>\n",
        "    </tr>\n",
        "    <tr>\n",
        "      <th>75%</th>\n",
        "      <td>   49.000000</td>\n",
        "      <td>  1480.000000</td>\n",
        "      <td>   21.000000</td>\n",
        "      <td>  329.000000</td>\n",
        "      <td>    3.000000</td>\n",
        "      <td>   -1.000000</td>\n",
        "      <td>    0.000000</td>\n",
        "    </tr>\n",
        "    <tr>\n",
        "      <th>max</th>\n",
        "      <td>   87.000000</td>\n",
        "      <td> 71188.000000</td>\n",
        "      <td>   31.000000</td>\n",
        "      <td> 3025.000000</td>\n",
        "      <td>   50.000000</td>\n",
        "      <td>  871.000000</td>\n",
        "      <td>   25.000000</td>\n",
        "    </tr>\n",
        "  </tbody>\n",
        "</table>\n",
        "</div>"
       ],
       "metadata": {},
       "output_type": "pyout",
       "prompt_number": 54,
       "text": [
        "               age       balance          day     duration     campaign  \\\n",
        "count  4521.000000   4521.000000  4521.000000  4521.000000  4521.000000   \n",
        "mean     41.170095   1422.657819    15.915284   263.961292     2.793630   \n",
        "std      10.576211   3009.638142     8.247667   259.856633     3.109807   \n",
        "min      19.000000  -3313.000000     1.000000     4.000000     1.000000   \n",
        "25%      33.000000     69.000000     9.000000   104.000000     1.000000   \n",
        "50%      39.000000    444.000000    16.000000   185.000000     2.000000   \n",
        "75%      49.000000   1480.000000    21.000000   329.000000     3.000000   \n",
        "max      87.000000  71188.000000    31.000000  3025.000000    50.000000   \n",
        "\n",
        "             pdays     previous  \n",
        "count  4521.000000  4521.000000  \n",
        "mean     39.766645     0.542579  \n",
        "std     100.121124     1.693562  \n",
        "min      -1.000000     0.000000  \n",
        "25%      -1.000000     0.000000  \n",
        "50%      -1.000000     0.000000  \n",
        "75%      -1.000000     0.000000  \n",
        "max     871.000000    25.000000  "
       ]
      }
     ],
     "prompt_number": 54
    },
    {
     "cell_type": "markdown",
     "metadata": {},
     "source": [
      "There are 4,521 rows in this dataset with 17 features. Let's look at each feature..."
     ]
    },
    {
     "cell_type": "code",
     "collapsed": false,
     "input": [
      "df['age'].hist(bins=30)"
     ],
     "language": "python",
     "metadata": {},
     "outputs": [
      {
       "metadata": {},
       "output_type": "pyout",
       "prompt_number": 55,
       "text": [
        "<matplotlib.axes._subplots.AxesSubplot at 0x10b878290>"
       ]
      },
      {
       "metadata": {},
       "output_type": "display_data",
       "png": "[encoded data removed]",
       "text": [
        "<matplotlib.figure.Figure at 0x10b878f10>"
       ]
      }
     ],
     "prompt_number": 55
    },
    {
     "cell_type": "code",
     "collapsed": false,
     "input": [
      "df['job'].value_counts().plot(kind='bar');"
     ],
     "language": "python",
     "metadata": {},
     "outputs": [
      {
       "metadata": {},
       "output_type": "display_data",
       "png": "[encoded data removed]",
       "text": [
        "<matplotlib.figure.Figure at 0x10b878710>"
       ]
      }
     ],
     "prompt_number": 56
    },
    {
     "cell_type": "code",
     "collapsed": false,
     "input": [
      "df['marital'].value_counts().plot(kind='bar');"
     ],
     "language": "python",
     "metadata": {},
     "outputs": [
      {
       "metadata": {},
       "output_type": "display_data",
       "png": "[encoded data removed]",
       "text": [
        "<matplotlib.figure.Figure at 0x11336aa50>"
       ]
      }
     ],
     "prompt_number": 57
    },
    {
     "cell_type": "code",
     "collapsed": false,
     "input": [
      "df['education'].value_counts().plot(kind='bar');"
     ],
     "language": "python",
     "metadata": {},
     "outputs": [
      {
       "metadata": {},
       "output_type": "display_data",
       "png": "[encoded data removed]",
       "text": [
        "<matplotlib.figure.Figure at 0x112483190>"
       ]
      }
     ],
     "prompt_number": 58
    },
    {
     "cell_type": "code",
     "collapsed": false,
     "input": [
      "df['default'].value_counts().plot(kind='bar');"
     ],
     "language": "python",
     "metadata": {},
     "outputs": [
      {
       "metadata": {},
       "output_type": "display_data",
       "png": "[encoded data removed]",
       "text": [
        "<matplotlib.figure.Figure at 0x10b8630d0>"
       ]
      }
     ],
     "prompt_number": 59
    },
    {
     "cell_type": "code",
     "collapsed": false,
     "input": [
      "df['balance'].plot(kind='kde', linewidth=3, figsize=(12, 4));"
     ],
     "language": "python",
     "metadata": {},
     "outputs": [
      {
       "metadata": {},
       "output_type": "display_data",
       "png": "[encoded data removed]",
       "text": [
        "<matplotlib.figure.Figure at 0x112763150>"
       ]
      }
     ],
     "prompt_number": 60
    },
    {
     "cell_type": "code",
     "collapsed": false,
     "input": [
      "df['housing'].value_counts().plot(kind='bar');"
     ],
     "language": "python",
     "metadata": {},
     "outputs": [
      {
       "metadata": {},
       "output_type": "display_data",
       "png": "[encoded data removed]",
       "text": [
        "<matplotlib.figure.Figure at 0x11244df50>"
       ]
      }
     ],
     "prompt_number": 61
    },
    {
     "cell_type": "code",
     "collapsed": false,
     "input": [
      "df['loan'].value_counts().plot(kind='bar');"
     ],
     "language": "python",
     "metadata": {},
     "outputs": [
      {
       "metadata": {},
       "output_type": "display_data",
       "png": "[encoded data removed]",
       "text": [
        "<matplotlib.figure.Figure at 0x1127ac550>"
       ]
      }
     ],
     "prompt_number": 62
    },
    {
     "cell_type": "code",
     "collapsed": false,
     "input": [
      "df['contact'].value_counts().plot(kind='bar');"
     ],
     "language": "python",
     "metadata": {},
     "outputs": [
      {
       "metadata": {},
       "output_type": "display_data",
       "png": "[encoded data removed]",
       "text": [
        "<matplotlib.figure.Figure at 0x1135300d0>"
       ]
      }
     ],
     "prompt_number": 63
    },
    {
     "cell_type": "code",
     "collapsed": false,
     "input": [
      "df[['day', 'month']][0:5]"
     ],
     "language": "python",
     "metadata": {},
     "outputs": [
      {
       "html": [
        "<div style=\"max-height:1000px;max-width:1500px;overflow:auto;\">\n",
        "<table border=\"1\" class=\"dataframe\">\n",
        "  <thead>\n",
        "    <tr style=\"text-align: right;\">\n",
        "      <th></th>\n",
        "      <th>day</th>\n",
        "      <th>month</th>\n",
        "    </tr>\n",
        "  </thead>\n",
        "  <tbody>\n",
        "    <tr>\n",
        "      <th>0</th>\n",
        "      <td> 19</td>\n",
        "      <td> oct</td>\n",
        "    </tr>\n",
        "    <tr>\n",
        "      <th>1</th>\n",
        "      <td> 11</td>\n",
        "      <td> may</td>\n",
        "    </tr>\n",
        "    <tr>\n",
        "      <th>2</th>\n",
        "      <td> 16</td>\n",
        "      <td> apr</td>\n",
        "    </tr>\n",
        "    <tr>\n",
        "      <th>3</th>\n",
        "      <td>  3</td>\n",
        "      <td> jun</td>\n",
        "    </tr>\n",
        "    <tr>\n",
        "      <th>4</th>\n",
        "      <td>  5</td>\n",
        "      <td> may</td>\n",
        "    </tr>\n",
        "  </tbody>\n",
        "</table>\n",
        "</div>"
       ],
       "metadata": {},
       "output_type": "pyout",
       "prompt_number": 64,
       "text": [
        "   day month\n",
        "0   19   oct\n",
        "1   11   may\n",
        "2   16   apr\n",
        "3    3   jun\n",
        "4    5   may"
       ]
      }
     ],
     "prompt_number": 64
    },
    {
     "cell_type": "code",
     "collapsed": false,
     "input": [
      "df['duration'].plot(kind='kde', linewidth=3, figsize=(12, 4));"
     ],
     "language": "python",
     "metadata": {},
     "outputs": [
      {
       "metadata": {},
       "output_type": "display_data",
       "png": "[encoded data removed]",
       "text": [
        "<matplotlib.figure.Figure at 0x11247fa10>"
       ]
      }
     ],
     "prompt_number": 65
    },
    {
     "cell_type": "code",
     "collapsed": false,
     "input": [
      "df['campaign'].value_counts().plot(kind=\"bar\")"
     ],
     "language": "python",
     "metadata": {},
     "outputs": [
      {
       "metadata": {},
       "output_type": "pyout",
       "prompt_number": 66,
       "text": [
        "<matplotlib.axes._subplots.AxesSubplot at 0x1138ca890>"
       ]
      },
      {
       "metadata": {},
       "output_type": "display_data",
       "png": "[encoded data removed]",
       "text": [
        "<matplotlib.figure.Figure at 0x113c08cd0>"
       ]
      }
     ],
     "prompt_number": 66
    },
    {
     "cell_type": "code",
     "collapsed": false,
     "input": [
      "df['pdays'].plot(kind='kde', linewidth=3, figsize=(12, 4));"
     ],
     "language": "python",
     "metadata": {},
     "outputs": [
      {
       "metadata": {},
       "output_type": "display_data",
       "png": "[encoded data removed]",
       "text": [
        "<matplotlib.figure.Figure at 0x113616b10>"
       ]
      }
     ],
     "prompt_number": 67
    },
    {
     "cell_type": "code",
     "collapsed": false,
     "input": [
      "df['previous'].plot(kind='kde', linewidth=3, figsize=(12, 4));"
     ],
     "language": "python",
     "metadata": {},
     "outputs": [
      {
       "metadata": {},
       "output_type": "display_data",
       "png": "[encoded data removed]",
       "text": [
        "<matplotlib.figure.Figure at 0x11336a290>"
       ]
      }
     ],
     "prompt_number": 68
    },
    {
     "cell_type": "code",
     "collapsed": false,
     "input": [
      "df['poutcome'].value_counts().plot(kind=\"bar\")"
     ],
     "language": "python",
     "metadata": {},
     "outputs": [
      {
       "metadata": {},
       "output_type": "pyout",
       "prompt_number": 69,
       "text": [
        "<matplotlib.axes._subplots.AxesSubplot at 0x11338c0d0>"
       ]
      },
      {
       "metadata": {},
       "output_type": "display_data",
       "png": "[encoded data removed]",
       "text": [
        "<matplotlib.figure.Figure at 0x1127c65d0>"
       ]
      }
     ],
     "prompt_number": 69
    },
    {
     "cell_type": "code",
     "collapsed": false,
     "input": [
      "df['y'].value_counts().plot(kind=\"bar\")"
     ],
     "language": "python",
     "metadata": {},
     "outputs": [
      {
       "metadata": {},
       "output_type": "pyout",
       "prompt_number": 70,
       "text": [
        "<matplotlib.axes._subplots.AxesSubplot at 0x11275f610>"
       ]
      },
      {
       "metadata": {},
       "output_type": "display_data",
       "png": "[encoded data removed]",
       "text": [
        "<matplotlib.figure.Figure at 0x113505a90>"
       ]
      }
     ],
     "prompt_number": 70
    },
    {
     "cell_type": "heading",
     "level": 3,
     "metadata": {},
     "source": [
      "2. Learn about label encoders here: http://scikit- learn.org/stable/modules/preprocessing.html#encoding-categorical-features and transform the features to numerical features"
     ]
    },
    {
     "cell_type": "code",
     "collapsed": false,
     "input": [
      "# job          12 possible values\n",
      "# marital      3 possible values\n",
      "# education    4 possible values\n",
      "# default      2 possible values\n",
      "# housing      2 possible values\n",
      "# loan         2 values\n",
      "# contact      3 values\n",
      "# poutcome     4 values\n",
      "\n",
      "from sklearn import preprocessing\n",
      "\n",
      "def encode_labels(df):\n",
      "    job_le = preprocessing.LabelEncoder().fit(df['job'])\n",
      "    df['job_id'] = job_le.transform(df['job'])\n",
      "\n",
      "    marital_le = preprocessing.LabelEncoder().fit(df['marital'])\n",
      "    df['marital_id'] = marital_le.transform(df['marital'])\n",
      "\n",
      "    education_le = preprocessing.LabelEncoder().fit(df['education'])\n",
      "    df['education_id'] = education_le.transform(df['education'])\n",
      "\n",
      "    default_le = preprocessing.LabelEncoder().fit(df['default'])\n",
      "    df['default_id'] = default_le.transform(df['default'])\n",
      "\n",
      "    housing_le = preprocessing.LabelEncoder().fit(df['housing'])\n",
      "    df['housing_id'] = housing_le.transform(df['housing'])\n",
      "\n",
      "    loan_le = preprocessing.LabelEncoder().fit(df['loan'])\n",
      "    df['loan_id'] = loan_le.transform(df['loan'])\n",
      "\n",
      "    contact_le = preprocessing.LabelEncoder().fit(df['contact'])\n",
      "    df['contact_id'] = contact_le.transform(df['contact'])\n",
      "\n",
      "    poutcome_le = preprocessing.LabelEncoder().fit(df['poutcome'])\n",
      "    df['poutcome_id'] = poutcome_le.transform(df['poutcome'])\n",
      "\n",
      "encode_labels(df)\n",
      "df.head()"
     ],
     "language": "python",
     "metadata": {},
     "outputs": [
      {
       "html": [
        "<div style=\"max-height:1000px;max-width:1500px;overflow:auto;\">\n",
        "<table border=\"1\" class=\"dataframe\">\n",
        "  <thead>\n",
        "    <tr style=\"text-align: right;\">\n",
        "      <th></th>\n",
        "      <th>age</th>\n",
        "      <th>job</th>\n",
        "      <th>marital</th>\n",
        "      <th>education</th>\n",
        "      <th>default</th>\n",
        "      <th>balance</th>\n",
        "      <th>housing</th>\n",
        "      <th>loan</th>\n",
        "      <th>contact</th>\n",
        "      <th>day</th>\n",
        "      <th>...</th>\n",
        "      <th>poutcome</th>\n",
        "      <th>y</th>\n",
        "      <th>job_id</th>\n",
        "      <th>marital_id</th>\n",
        "      <th>education_id</th>\n",
        "      <th>default_id</th>\n",
        "      <th>housing_id</th>\n",
        "      <th>loan_id</th>\n",
        "      <th>contact_id</th>\n",
        "      <th>poutcome_id</th>\n",
        "    </tr>\n",
        "  </thead>\n",
        "  <tbody>\n",
        "    <tr>\n",
        "      <th>0</th>\n",
        "      <td> 30</td>\n",
        "      <td>  unemployed</td>\n",
        "      <td> married</td>\n",
        "      <td>   primary</td>\n",
        "      <td> no</td>\n",
        "      <td> 1787</td>\n",
        "      <td>  no</td>\n",
        "      <td>  no</td>\n",
        "      <td> cellular</td>\n",
        "      <td> 19</td>\n",
        "      <td>...</td>\n",
        "      <td> unknown</td>\n",
        "      <td> no</td>\n",
        "      <td> 10</td>\n",
        "      <td> 1</td>\n",
        "      <td> 0</td>\n",
        "      <td> 0</td>\n",
        "      <td> 0</td>\n",
        "      <td> 0</td>\n",
        "      <td> 0</td>\n",
        "      <td> 3</td>\n",
        "    </tr>\n",
        "    <tr>\n",
        "      <th>1</th>\n",
        "      <td> 33</td>\n",
        "      <td>    services</td>\n",
        "      <td> married</td>\n",
        "      <td> secondary</td>\n",
        "      <td> no</td>\n",
        "      <td> 4789</td>\n",
        "      <td> yes</td>\n",
        "      <td> yes</td>\n",
        "      <td> cellular</td>\n",
        "      <td> 11</td>\n",
        "      <td>...</td>\n",
        "      <td> failure</td>\n",
        "      <td> no</td>\n",
        "      <td>  7</td>\n",
        "      <td> 1</td>\n",
        "      <td> 1</td>\n",
        "      <td> 0</td>\n",
        "      <td> 1</td>\n",
        "      <td> 1</td>\n",
        "      <td> 0</td>\n",
        "      <td> 0</td>\n",
        "    </tr>\n",
        "    <tr>\n",
        "      <th>2</th>\n",
        "      <td> 35</td>\n",
        "      <td>  management</td>\n",
        "      <td>  single</td>\n",
        "      <td>  tertiary</td>\n",
        "      <td> no</td>\n",
        "      <td> 1350</td>\n",
        "      <td> yes</td>\n",
        "      <td>  no</td>\n",
        "      <td> cellular</td>\n",
        "      <td> 16</td>\n",
        "      <td>...</td>\n",
        "      <td> failure</td>\n",
        "      <td> no</td>\n",
        "      <td>  4</td>\n",
        "      <td> 2</td>\n",
        "      <td> 2</td>\n",
        "      <td> 0</td>\n",
        "      <td> 1</td>\n",
        "      <td> 0</td>\n",
        "      <td> 0</td>\n",
        "      <td> 0</td>\n",
        "    </tr>\n",
        "    <tr>\n",
        "      <th>3</th>\n",
        "      <td> 30</td>\n",
        "      <td>  management</td>\n",
        "      <td> married</td>\n",
        "      <td>  tertiary</td>\n",
        "      <td> no</td>\n",
        "      <td> 1476</td>\n",
        "      <td> yes</td>\n",
        "      <td> yes</td>\n",
        "      <td>  unknown</td>\n",
        "      <td>  3</td>\n",
        "      <td>...</td>\n",
        "      <td> unknown</td>\n",
        "      <td> no</td>\n",
        "      <td>  4</td>\n",
        "      <td> 1</td>\n",
        "      <td> 2</td>\n",
        "      <td> 0</td>\n",
        "      <td> 1</td>\n",
        "      <td> 1</td>\n",
        "      <td> 2</td>\n",
        "      <td> 3</td>\n",
        "    </tr>\n",
        "    <tr>\n",
        "      <th>4</th>\n",
        "      <td> 59</td>\n",
        "      <td> blue-collar</td>\n",
        "      <td> married</td>\n",
        "      <td> secondary</td>\n",
        "      <td> no</td>\n",
        "      <td>    0</td>\n",
        "      <td> yes</td>\n",
        "      <td>  no</td>\n",
        "      <td>  unknown</td>\n",
        "      <td>  5</td>\n",
        "      <td>...</td>\n",
        "      <td> unknown</td>\n",
        "      <td> no</td>\n",
        "      <td>  1</td>\n",
        "      <td> 1</td>\n",
        "      <td> 1</td>\n",
        "      <td> 0</td>\n",
        "      <td> 1</td>\n",
        "      <td> 0</td>\n",
        "      <td> 2</td>\n",
        "      <td> 3</td>\n",
        "    </tr>\n",
        "  </tbody>\n",
        "</table>\n",
        "<p>5 rows \u00d7 25 columns</p>\n",
        "</div>"
       ],
       "metadata": {},
       "output_type": "pyout",
       "prompt_number": 71,
       "text": [
        "   age          job  marital  education default  balance housing loan  \\\n",
        "0   30   unemployed  married    primary      no     1787      no   no   \n",
        "1   33     services  married  secondary      no     4789     yes  yes   \n",
        "2   35   management   single   tertiary      no     1350     yes   no   \n",
        "3   30   management  married   tertiary      no     1476     yes  yes   \n",
        "4   59  blue-collar  married  secondary      no        0     yes   no   \n",
        "\n",
        "    contact  day ...  poutcome   y  job_id  marital_id  education_id  \\\n",
        "0  cellular   19 ...   unknown  no      10           1             0   \n",
        "1  cellular   11 ...   failure  no       7           1             1   \n",
        "2  cellular   16 ...   failure  no       4           2             2   \n",
        "3   unknown    3 ...   unknown  no       4           1             2   \n",
        "4   unknown    5 ...   unknown  no       1           1             1   \n",
        "\n",
        "  default_id housing_id  loan_id  contact_id  poutcome_id  \n",
        "0          0          0        0           0            3  \n",
        "1          0          1        1           0            0  \n",
        "2          0          1        0           0            0  \n",
        "3          0          1        1           2            3  \n",
        "4          0          1        0           2            3  \n",
        "\n",
        "[5 rows x 25 columns]"
       ]
      }
     ],
     "prompt_number": 71
    },
    {
     "cell_type": "heading",
     "level": 3,
     "metadata": {},
     "source": [
      "3. Build a simple decision tree model to predict the classification goal."
     ]
    },
    {
     "cell_type": "code",
     "collapsed": false,
     "input": [
      "from sklearn import tree\n",
      "model = tree.DecisionTreeClassifier(random_state=0)\n",
      "model_columns = ['age', 'job_id', 'marital_id', 'education_id', 'default_id', 'housing_id',\n",
      "              'loan_id', 'contact_id', 'duration', 'campaign', 'pdays', 'previous']\n",
      "model.fit(df[model_columns], df['y'])\n",
      "\n",
      "# age          4521 non-null int64\n",
      "# job          4521 non-null object\n",
      "# marital      4521 non-null object\n",
      "# education    4521 non-null object\n",
      "# default      4521 non-null object\n",
      "# balance      4521 non-null int64\n",
      "# housing      4521 non-null object\n",
      "# loan         4521 non-null object\n",
      "# contact      4521 non-null object\n",
      "# day          4521 non-null int64\n",
      "# month        4521 non-null object\n",
      "# duration     4521 non-null int64\n",
      "# campaign     4521 non-null int64\n",
      "# pdays        4521 non-null int64\n",
      "# previous     4521 non-null int64\n",
      "# poutcome     4521 non-null object\n",
      "# y            4521 non-null object"
     ],
     "language": "python",
     "metadata": {},
     "outputs": [
      {
       "metadata": {},
       "output_type": "pyout",
       "prompt_number": 72,
       "text": [
        "DecisionTreeClassifier(compute_importances=None, criterion='gini',\n",
        "            max_depth=None, max_features=None, max_leaf_nodes=None,\n",
        "            min_density=None, min_samples_leaf=1, min_samples_split=2,\n",
        "            random_state=0, splitter='best')"
       ]
      }
     ],
     "prompt_number": 72
    },
    {
     "cell_type": "heading",
     "level": 3,
     "metadata": {},
     "source": [
      "4. Evaluate the result of the classification with cross-validation."
     ]
    },
    {
     "cell_type": "code",
     "collapsed": false,
     "input": [
      "from sklearn.cross_validation import KFold\n",
      "\n",
      "def cross_validate(X, y, classifier, k_fold) :\n",
      "\n",
      "    # derive a set of (random) training and testing indices\n",
      "    k_fold_indices = KFold(len(X), n_folds=k_fold,\n",
      "                           shuffle=True, random_state=0)\n",
      "\n",
      "    k_score_total = 0\n",
      "    # for each training and testing slices run the classifier, and score the results\n",
      "    for train_slice, test_slice in k_fold_indices :\n",
      "\n",
      "        model = classifier(X[ train_slice  ],\n",
      "                         y[ train_slice  ])\n",
      "\n",
      "        k_score = model.score(X[ test_slice ],\n",
      "                              y[ test_slice ])\n",
      "\n",
      "        k_score_total += k_score\n",
      "\n",
      "    # return the average accuracy\n",
      "    return k_score_total/k_fold"
     ],
     "language": "python",
     "metadata": {},
     "outputs": [],
     "prompt_number": 73
    },
    {
     "cell_type": "code",
     "collapsed": false,
     "input": [
      "cross_validate(df[model_columns].values, df.y, model.fit, 10)"
     ],
     "language": "python",
     "metadata": {},
     "outputs": [
      {
       "metadata": {},
       "output_type": "pyout",
       "prompt_number": 74,
       "text": [
        "0.85048203715642035"
       ]
      }
     ],
     "prompt_number": 74
    },
    {
     "cell_type": "heading",
     "level": 3,
     "metadata": {},
     "source": [
      "5. Extend the analysis and cross-validation to bank-additional-full.csv. How does the performance change"
     ]
    },
    {
     "cell_type": "code",
     "collapsed": false,
     "input": [
      "df = pd.read_table('bank-additional/bank-additional-full.csv', sep=';')\n",
      "encode_labels(df)\n",
      "cross_validate(df[model_columns].values, df.y, model.fit, 10)"
     ],
     "language": "python",
     "metadata": {},
     "outputs": [
      {
       "metadata": {},
       "output_type": "pyout",
       "prompt_number": 75,
       "text": [
        "0.86051771361018914"
       ]
      }
     ],
     "prompt_number": 75
    },
    {
     "cell_type": "markdown",
     "metadata": {},
     "source": [
      "Working on a larger data set helps the accuracy of our model but not by much, even if we have 10 times more data."
     ]
    },
    {
     "cell_type": "heading",
     "level": 3,
     "metadata": {},
     "source": [
      "6. Improve your model by using an ensemble method (RandomForest or ExtraTrees). How does the cross-validation performance improve"
     ]
    },
    {
     "cell_type": "code",
     "collapsed": false,
     "input": [
      "from sklearn.ensemble import RandomForestClassifier\n",
      "\n",
      "model = RandomForestClassifier(max_depth=5,random_state=0)\n",
      "cross_validate(df[model_columns].values, df.y, model.fit, 10)"
     ],
     "language": "python",
     "metadata": {},
     "outputs": [
      {
       "metadata": {},
       "output_type": "pyout",
       "prompt_number": 76,
       "text": [
        "0.89899987867026854"
       ]
      }
     ],
     "prompt_number": 76
    },
    {
     "cell_type": "heading",
     "level": 3,
     "metadata": {},
     "source": [
      "7. Optional: read about learning curves here: http://scikit- learn.org/stable/auto_examples/plot_learning_curve.html and plot the learning curves for your best model."
     ]
    },
    {
     "cell_type": "code",
     "collapsed": false,
     "input": [
      "from sklearn.datasets import load_digits\n",
      "from sklearn import cross_validation\n",
      "from sklearn.naive_bayes import GaussianNB\n",
      "from sklearn.learning_curve import learning_curve\n",
      "from sklearn.svm import SVC\n",
      "\n",
      "def plot_learning_curve(estimator, title, X, y, ylim=None, cv=None,\n",
      "                        n_jobs=1, train_sizes=np.linspace(.1, 1.0, 5)):\n",
      "    \"\"\"\n",
      "    Generate a simple plot of the test and traning learning curve.\n",
      "\n",
      "    Parameters\n",
      "    ----------\n",
      "    estimator : object type that implements the \"fit\" and \"predict\" methods\n",
      "        An object of that type which is cloned for each validation.\n",
      "\n",
      "    title : string\n",
      "        Title for the chart.\n",
      "\n",
      "    X : array-like, shape (n_samples, n_features)\n",
      "        Training vector, where n_samples is the number of samples and\n",
      "        n_features is the number of features.\n",
      "\n",
      "    y : array-like, shape (n_samples) or (n_samples, n_features), optional\n",
      "        Target relative to X for classification or regression;\n",
      "        None for unsupervised learning.\n",
      "\n",
      "    ylim : tuple, shape (ymin, ymax), optional\n",
      "        Defines minimum and maximum yvalues plotted.\n",
      "\n",
      "    cv : integer, cross-validation generator, optional\n",
      "        If an integer is passed, it is the number of folds (defaults to 3).\n",
      "        Specific cross-validation objects can be passed, see\n",
      "        sklearn.cross_validation module for the list of possible objects\n",
      "\n",
      "    n_jobs : integer, optional\n",
      "        Number of jobs to run in parallel (default 1).\n",
      "    \"\"\"\n",
      "    plt.figure(figsize=(13,6))\n",
      "    plt.title(title)\n",
      "    if ylim is not None:\n",
      "        plt.ylim(*ylim)\n",
      "    plt.xlabel(\"Training examples\")\n",
      "    plt.ylabel(\"Score\")\n",
      "    train_sizes, train_scores, test_scores = learning_curve(\n",
      "        estimator, X, y, cv=cv, n_jobs=n_jobs, train_sizes=train_sizes)\n",
      "    train_scores_mean = np.mean(train_scores, axis=1)\n",
      "    train_scores_std = np.std(train_scores, axis=1)\n",
      "    test_scores_mean = np.mean(test_scores, axis=1)\n",
      "    test_scores_std = np.std(test_scores, axis=1)\n",
      "    plt.grid()\n",
      "    \n",
      "    plt.fill_between(train_sizes, train_scores_mean - train_scores_std,\n",
      "                     train_scores_mean + train_scores_std, alpha=0.1,\n",
      "                     color=\"r\")\n",
      "    plt.fill_between(train_sizes, test_scores_mean - test_scores_std,\n",
      "                     test_scores_mean + test_scores_std, alpha=0.1, color=\"g\")\n",
      "    plt.plot(train_sizes, train_scores_mean, 'o-', color=\"r\",\n",
      "             label=\"Training score\")\n",
      "    plt.plot(train_sizes, test_scores_mean, 'o-', color=\"g\",\n",
      "             label=\"Cross-validation score\")\n",
      "\n",
      "    plt.legend(loc=\"best\")\n",
      "    return plt\n",
      "\n",
      "\n",
      "X = df[model_columns].values\n",
      "y = df.y\n",
      "cv = cross_validation.ShuffleSplit(X.shape[0], n_iter=100, test_size=0.2, random_state=0)\n",
      "plot_learning_curve(model, \n",
      "                    \"Learning Curves\", \n",
      "                    X, \n",
      "                    y, \n",
      "                    ylim=(0.86, 1.0), \n",
      "                    cv=cv, \n",
      "                    train_sizes=[100, 250, 500, 1000, 2500, 5000, 7500, 10000, 15000, 20000, 25000 ], \n",
      "                    n_jobs=4)\n"
     ],
     "language": "python",
     "metadata": {},
     "outputs": [
      {
       "metadata": {},
       "output_type": "pyout",
       "prompt_number": 89,
       "text": [
        "<module 'matplotlib.pyplot' from '/usr/local/lib/python2.7/site-packages/matplotlib/pyplot.pyc'>"
       ]
      },
      {
       "metadata": {},
       "output_type": "display_data",
       "png": "[encoded data removed]",
       "text": [
        "<matplotlib.figure.Figure at 0x1110799d0>"
       ]
      }
     ],
     "prompt_number": 89
    },
    {
     "cell_type": "heading",
     "level": 3,
     "metadata": {},
     "source": [
      "8. Optional: register on BigML.com, upload the dataset and run a model. How does the result compare with your result?"
     ]
    },
    {
     "cell_type": "code",
     "collapsed": false,
     "input": [
      "from IPython.display import Image\n",
      "Image(url='https://photos-2.dropbox.com/t/1/AADv_64qyptaMzaLLRKaDYeLMpqYYezYqmUHl5NawUdx9Q/12/712284/png/1024x768/3/1416207600/0/2/Screenshot%202014-11-16%2021.46.10.png/64-5BfuXhWgb7Pt7qmGo6zJsDub3KWv00dSya53jt1M')\n"
     ],
     "language": "python",
     "metadata": {},
     "outputs": [
      {
       "html": [
        "<img src=\"https://photos-2.dropbox.com/t/1/AADv_64qyptaMzaLLRKaDYeLMpqYYezYqmUHl5NawUdx9Q/12/712284/png/1024x768/3/1416207600/0/2/Screenshot%202014-11-16%2021.46.10.png/64-5BfuXhWgb7Pt7qmGo6zJsDub3KWv00dSya53jt1M\"/>"
       ],
       "metadata": {},
       "output_type": "pyout",
       "prompt_number": 29,
       "text": [
        "<IPython.core.display.Image at 0x10ff5b490>"
       ]
      }
     ],
     "prompt_number": 29
    },
    {
     "cell_type": "markdown",
     "metadata": {},
     "source": [
      "The \"1-click model\" function of BigML gets a 88.66% confidence. 2 percentage points higher than my Decision Tree model, and it took 2 minutes of work :)"
     ]
    }
   ],
   "metadata": {}
  }
 ]
}