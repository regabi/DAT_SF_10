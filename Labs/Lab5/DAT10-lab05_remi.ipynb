{
 "metadata": {
  "name": "",
  "signature": "sha256:ec19d0be069be16e76a04ceefcc9351a6b679d8d00a728a75ae26d5f978f1e2b"
 },
 "nbformat": 3,
 "nbformat_minor": 0,
 "worksheets": [
  {
   "cells": [
    {
     "cell_type": "markdown",
     "metadata": {},
     "source": [
      "# GA Data Science 10 (DAT10) - Lab5\n",
      "\n",
      "### Regressions\n",
      "\n",
      "Francesco Mosconi, Chief Data Officer, [Spire Inc.](spire.io)\n",
      "\n",
      "Craig Sakuma, Data Scientist"
     ]
    },
    {
     "cell_type": "code",
     "collapsed": false,
     "input": [
      "#usual imports\n",
      "import numpy as np\n",
      "import matplotlib.pyplot as plt\n",
      "import pandas as pd\n",
      "\n",
      "%matplotlib inline\n",
      "\n",
      "# Statsmodel APIs\n",
      "import statsmodels.api as sm"
     ],
     "language": "python",
     "metadata": {},
     "outputs": [],
     "prompt_number": 1
    },
    {
     "cell_type": "markdown",
     "metadata": {},
     "source": [
      "## Linear Regression"
     ]
    },
    {
     "cell_type": "markdown",
     "metadata": {},
     "source": [
      "Load a subset of the housing data"
     ]
    },
    {
     "cell_type": "code",
     "collapsed": false,
     "input": [
      "data = pd.read_csv('houses.csv')"
     ],
     "language": "python",
     "metadata": {},
     "outputs": [],
     "prompt_number": 2
    },
    {
     "cell_type": "code",
     "collapsed": false,
     "input": [
      "data.head()"
     ],
     "language": "python",
     "metadata": {},
     "outputs": [
      {
       "html": [
        "<div style=\"max-height:1000px;max-width:1500px;overflow:auto;\">\n",
        "<table border=\"1\" class=\"dataframe\">\n",
        "  <thead>\n",
        "    <tr style=\"text-align: right;\">\n",
        "      <th></th>\n",
        "      <th>sqft</th>\n",
        "      <th>bedrooms</th>\n",
        "      <th>age</th>\n",
        "      <th>price</th>\n",
        "    </tr>\n",
        "  </thead>\n",
        "  <tbody>\n",
        "    <tr>\n",
        "      <th>0</th>\n",
        "      <td> 2104</td>\n",
        "      <td> 3</td>\n",
        "      <td> 70</td>\n",
        "      <td> 399900</td>\n",
        "    </tr>\n",
        "    <tr>\n",
        "      <th>1</th>\n",
        "      <td> 1600</td>\n",
        "      <td> 3</td>\n",
        "      <td> 28</td>\n",
        "      <td> 329900</td>\n",
        "    </tr>\n",
        "    <tr>\n",
        "      <th>2</th>\n",
        "      <td> 2400</td>\n",
        "      <td> 3</td>\n",
        "      <td> 44</td>\n",
        "      <td> 369000</td>\n",
        "    </tr>\n",
        "    <tr>\n",
        "      <th>3</th>\n",
        "      <td> 1416</td>\n",
        "      <td> 2</td>\n",
        "      <td> 49</td>\n",
        "      <td> 232000</td>\n",
        "    </tr>\n",
        "    <tr>\n",
        "      <th>4</th>\n",
        "      <td> 3000</td>\n",
        "      <td> 4</td>\n",
        "      <td> 75</td>\n",
        "      <td> 539900</td>\n",
        "    </tr>\n",
        "  </tbody>\n",
        "</table>\n",
        "</div>"
       ],
       "metadata": {},
       "output_type": "pyout",
       "prompt_number": 3,
       "text": [
        "   sqft  bedrooms  age   price\n",
        "0  2104         3   70  399900\n",
        "1  1600         3   28  329900\n",
        "2  2400         3   44  369000\n",
        "3  1416         2   49  232000\n",
        "4  3000         4   75  539900"
       ]
      }
     ],
     "prompt_number": 3
    },
    {
     "cell_type": "code",
     "collapsed": false,
     "input": [
      "data_n = pd.read_csv('houses_norm.csv')"
     ],
     "language": "python",
     "metadata": {},
     "outputs": [],
     "prompt_number": 4
    },
    {
     "cell_type": "markdown",
     "metadata": {},
     "source": [
      "The dataset contains 4 columns. Our objective is to build a model that is able to predict the price of a house, using the information contained in the other columns (sqft, bedrooms and age)"
     ]
    },
    {
     "cell_type": "code",
     "collapsed": false,
     "input": [
      "from pandas.tools.plotting import scatter_matrix\n",
      "scat = scatter_matrix(data, figsize = (10,10))"
     ],
     "language": "python",
     "metadata": {},
     "outputs": [
      {
       "metadata": {},
       "output_type": "display_data",
       "png": "[encoded data removed]",
       "text": [
        "<matplotlib.figure.Figure at 0x112221250>"
       ]
      }
     ],
     "prompt_number": 7
    },
    {
     "cell_type": "markdown",
     "metadata": {},
     "source": [
      "Run 1. x = sqft, data is raw (so graph units are nice right)"
     ]
    },
    {
     "cell_type": "markdown",
     "metadata": {},
     "source": [
      "Let''s start with a simple model that uses the house surface to estimate the price"
     ]
    },
    {
     "cell_type": "code",
     "collapsed": false,
     "input": [
      "x = data['sqft'].values\n",
      "y = data['price'].values"
     ],
     "language": "python",
     "metadata": {},
     "outputs": [],
     "prompt_number": 8
    },
    {
     "cell_type": "code",
     "collapsed": false,
     "input": [
      "x"
     ],
     "language": "python",
     "metadata": {},
     "outputs": [
      {
       "metadata": {},
       "output_type": "pyout",
       "prompt_number": 9,
       "text": [
        "array([2104, 1600, 2400, 1416, 3000, 1985, 1534, 1427, 1380, 1494, 1940,\n",
        "       2000, 1890, 4478, 1268, 2300, 1320, 1236, 2609, 3031, 1767, 1888,\n",
        "       1604, 1962, 3890, 1100, 1458, 2526, 2200, 2637, 1839, 1000, 2040,\n",
        "       3137, 1811, 1437, 1239, 2132, 4215, 2162, 1664, 2238, 2567, 1200,\n",
        "        852, 1852, 1203])"
       ]
      }
     ],
     "prompt_number": 9
    },
    {
     "cell_type": "code",
     "collapsed": false,
     "input": [
      "y"
     ],
     "language": "python",
     "metadata": {},
     "outputs": [
      {
       "metadata": {},
       "output_type": "pyout",
       "prompt_number": 10,
       "text": [
        "array([399900, 329900, 369000, 232000, 539900, 299900, 314900, 198999,\n",
        "       212000, 242500, 239999, 347000, 329999, 699900, 259900, 449900,\n",
        "       299900, 199900, 499998, 599000, 252900, 255000, 242900, 259900,\n",
        "       573900, 249900, 464500, 469000, 475000, 299900, 349900, 169900,\n",
        "       314900, 579900, 285900, 249900, 229900, 345000, 549000, 287000,\n",
        "       368500, 329900, 314000, 299000, 179900, 299900, 239500])"
       ]
      }
     ],
     "prompt_number": 10
    },
    {
     "cell_type": "code",
     "collapsed": false,
     "input": [
      "X = sm.add_constant(x, prepend=True)"
     ],
     "language": "python",
     "metadata": {},
     "outputs": [],
     "prompt_number": 11
    },
    {
     "cell_type": "code",
     "collapsed": false,
     "input": [
      "X"
     ],
     "language": "python",
     "metadata": {},
     "outputs": [
      {
       "metadata": {},
       "output_type": "pyout",
       "prompt_number": 12,
       "text": [
        "array([[  1.00000000e+00,   2.10400000e+03],\n",
        "       [  1.00000000e+00,   1.60000000e+03],\n",
        "       [  1.00000000e+00,   2.40000000e+03],\n",
        "       [  1.00000000e+00,   1.41600000e+03],\n",
        "       [  1.00000000e+00,   3.00000000e+03],\n",
        "       [  1.00000000e+00,   1.98500000e+03],\n",
        "       [  1.00000000e+00,   1.53400000e+03],\n",
        "       [  1.00000000e+00,   1.42700000e+03],\n",
        "       [  1.00000000e+00,   1.38000000e+03],\n",
        "       [  1.00000000e+00,   1.49400000e+03],\n",
        "       [  1.00000000e+00,   1.94000000e+03],\n",
        "       [  1.00000000e+00,   2.00000000e+03],\n",
        "       [  1.00000000e+00,   1.89000000e+03],\n",
        "       [  1.00000000e+00,   4.47800000e+03],\n",
        "       [  1.00000000e+00,   1.26800000e+03],\n",
        "       [  1.00000000e+00,   2.30000000e+03],\n",
        "       [  1.00000000e+00,   1.32000000e+03],\n",
        "       [  1.00000000e+00,   1.23600000e+03],\n",
        "       [  1.00000000e+00,   2.60900000e+03],\n",
        "       [  1.00000000e+00,   3.03100000e+03],\n",
        "       [  1.00000000e+00,   1.76700000e+03],\n",
        "       [  1.00000000e+00,   1.88800000e+03],\n",
        "       [  1.00000000e+00,   1.60400000e+03],\n",
        "       [  1.00000000e+00,   1.96200000e+03],\n",
        "       [  1.00000000e+00,   3.89000000e+03],\n",
        "       [  1.00000000e+00,   1.10000000e+03],\n",
        "       [  1.00000000e+00,   1.45800000e+03],\n",
        "       [  1.00000000e+00,   2.52600000e+03],\n",
        "       [  1.00000000e+00,   2.20000000e+03],\n",
        "       [  1.00000000e+00,   2.63700000e+03],\n",
        "       [  1.00000000e+00,   1.83900000e+03],\n",
        "       [  1.00000000e+00,   1.00000000e+03],\n",
        "       [  1.00000000e+00,   2.04000000e+03],\n",
        "       [  1.00000000e+00,   3.13700000e+03],\n",
        "       [  1.00000000e+00,   1.81100000e+03],\n",
        "       [  1.00000000e+00,   1.43700000e+03],\n",
        "       [  1.00000000e+00,   1.23900000e+03],\n",
        "       [  1.00000000e+00,   2.13200000e+03],\n",
        "       [  1.00000000e+00,   4.21500000e+03],\n",
        "       [  1.00000000e+00,   2.16200000e+03],\n",
        "       [  1.00000000e+00,   1.66400000e+03],\n",
        "       [  1.00000000e+00,   2.23800000e+03],\n",
        "       [  1.00000000e+00,   2.56700000e+03],\n",
        "       [  1.00000000e+00,   1.20000000e+03],\n",
        "       [  1.00000000e+00,   8.52000000e+02],\n",
        "       [  1.00000000e+00,   1.85200000e+03],\n",
        "       [  1.00000000e+00,   1.20300000e+03]])"
       ]
      }
     ],
     "prompt_number": 12
    },
    {
     "cell_type": "code",
     "collapsed": false,
     "input": [
      "results = sm.OLS(y, X).fit()\n",
      "results"
     ],
     "language": "python",
     "metadata": {},
     "outputs": [
      {
       "metadata": {},
       "output_type": "pyout",
       "prompt_number": 14,
       "text": [
        "<statsmodels.regression.linear_model.RegressionResultsWrapper at 0x1116fe090>"
       ]
      }
     ],
     "prompt_number": 14
    },
    {
     "cell_type": "code",
     "collapsed": false,
     "input": [
      "intercept, slope = results.params\n",
      "r2 = results.rsquared"
     ],
     "language": "python",
     "metadata": {},
     "outputs": [],
     "prompt_number": 18
    },
    {
     "cell_type": "code",
     "collapsed": false,
     "input": [
      "intercept"
     ],
     "language": "python",
     "metadata": {},
     "outputs": [
      {
       "metadata": {},
       "output_type": "pyout",
       "prompt_number": 19,
       "text": [
        "71270.492448729055"
       ]
      }
     ],
     "prompt_number": 19
    },
    {
     "cell_type": "code",
     "collapsed": false,
     "input": [
      "slope"
     ],
     "language": "python",
     "metadata": {},
     "outputs": [
      {
       "metadata": {},
       "output_type": "pyout",
       "prompt_number": 20,
       "text": [
        "134.52528772024129"
       ]
      }
     ],
     "prompt_number": 20
    },
    {
     "cell_type": "code",
     "collapsed": false,
     "input": [
      "r2"
     ],
     "language": "python",
     "metadata": {},
     "outputs": [
      {
       "metadata": {},
       "output_type": "pyout",
       "prompt_number": 21,
       "text": [
        "0.73100378397553056"
       ]
      }
     ],
     "prompt_number": 21
    },
    {
     "cell_type": "code",
     "collapsed": false,
     "input": [
      "xl = np.array([min(x), max(x)])\n",
      "yl = intercept + slope * xl\n",
      "print('x1={0}'.format(xl))\n",
      "print('yl={0}'.format(yl))"
     ],
     "language": "python",
     "metadata": {},
     "outputs": [
      {
       "output_type": "stream",
       "stream": "stdout",
       "text": [
        "x1=[ 852 4478]\n",
        "yl=[ 185886.03758637  673674.73085997]\n"
       ]
      }
     ],
     "prompt_number": 33
    },
    {
     "cell_type": "code",
     "collapsed": false,
     "input": [
      "plt.plot(x, y, 'bo')\n",
      "plt.title(\"Price VS Sqft\")\n",
      "plt.plot(xl, yl, 'r-')\n",
      "plt.show"
     ],
     "language": "python",
     "metadata": {},
     "outputs": [
      {
       "metadata": {},
       "output_type": "pyout",
       "prompt_number": 34,
       "text": [
        "<function matplotlib.pyplot.show>"
       ]
      },
      {
       "metadata": {},
       "output_type": "display_data",
       "png": "[encoded data removed]",
       "text": [
        "<matplotlib.figure.Figure at 0x1121a4a50>"
       ]
      }
     ],
     "prompt_number": 34
    },
    {
     "cell_type": "code",
     "collapsed": false,
     "input": [
      "results.summary()"
     ],
     "language": "python",
     "metadata": {},
     "outputs": [
      {
       "html": [
        "<table class=\"simpletable\">\n",
        "<caption>OLS Regression Results</caption>\n",
        "<tr>\n",
        "  <th>Dep. Variable:</th>            <td>y</td>        <th>  R-squared:         </th> <td>   0.731</td>\n",
        "</tr>\n",
        "<tr>\n",
        "  <th>Model:</th>                   <td>OLS</td>       <th>  Adj. R-squared:    </th> <td>   0.725</td>\n",
        "</tr>\n",
        "<tr>\n",
        "  <th>Method:</th>             <td>Least Squares</td>  <th>  F-statistic:       </th> <td>   122.3</td>\n",
        "</tr>\n",
        "<tr>\n",
        "  <th>Date:</th>             <td>Mon, 20 Oct 2014</td> <th>  Prob (F-statistic):</th> <td>2.03e-14</td>\n",
        "</tr>\n",
        "<tr>\n",
        "  <th>Time:</th>                 <td>20:24:52</td>     <th>  Log-Likelihood:    </th> <td> -586.94</td>\n",
        "</tr>\n",
        "<tr>\n",
        "  <th>No. Observations:</th>      <td>    47</td>      <th>  AIC:               </th> <td>   1178.</td>\n",
        "</tr>\n",
        "<tr>\n",
        "  <th>Df Residuals:</th>          <td>    45</td>      <th>  BIC:               </th> <td>   1182.</td>\n",
        "</tr>\n",
        "<tr>\n",
        "  <th>Df Model:</th>              <td>     1</td>      <th>                     </th>     <td> </td>   \n",
        "</tr>\n",
        "</table>\n",
        "<table class=\"simpletable\">\n",
        "<tr>\n",
        "    <td></td>       <th>coef</th>     <th>std err</th>      <th>t</th>      <th>P>|t|</th> <th>[95.0% Conf. Int.]</th> \n",
        "</tr>\n",
        "<tr>\n",
        "  <th>const</th> <td> 7.127e+04</td> <td> 2.61e+04</td> <td>    2.725</td> <td> 0.009</td> <td> 1.86e+04  1.24e+05</td>\n",
        "</tr>\n",
        "<tr>\n",
        "  <th>x1</th>    <td>  134.5253</td> <td>   12.165</td> <td>   11.058</td> <td> 0.000</td> <td>  110.024   159.027</td>\n",
        "</tr>\n",
        "</table>\n",
        "<table class=\"simpletable\">\n",
        "<tr>\n",
        "  <th>Omnibus:</th>       <td> 3.751</td> <th>  Durbin-Watson:     </th> <td>   1.863</td>\n",
        "</tr>\n",
        "<tr>\n",
        "  <th>Prob(Omnibus):</th> <td> 0.153</td> <th>  Jarque-Bera (JB):  </th> <td>   2.726</td>\n",
        "</tr>\n",
        "<tr>\n",
        "  <th>Skew:</th>          <td> 0.557</td> <th>  Prob(JB):          </th> <td>   0.256</td>\n",
        "</tr>\n",
        "<tr>\n",
        "  <th>Kurtosis:</th>      <td> 3.390</td> <th>  Cond. No.          </th> <td>5.88e+03</td>\n",
        "</tr>\n",
        "</table>"
       ],
       "metadata": {},
       "output_type": "pyout",
       "prompt_number": 35,
       "text": [
        "<class 'statsmodels.iolib.summary.Summary'>\n",
        "\"\"\"\n",
        "                            OLS Regression Results                            \n",
        "==============================================================================\n",
        "Dep. Variable:                      y   R-squared:                       0.731\n",
        "Model:                            OLS   Adj. R-squared:                  0.725\n",
        "Method:                 Least Squares   F-statistic:                     122.3\n",
        "Date:                Mon, 20 Oct 2014   Prob (F-statistic):           2.03e-14\n",
        "Time:                        20:24:52   Log-Likelihood:                -586.94\n",
        "No. Observations:                  47   AIC:                             1178.\n",
        "Df Residuals:                      45   BIC:                             1182.\n",
        "Df Model:                           1                                         \n",
        "==============================================================================\n",
        "                 coef    std err          t      P>|t|      [95.0% Conf. Int.]\n",
        "------------------------------------------------------------------------------\n",
        "const       7.127e+04   2.61e+04      2.725      0.009      1.86e+04  1.24e+05\n",
        "x1           134.5253     12.165     11.058      0.000       110.024   159.027\n",
        "==============================================================================\n",
        "Omnibus:                        3.751   Durbin-Watson:                   1.863\n",
        "Prob(Omnibus):                  0.153   Jarque-Bera (JB):                2.726\n",
        "Skew:                           0.557   Prob(JB):                        0.256\n",
        "Kurtosis:                       3.390   Cond. No.                     5.88e+03\n",
        "==============================================================================\n",
        "\n",
        "Warnings:\n",
        "[1] The condition number is large, 5.88e+03. This might indicate that there are\n",
        "strong multicollinearity or other numerical problems.\n",
        "\"\"\""
       ]
      }
     ],
     "prompt_number": 35
    },
    {
     "cell_type": "markdown",
     "metadata": {},
     "source": [
      "Run 2:  x = sqft, data is normalized (so summary stats are nice)"
     ]
    },
    {
     "cell_type": "code",
     "collapsed": false,
     "input": [
      "data_n.head()"
     ],
     "language": "python",
     "metadata": {},
     "outputs": [
      {
       "html": [
        "<div style=\"max-height:1000px;max-width:1500px;overflow:auto;\">\n",
        "<table border=\"1\" class=\"dataframe\">\n",
        "  <thead>\n",
        "    <tr style=\"text-align: right;\">\n",
        "      <th></th>\n",
        "      <th>sqft</th>\n",
        "      <th>bedrooms</th>\n",
        "      <th>age</th>\n",
        "      <th>price</th>\n",
        "    </tr>\n",
        "  </thead>\n",
        "  <tbody>\n",
        "    <tr>\n",
        "      <th>0</th>\n",
        "      <td> 2.104</td>\n",
        "      <td> 3</td>\n",
        "      <td> 7.0</td>\n",
        "      <td> 3.999</td>\n",
        "    </tr>\n",
        "    <tr>\n",
        "      <th>1</th>\n",
        "      <td> 1.600</td>\n",
        "      <td> 3</td>\n",
        "      <td> 2.8</td>\n",
        "      <td> 3.299</td>\n",
        "    </tr>\n",
        "    <tr>\n",
        "      <th>2</th>\n",
        "      <td> 2.400</td>\n",
        "      <td> 3</td>\n",
        "      <td> 4.4</td>\n",
        "      <td> 3.690</td>\n",
        "    </tr>\n",
        "    <tr>\n",
        "      <th>3</th>\n",
        "      <td> 1.416</td>\n",
        "      <td> 2</td>\n",
        "      <td> 4.9</td>\n",
        "      <td> 2.320</td>\n",
        "    </tr>\n",
        "    <tr>\n",
        "      <th>4</th>\n",
        "      <td> 3.000</td>\n",
        "      <td> 4</td>\n",
        "      <td> 7.5</td>\n",
        "      <td> 5.399</td>\n",
        "    </tr>\n",
        "  </tbody>\n",
        "</table>\n",
        "</div>"
       ],
       "metadata": {},
       "output_type": "pyout",
       "prompt_number": 37,
       "text": [
        "    sqft  bedrooms  age  price\n",
        "0  2.104         3  7.0  3.999\n",
        "1  1.600         3  2.8  3.299\n",
        "2  2.400         3  4.4  3.690\n",
        "3  1.416         2  4.9  2.320\n",
        "4  3.000         4  7.5  5.399"
       ]
      }
     ],
     "prompt_number": 37
    },
    {
     "cell_type": "markdown",
     "metadata": {},
     "source": [
      "### EXERCISE #1\n",
      "#### Create the linear model for data_n to predict price based on sqft. \n",
      "#### What are the slope, intercept and r-squared?"
     ]
    },
    {
     "cell_type": "code",
     "collapsed": false,
     "input": [
      "x = data['sqft'].values\n",
      "y = data['price'].values\n",
      "X = sm.add_constant(x, prepend=True)\n",
      "results = sm.OLS(y, X).fit()\n",
      "intercept, slope = results.params\n",
      "\n",
      "print(\"intercept={0}\".format(intercept))\n",
      "print(\"slope={0}\".format(slope))"
     ],
     "language": "python",
     "metadata": {},
     "outputs": [
      {
       "output_type": "stream",
       "stream": "stdout",
       "text": [
        "intercept=71270.4924487\n",
        "slope=134.52528772\n"
       ]
      }
     ],
     "prompt_number": 42
    },
    {
     "cell_type": "markdown",
     "metadata": {},
     "source": [
      "#### Plot the data along with the line for the regression model"
     ]
    },
    {
     "cell_type": "code",
     "collapsed": false,
     "input": [
      "xl = np.array([min(x), max(x)])\n",
      "yl = intercept + slope * xl\n",
      "\n",
      "plt.plot(x, y, 'bo')\n",
      "plt.title(\"Price VS Sqft\")\n",
      "plt.plot(xl, yl, 'r-')\n",
      "plt.show"
     ],
     "language": "python",
     "metadata": {},
     "outputs": [
      {
       "metadata": {},
       "output_type": "pyout",
       "prompt_number": 60,
       "text": [
        "<function matplotlib.pyplot.show>"
       ]
      },
      {
       "metadata": {},
       "output_type": "display_data",
       "png": "[encoded data removed]",
       "text": [
        "<matplotlib.figure.Figure at 0x11228c1d0>"
       ]
      }
     ],
     "prompt_number": 60
    },
    {
     "cell_type": "markdown",
     "metadata": {},
     "source": [
      "#### Bonus challenge: Change the color and shape of the data points."
     ]
    },
    {
     "cell_type": "code",
     "collapsed": false,
     "input": [
      "plt.plot(x, y, 'bx')\n",
      "plt.title(\"Price VS Sqft\")\n",
      "plt.plot(xl, yl, 'g-')\n",
      "plt.show"
     ],
     "language": "python",
     "metadata": {},
     "outputs": [
      {
       "metadata": {},
       "output_type": "pyout",
       "prompt_number": 61,
       "text": [
        "<function matplotlib.pyplot.show>"
       ]
      },
      {
       "metadata": {},
       "output_type": "display_data",
       "png": "[encoded data removed]",
       "text": [
        "<matplotlib.figure.Figure at 0x110f77bd0>"
       ]
      }
     ],
     "prompt_number": 61
    },
    {
     "cell_type": "markdown",
     "metadata": {},
     "source": [
      "Confidence Intervals"
     ]
    },
    {
     "cell_type": "code",
     "collapsed": false,
     "input": [
      "from statsmodels.sandbox.regression.predstd import wls_prediction_std\n",
      "\n",
      "prstd, iv_l, iv_u = wls_prediction_std(results)"
     ],
     "language": "python",
     "metadata": {},
     "outputs": [],
     "prompt_number": 66
    },
    {
     "cell_type": "code",
     "collapsed": false,
     "input": [
      "results"
     ],
     "language": "python",
     "metadata": {},
     "outputs": [
      {
       "metadata": {},
       "output_type": "pyout",
       "prompt_number": 67,
       "text": [
        "<statsmodels.regression.linear_model.RegressionResultsWrapper at 0x111fd2c50>"
       ]
      }
     ],
     "prompt_number": 67
    },
    {
     "cell_type": "code",
     "collapsed": false,
     "input": [
      "fig, ax = 0,0\n",
      "fig, ax = plt.subplots(figsize=(8,6))\n",
      "\n",
      "ax.plot(x, y, 'o', label=\"data\")\n",
      "ax.plot(x, results.fittedvalues, 'r-', label=\"OLS\")\n",
      "ax.plot(x, iv_u, 'r-')\n",
      "ax.plot(x, iv_l, 'r-')\n",
      "ax.legend(loc='best');"
     ],
     "language": "python",
     "metadata": {},
     "outputs": [
      {
       "metadata": {},
       "output_type": "display_data",
       "png": "[encoded data removed]",
       "text": [
        "<matplotlib.figure.Figure at 0x111efe250>"
       ]
      }
     ],
     "prompt_number": 72
    },
    {
     "cell_type": "markdown",
     "metadata": {},
     "source": [
      "## Function of Bedrooms?"
     ]
    },
    {
     "cell_type": "markdown",
     "metadata": {},
     "source": [
      "Run 3:  x = bdrms, data is raw (so graph units are nice)"
     ]
    },
    {
     "cell_type": "code",
     "collapsed": false,
     "input": [
      "x = data['bedrooms'].values\n",
      "y = data['price'].values\n",
      "\n",
      "X = sm.add_constant(x, prepend=True)\n",
      "results = sm.OLS(y, X).fit()\n",
      "intercept, slope = results.params\n",
      "r2 = results.rsquared\n",
      "plt.plot(x, y, 'bo')\n",
      "xl = np.array([min(x), max(x)])\n",
      "yl = intercept + slope * xl\n",
      "plt.plot(xl, yl, 'r-')\n",
      "plt.title(r2)\n",
      "plt.show()"
     ],
     "language": "python",
     "metadata": {},
     "outputs": [
      {
       "metadata": {},
       "output_type": "display_data",
       "png": "[encoded data removed]",
       "text": [
        "<matplotlib.figure.Figure at 0x1116bbf50>"
       ]
      }
     ],
     "prompt_number": 75
    },
    {
     "cell_type": "code",
     "collapsed": false,
     "input": [
      "results.summary()"
     ],
     "language": "python",
     "metadata": {},
     "outputs": [
      {
       "html": [
        "<table class=\"simpletable\">\n",
        "<caption>OLS Regression Results</caption>\n",
        "<tr>\n",
        "  <th>Dep. Variable:</th>            <td>y</td>        <th>  R-squared:         </th> <td>   0.196</td>\n",
        "</tr>\n",
        "<tr>\n",
        "  <th>Model:</th>                   <td>OLS</td>       <th>  Adj. R-squared:    </th> <td>   0.178</td>\n",
        "</tr>\n",
        "<tr>\n",
        "  <th>Method:</th>             <td>Least Squares</td>  <th>  F-statistic:       </th> <td>   10.94</td>\n",
        "</tr>\n",
        "<tr>\n",
        "  <th>Date:</th>             <td>Mon, 20 Oct 2014</td> <th>  Prob (F-statistic):</th>  <td>0.00185</td>\n",
        "</tr>\n",
        "<tr>\n",
        "  <th>Time:</th>                 <td>20:42:55</td>     <th>  Log-Likelihood:    </th> <td> -612.68</td>\n",
        "</tr>\n",
        "<tr>\n",
        "  <th>No. Observations:</th>      <td>    47</td>      <th>  AIC:               </th> <td>   1229.</td>\n",
        "</tr>\n",
        "<tr>\n",
        "  <th>Df Residuals:</th>          <td>    45</td>      <th>  BIC:               </th> <td>   1233.</td>\n",
        "</tr>\n",
        "<tr>\n",
        "  <th>Df Model:</th>              <td>     1</td>      <th>                     </th>     <td> </td>   \n",
        "</tr>\n",
        "</table>\n",
        "<table class=\"simpletable\">\n",
        "<tr>\n",
        "    <td></td>       <th>coef</th>     <th>std err</th>      <th>t</th>      <th>P>|t|</th> <th>[95.0% Conf. Int.]</th> \n",
        "</tr>\n",
        "<tr>\n",
        "  <th>const</th> <td>   1.1e+05</td> <td> 7.16e+04</td> <td>    1.537</td> <td> 0.131</td> <td>-3.41e+04  2.54e+05</td>\n",
        "</tr>\n",
        "<tr>\n",
        "  <th>x1</th>    <td> 7.267e+04</td> <td>  2.2e+04</td> <td>    3.308</td> <td> 0.002</td> <td> 2.84e+04  1.17e+05</td>\n",
        "</tr>\n",
        "</table>\n",
        "<table class=\"simpletable\">\n",
        "<tr>\n",
        "  <th>Omnibus:</th>       <td> 4.709</td> <th>  Durbin-Watson:     </th> <td>   2.232</td>\n",
        "</tr>\n",
        "<tr>\n",
        "  <th>Prob(Omnibus):</th> <td> 0.095</td> <th>  Jarque-Bera (JB):  </th> <td>   4.412</td>\n",
        "</tr>\n",
        "<tr>\n",
        "  <th>Skew:</th>          <td> 0.691</td> <th>  Prob(JB):          </th> <td>   0.110</td>\n",
        "</tr>\n",
        "<tr>\n",
        "  <th>Kurtosis:</th>      <td> 2.413</td> <th>  Cond. No.          </th> <td>    15.4</td>\n",
        "</tr>\n",
        "</table>"
       ],
       "metadata": {},
       "output_type": "pyout",
       "prompt_number": 76,
       "text": [
        "<class 'statsmodels.iolib.summary.Summary'>\n",
        "\"\"\"\n",
        "                            OLS Regression Results                            \n",
        "==============================================================================\n",
        "Dep. Variable:                      y   R-squared:                       0.196\n",
        "Model:                            OLS   Adj. R-squared:                  0.178\n",
        "Method:                 Least Squares   F-statistic:                     10.94\n",
        "Date:                Mon, 20 Oct 2014   Prob (F-statistic):            0.00185\n",
        "Time:                        20:42:55   Log-Likelihood:                -612.68\n",
        "No. Observations:                  47   AIC:                             1229.\n",
        "Df Residuals:                      45   BIC:                             1233.\n",
        "Df Model:                           1                                         \n",
        "==============================================================================\n",
        "                 coef    std err          t      P>|t|      [95.0% Conf. Int.]\n",
        "------------------------------------------------------------------------------\n",
        "const         1.1e+05   7.16e+04      1.537      0.131     -3.41e+04  2.54e+05\n",
        "x1          7.267e+04    2.2e+04      3.308      0.002      2.84e+04  1.17e+05\n",
        "==============================================================================\n",
        "Omnibus:                        4.709   Durbin-Watson:                   2.232\n",
        "Prob(Omnibus):                  0.095   Jarque-Bera (JB):                4.412\n",
        "Skew:                           0.691   Prob(JB):                        0.110\n",
        "Kurtosis:                       2.413   Cond. No.                         15.4\n",
        "==============================================================================\n",
        "\"\"\""
       ]
      }
     ],
     "prompt_number": 76
    },
    {
     "cell_type": "code",
     "collapsed": false,
     "input": [
      "x = data_n['bedrooms'].values\n",
      "y = data_n['price'].values\n",
      "\n",
      "X = sm.add_constant(x, prepend=True)\n",
      "results = sm.OLS(y, X).fit()\n",
      "intercept, slope = results.params\n",
      "r2 = results.rsquared\n",
      "plt.plot(x, y, 'bo')\n",
      "xl = np.array([min(x), max(x)])\n",
      "yl = intercept + slope * xl\n",
      "plt.plot(xl, yl, 'r-')\n",
      "plt.show()"
     ],
     "language": "python",
     "metadata": {},
     "outputs": [
      {
       "metadata": {},
       "output_type": "display_data",
       "png": "[encoded data removed]",
       "text": [
        "<matplotlib.figure.Figure at 0x10ad52a90>"
       ]
      }
     ],
     "prompt_number": 16
    },
    {
     "cell_type": "code",
     "collapsed": false,
     "input": [
      "print results.summary()"
     ],
     "language": "python",
     "metadata": {},
     "outputs": [
      {
       "output_type": "stream",
       "stream": "stdout",
       "text": [
        "                            OLS Regression Results                            \n",
        "==============================================================================\n",
        "Dep. Variable:                      y   R-squared:                       0.196\n",
        "Model:                            OLS   Adj. R-squared:                  0.178\n",
        "Method:                 Least Squares   F-statistic:                     10.94\n",
        "Date:                Mon, 20 Oct 2014   Prob (F-statistic):            0.00185\n",
        "Time:                        20:46:32   Log-Likelihood:                -612.68\n",
        "No. Observations:                  47   AIC:                             1229.\n",
        "Df Residuals:                      45   BIC:                             1233.\n",
        "Df Model:                           1                                         \n",
        "==============================================================================\n",
        "                 coef    std err          t      P>|t|      [95.0% Conf. Int.]\n",
        "------------------------------------------------------------------------------\n",
        "const         1.1e+05   7.16e+04      1.537      0.131     -3.41e+04  2.54e+05\n",
        "x1          7.267e+04    2.2e+04      3.308      0.002      2.84e+04  1.17e+05\n",
        "==============================================================================\n",
        "Omnibus:                        4.709   Durbin-Watson:                   2.232\n",
        "Prob(Omnibus):                  0.095   Jarque-Bera (JB):                4.412\n",
        "Skew:                           0.691   Prob(JB):                        0.110\n",
        "Kurtosis:                       2.413   Cond. No.                         15.4\n",
        "==============================================================================\n"
       ]
      }
     ],
     "prompt_number": 77
    },
    {
     "cell_type": "markdown",
     "metadata": {},
     "source": [
      "## Function of Age?"
     ]
    },
    {
     "cell_type": "code",
     "collapsed": false,
     "input": [
      "x = data['age'].values\n",
      "y = data['price'].values\n",
      "\n",
      "X = sm.add_constant(x, prepend=True)\n",
      "results = sm.OLS(y, X).fit()\n",
      "intercept, slope = results.params\n",
      "r2 = results.rsquared\n",
      "plt.plot(x, y, 'bo')\n",
      "xl = np.array([min(x), max(x)])\n",
      "yl = intercept + slope * xl\n",
      "plt.plot(xl, yl, 'r-')\n",
      "plt.title(r2)\n",
      "plt.show()"
     ],
     "language": "python",
     "metadata": {},
     "outputs": [
      {
       "metadata": {},
       "output_type": "display_data",
       "png": "[encoded data removed]",
       "text": [
        "<matplotlib.figure.Figure at 0x1116bb890>"
       ]
      }
     ],
     "prompt_number": 78
    },
    {
     "cell_type": "code",
     "collapsed": false,
     "input": [
      "print results.summary()"
     ],
     "language": "python",
     "metadata": {},
     "outputs": [
      {
       "output_type": "stream",
       "stream": "stdout",
       "text": [
        "                            OLS Regression Results                            \n",
        "==============================================================================\n",
        "Dep. Variable:                      y   R-squared:                       0.003\n",
        "Model:                            OLS   Adj. R-squared:                 -0.019\n",
        "Method:                 Least Squares   F-statistic:                    0.1210\n",
        "Date:                Mon, 20 Oct 2014   Prob (F-statistic):              0.730\n",
        "Time:                        20:46:41   Log-Likelihood:                -617.73\n",
        "No. Observations:                  47   AIC:                             1239.\n",
        "Df Residuals:                      45   BIC:                             1243.\n",
        "Df Model:                           1                                         \n",
        "==============================================================================\n",
        "                 coef    std err          t      P>|t|      [95.0% Conf. Int.]\n",
        "------------------------------------------------------------------------------\n",
        "const       3.283e+05   3.94e+04      8.341      0.000      2.49e+05  4.08e+05\n",
        "x1           283.1207    813.819      0.348      0.730     -1355.994  1922.236\n",
        "==============================================================================\n",
        "Omnibus:                        8.665   Durbin-Watson:                   2.063\n",
        "Prob(Omnibus):                  0.013   Jarque-Bera (JB):                8.374\n",
        "Skew:                           1.025   Prob(JB):                       0.0152\n",
        "Kurtosis:                       3.270   Cond. No.                         103.\n",
        "==============================================================================\n"
       ]
      }
     ],
     "prompt_number": 79
    },
    {
     "cell_type": "code",
     "collapsed": false,
     "input": [
      "x = data_n['age'].values\n",
      "y = data_n['price'].values \n",
      "\n",
      "X = sm.add_constant(x, prepend=True)\n",
      "results = sm.OLS(y, X).fit()\n",
      "intercept, slope = results.params\n",
      "r2 = results.rsquared\n",
      "plt.plot(x, y, 'bo')\n",
      "xl = np.array([min(x), max(x)])\n",
      "yl = intercept + slope * xl\n",
      "plt.plot(xl, yl, 'r-')\n",
      "plt.show()"
     ],
     "language": "python",
     "metadata": {},
     "outputs": [
      {
       "metadata": {},
       "output_type": "display_data",
       "png": "[encoded data removed]",
       "text": [
        "<matplotlib.figure.Figure at 0x111c6ebd0>"
       ]
      }
     ],
     "prompt_number": 80
    },
    {
     "cell_type": "code",
     "collapsed": false,
     "input": [
      "print results.summary()"
     ],
     "language": "python",
     "metadata": {},
     "outputs": [
      {
       "output_type": "stream",
       "stream": "stdout",
       "text": [
        "                            OLS Regression Results                            \n",
        "==============================================================================\n",
        "Dep. Variable:                      y   R-squared:                       0.003\n",
        "Model:                            OLS   Adj. R-squared:                 -0.019\n",
        "Method:                 Least Squares   F-statistic:                    0.1210\n",
        "Date:                Mon, 20 Oct 2014   Prob (F-statistic):              0.730\n",
        "Time:                        20:46:43   Log-Likelihood:                -76.624\n",
        "No. Observations:                  47   AIC:                             157.2\n",
        "Df Residuals:                      45   BIC:                             160.9\n",
        "Df Model:                           1                                         \n",
        "==============================================================================\n",
        "                 coef    std err          t      P>|t|      [95.0% Conf. Int.]\n",
        "------------------------------------------------------------------------------\n",
        "const          3.2831      0.394      8.341      0.000         2.490     4.076\n",
        "x1             0.0283      0.081      0.348      0.730        -0.136     0.192\n",
        "==============================================================================\n",
        "Omnibus:                        8.665   Durbin-Watson:                   2.063\n",
        "Prob(Omnibus):                  0.013   Jarque-Bera (JB):                8.374\n",
        "Skew:                           1.025   Prob(JB):                       0.0152\n",
        "Kurtosis:                       3.270   Cond. No.                         10.7\n",
        "==============================================================================\n"
       ]
      }
     ],
     "prompt_number": 81
    },
    {
     "cell_type": "markdown",
     "metadata": {},
     "source": [
      "## Function of multiple variables"
     ]
    },
    {
     "cell_type": "code",
     "collapsed": false,
     "input": [
      "x = data_n[['sqft', 'bedrooms','age']].values\n",
      "y = data_n['price'].values\n",
      "\n",
      "X = sm.add_constant(x, prepend=True)\n",
      "results = sm.OLS(y, X).fit()"
     ],
     "language": "python",
     "metadata": {},
     "outputs": [],
     "prompt_number": 82
    },
    {
     "cell_type": "code",
     "collapsed": false,
     "input": [
      "results.summary()"
     ],
     "language": "python",
     "metadata": {},
     "outputs": [
      {
       "html": [
        "<table class=\"simpletable\">\n",
        "<caption>OLS Regression Results</caption>\n",
        "<tr>\n",
        "  <th>Dep. Variable:</th>            <td>y</td>        <th>  R-squared:         </th> <td>   0.733</td>\n",
        "</tr>\n",
        "<tr>\n",
        "  <th>Model:</th>                   <td>OLS</td>       <th>  Adj. R-squared:    </th> <td>   0.715</td>\n",
        "</tr>\n",
        "<tr>\n",
        "  <th>Method:</th>             <td>Least Squares</td>  <th>  F-statistic:       </th> <td>   39.38</td>\n",
        "</tr>\n",
        "<tr>\n",
        "  <th>Date:</th>             <td>Mon, 20 Oct 2014</td> <th>  Prob (F-statistic):</th> <td>2.12e-12</td>\n",
        "</tr>\n",
        "<tr>\n",
        "  <th>Time:</th>                 <td>20:46:47</td>     <th>  Log-Likelihood:    </th> <td> -45.641</td>\n",
        "</tr>\n",
        "<tr>\n",
        "  <th>No. Observations:</th>      <td>    47</td>      <th>  AIC:               </th> <td>   99.28</td>\n",
        "</tr>\n",
        "<tr>\n",
        "  <th>Df Residuals:</th>          <td>    43</td>      <th>  BIC:               </th> <td>   106.7</td>\n",
        "</tr>\n",
        "<tr>\n",
        "  <th>Df Model:</th>              <td>     3</td>      <th>                     </th>     <td> </td>   \n",
        "</tr>\n",
        "</table>\n",
        "<table class=\"simpletable\">\n",
        "<tr>\n",
        "    <td></td>       <th>coef</th>     <th>std err</th>      <th>t</th>      <th>P>|t|</th> <th>[95.0% Conf. Int.]</th> \n",
        "</tr>\n",
        "<tr>\n",
        "  <th>const</th> <td>    0.9245</td> <td>    0.449</td> <td>    2.060</td> <td> 0.045</td> <td>    0.019     1.830</td>\n",
        "</tr>\n",
        "<tr>\n",
        "  <th>x1</th>    <td>    1.3933</td> <td>    0.150</td> <td>    9.305</td> <td> 0.000</td> <td>    1.091     1.695</td>\n",
        "</tr>\n",
        "<tr>\n",
        "  <th>x2</th>    <td>   -0.0862</td> <td>    0.156</td> <td>   -0.551</td> <td> 0.584</td> <td>   -0.402     0.229</td>\n",
        "</tr>\n",
        "<tr>\n",
        "  <th>x3</th>    <td>   -0.0081</td> <td>    0.043</td> <td>   -0.188</td> <td> 0.852</td> <td>   -0.095     0.079</td>\n",
        "</tr>\n",
        "</table>\n",
        "<table class=\"simpletable\">\n",
        "<tr>\n",
        "  <th>Omnibus:</th>       <td> 3.841</td> <th>  Durbin-Watson:     </th> <td>   1.819</td>\n",
        "</tr>\n",
        "<tr>\n",
        "  <th>Prob(Omnibus):</th> <td> 0.147</td> <th>  Jarque-Bera (JB):  </th> <td>   2.771</td>\n",
        "</tr>\n",
        "<tr>\n",
        "  <th>Skew:</th>          <td> 0.552</td> <th>  Prob(JB):          </th> <td>   0.250</td>\n",
        "</tr>\n",
        "<tr>\n",
        "  <th>Kurtosis:</th>      <td> 3.444</td> <th>  Cond. No.          </th> <td>    28.9</td>\n",
        "</tr>\n",
        "</table>"
       ],
       "metadata": {},
       "output_type": "pyout",
       "prompt_number": 83,
       "text": [
        "<class 'statsmodels.iolib.summary.Summary'>\n",
        "\"\"\"\n",
        "                            OLS Regression Results                            \n",
        "==============================================================================\n",
        "Dep. Variable:                      y   R-squared:                       0.733\n",
        "Model:                            OLS   Adj. R-squared:                  0.715\n",
        "Method:                 Least Squares   F-statistic:                     39.38\n",
        "Date:                Mon, 20 Oct 2014   Prob (F-statistic):           2.12e-12\n",
        "Time:                        20:46:47   Log-Likelihood:                -45.641\n",
        "No. Observations:                  47   AIC:                             99.28\n",
        "Df Residuals:                      43   BIC:                             106.7\n",
        "Df Model:                           3                                         \n",
        "==============================================================================\n",
        "                 coef    std err          t      P>|t|      [95.0% Conf. Int.]\n",
        "------------------------------------------------------------------------------\n",
        "const          0.9245      0.449      2.060      0.045         0.019     1.830\n",
        "x1             1.3933      0.150      9.305      0.000         1.091     1.695\n",
        "x2            -0.0862      0.156     -0.551      0.584        -0.402     0.229\n",
        "x3            -0.0081      0.043     -0.188      0.852        -0.095     0.079\n",
        "==============================================================================\n",
        "Omnibus:                        3.841   Durbin-Watson:                   1.819\n",
        "Prob(Omnibus):                  0.147   Jarque-Bera (JB):                2.771\n",
        "Skew:                           0.552   Prob(JB):                        0.250\n",
        "Kurtosis:                       3.444   Cond. No.                         28.9\n",
        "==============================================================================\n",
        "\"\"\""
       ]
      }
     ],
     "prompt_number": 83
    },
    {
     "cell_type": "markdown",
     "metadata": {},
     "source": [
      "## 3D Plot"
     ]
    },
    {
     "cell_type": "code",
     "collapsed": false,
     "input": [
      "# 3d plot\n",
      "from mpl_toolkits.mplot3d import Axes3D\n",
      "\n",
      "x = data[['sqft', 'bedrooms','age']].values\n",
      "y = data['price'].values\n",
      "\n",
      "fignum = 1\n",
      "fig = plt.figure(fignum, figsize=(8, 6))\n",
      "plt.clf()\n",
      "ax = Axes3D(fig, rect=[0, 0, .95, 1], elev=18, azim=104)\n",
      "\n",
      "plt.cla()\n",
      "X = sm.add_constant(x, prepend=True)\n",
      "results = sm.OLS(y, X).fit()\n",
      "\n",
      "# est.fit(X)\n",
      "# ax.scatter(X[:, 0], X[:, 1], X[:, 3], c=labels.astype(np.float))\n",
      "ax.scatter(X[:, 1], X[:, 0], X[:, 3])\n",
      "\n",
      "ax.w_xaxis.set_ticklabels([])\n",
      "ax.w_yaxis.set_ticklabels([])\n",
      "ax.w_zaxis.set_ticklabels([])\n",
      "ax.set_ylabel('Sqft')\n",
      "ax.set_xlabel('Bedrooms')\n",
      "ax.set_zlabel('Price')\n",
      "plt.show()"
     ],
     "language": "python",
     "metadata": {},
     "outputs": [
      {
       "metadata": {},
       "output_type": "display_data",
       "png": "[encoded data removed]",
       "text": [
        "<matplotlib.figure.Figure at 0x111a9f3d0>"
       ]
      }
     ],
     "prompt_number": 90
    },
    {
     "cell_type": "markdown",
     "metadata": {},
     "source": [
      "## Just sqft & bedrooms"
     ]
    },
    {
     "cell_type": "code",
     "collapsed": false,
     "input": [
      "x = data_n[['sqft', 'bedrooms']].values\n",
      "y = data_n['price'].values\n",
      "X = sm.add_constant(x, prepend=True)\n",
      "results = sm.OLS(y, X).fit()\n",
      "results.summary()"
     ],
     "language": "python",
     "metadata": {},
     "outputs": [
      {
       "html": [
        "<table class=\"simpletable\">\n",
        "<caption>OLS Regression Results</caption>\n",
        "<tr>\n",
        "  <th>Dep. Variable:</th>            <td>y</td>        <th>  R-squared:         </th> <td>   0.733</td>\n",
        "</tr>\n",
        "<tr>\n",
        "  <th>Model:</th>                   <td>OLS</td>       <th>  Adj. R-squared:    </th> <td>   0.721</td>\n",
        "</tr>\n",
        "<tr>\n",
        "  <th>Method:</th>             <td>Least Squares</td>  <th>  F-statistic:       </th> <td>   60.38</td>\n",
        "</tr>\n",
        "<tr>\n",
        "  <th>Date:</th>             <td>Mon, 20 Oct 2014</td> <th>  Prob (F-statistic):</th> <td>2.43e-13</td>\n",
        "</tr>\n",
        "<tr>\n",
        "  <th>Time:</th>                 <td>20:57:40</td>     <th>  Log-Likelihood:    </th> <td> -45.660</td>\n",
        "</tr>\n",
        "<tr>\n",
        "  <th>No. Observations:</th>      <td>    47</td>      <th>  AIC:               </th> <td>   97.32</td>\n",
        "</tr>\n",
        "<tr>\n",
        "  <th>Df Residuals:</th>          <td>    44</td>      <th>  BIC:               </th> <td>   102.9</td>\n",
        "</tr>\n",
        "<tr>\n",
        "  <th>Df Model:</th>              <td>     2</td>      <th>                     </th>     <td> </td>   \n",
        "</tr>\n",
        "</table>\n",
        "<table class=\"simpletable\">\n",
        "<tr>\n",
        "    <td></td>       <th>coef</th>     <th>std err</th>      <th>t</th>      <th>P>|t|</th> <th>[95.0% Conf. Int.]</th> \n",
        "</tr>\n",
        "<tr>\n",
        "  <th>const</th> <td>    0.8960</td> <td>    0.418</td> <td>    2.145</td> <td> 0.037</td> <td>    0.054     1.738</td>\n",
        "</tr>\n",
        "<tr>\n",
        "  <th>x1</th>    <td>    1.3921</td> <td>    0.148</td> <td>    9.409</td> <td> 0.000</td> <td>    1.094     1.690</td>\n",
        "</tr>\n",
        "<tr>\n",
        "  <th>x2</th>    <td>   -0.0874</td> <td>    0.155</td> <td>   -0.566</td> <td> 0.575</td> <td>   -0.399     0.224</td>\n",
        "</tr>\n",
        "</table>\n",
        "<table class=\"simpletable\">\n",
        "<tr>\n",
        "  <th>Omnibus:</th>       <td> 4.083</td> <th>  Durbin-Watson:     </th> <td>   1.826</td>\n",
        "</tr>\n",
        "<tr>\n",
        "  <th>Prob(Omnibus):</th> <td> 0.130</td> <th>  Jarque-Bera (JB):  </th> <td>   2.977</td>\n",
        "</tr>\n",
        "<tr>\n",
        "  <th>Skew:</th>          <td> 0.567</td> <th>  Prob(JB):          </th> <td>   0.226</td>\n",
        "</tr>\n",
        "<tr>\n",
        "  <th>Kurtosis:</th>      <td> 3.484</td> <th>  Cond. No.          </th> <td>    18.0</td>\n",
        "</tr>\n",
        "</table>"
       ],
       "metadata": {},
       "output_type": "pyout",
       "prompt_number": 85,
       "text": [
        "<class 'statsmodels.iolib.summary.Summary'>\n",
        "\"\"\"\n",
        "                            OLS Regression Results                            \n",
        "==============================================================================\n",
        "Dep. Variable:                      y   R-squared:                       0.733\n",
        "Model:                            OLS   Adj. R-squared:                  0.721\n",
        "Method:                 Least Squares   F-statistic:                     60.38\n",
        "Date:                Mon, 20 Oct 2014   Prob (F-statistic):           2.43e-13\n",
        "Time:                        20:57:40   Log-Likelihood:                -45.660\n",
        "No. Observations:                  47   AIC:                             97.32\n",
        "Df Residuals:                      44   BIC:                             102.9\n",
        "Df Model:                           2                                         \n",
        "==============================================================================\n",
        "                 coef    std err          t      P>|t|      [95.0% Conf. Int.]\n",
        "------------------------------------------------------------------------------\n",
        "const          0.8960      0.418      2.145      0.037         0.054     1.738\n",
        "x1             1.3921      0.148      9.409      0.000         1.094     1.690\n",
        "x2            -0.0874      0.155     -0.566      0.575        -0.399     0.224\n",
        "==============================================================================\n",
        "Omnibus:                        4.083   Durbin-Watson:                   1.826\n",
        "Prob(Omnibus):                  0.130   Jarque-Bera (JB):                2.977\n",
        "Skew:                           0.567   Prob(JB):                        0.226\n",
        "Kurtosis:                       3.484   Cond. No.                         18.0\n",
        "==============================================================================\n",
        "\"\"\""
       ]
      }
     ],
     "prompt_number": 85
    },
    {
     "cell_type": "markdown",
     "metadata": {},
     "source": [
      "## The formula API"
     ]
    },
    {
     "cell_type": "code",
     "collapsed": false,
     "input": [
      "import statsmodels.formula.api as smf"
     ],
     "language": "python",
     "metadata": {},
     "outputs": [],
     "prompt_number": 95
    },
    {
     "cell_type": "code",
     "collapsed": false,
     "input": [
      "results = smf.ols('price ~ sqft + bedrooms', data=data).fit()"
     ],
     "language": "python",
     "metadata": {},
     "outputs": [],
     "prompt_number": 96
    },
    {
     "cell_type": "code",
     "collapsed": false,
     "input": [
      "results.summary()"
     ],
     "language": "python",
     "metadata": {},
     "outputs": [
      {
       "html": [
        "<table class=\"simpletable\">\n",
        "<caption>OLS Regression Results</caption>\n",
        "<tr>\n",
        "  <th>Dep. Variable:</th>          <td>price</td>      <th>  R-squared:         </th> <td>   0.733</td>\n",
        "</tr>\n",
        "<tr>\n",
        "  <th>Model:</th>                   <td>OLS</td>       <th>  Adj. R-squared:    </th> <td>   0.721</td>\n",
        "</tr>\n",
        "<tr>\n",
        "  <th>Method:</th>             <td>Least Squares</td>  <th>  F-statistic:       </th> <td>   60.38</td>\n",
        "</tr>\n",
        "<tr>\n",
        "  <th>Date:</th>             <td>Mon, 20 Oct 2014</td> <th>  Prob (F-statistic):</th> <td>2.43e-13</td>\n",
        "</tr>\n",
        "<tr>\n",
        "  <th>Time:</th>                 <td>21:02:04</td>     <th>  Log-Likelihood:    </th> <td> -586.77</td>\n",
        "</tr>\n",
        "<tr>\n",
        "  <th>No. Observations:</th>      <td>    47</td>      <th>  AIC:               </th> <td>   1180.</td>\n",
        "</tr>\n",
        "<tr>\n",
        "  <th>Df Residuals:</th>          <td>    44</td>      <th>  BIC:               </th> <td>   1185.</td>\n",
        "</tr>\n",
        "<tr>\n",
        "  <th>Df Model:</th>              <td>     2</td>      <th>                     </th>     <td> </td>   \n",
        "</tr>\n",
        "</table>\n",
        "<table class=\"simpletable\">\n",
        "<tr>\n",
        "      <td></td>         <th>coef</th>     <th>std err</th>      <th>t</th>      <th>P>|t|</th> <th>[95.0% Conf. Int.]</th> \n",
        "</tr>\n",
        "<tr>\n",
        "  <th>Intercept</th> <td>  8.96e+04</td> <td> 4.18e+04</td> <td>    2.145</td> <td> 0.037</td> <td> 5421.208  1.74e+05</td>\n",
        "</tr>\n",
        "<tr>\n",
        "  <th>sqft</th>      <td>  139.2107</td> <td>   14.795</td> <td>    9.409</td> <td> 0.000</td> <td>  109.393   169.028</td>\n",
        "</tr>\n",
        "<tr>\n",
        "  <th>bedrooms</th>  <td>-8738.0191</td> <td> 1.55e+04</td> <td>   -0.566</td> <td> 0.575</td> <td>-3.99e+04  2.24e+04</td>\n",
        "</tr>\n",
        "</table>\n",
        "<table class=\"simpletable\">\n",
        "<tr>\n",
        "  <th>Omnibus:</th>       <td> 4.083</td> <th>  Durbin-Watson:     </th> <td>   1.826</td>\n",
        "</tr>\n",
        "<tr>\n",
        "  <th>Prob(Omnibus):</th> <td> 0.130</td> <th>  Jarque-Bera (JB):  </th> <td>   2.977</td>\n",
        "</tr>\n",
        "<tr>\n",
        "  <th>Skew:</th>          <td> 0.567</td> <th>  Prob(JB):          </th> <td>   0.226</td>\n",
        "</tr>\n",
        "<tr>\n",
        "  <th>Kurtosis:</th>      <td> 3.484</td> <th>  Cond. No.          </th> <td>9.71e+03</td>\n",
        "</tr>\n",
        "</table>"
       ],
       "metadata": {},
       "output_type": "pyout",
       "prompt_number": 97,
       "text": [
        "<class 'statsmodels.iolib.summary.Summary'>\n",
        "\"\"\"\n",
        "                            OLS Regression Results                            \n",
        "==============================================================================\n",
        "Dep. Variable:                  price   R-squared:                       0.733\n",
        "Model:                            OLS   Adj. R-squared:                  0.721\n",
        "Method:                 Least Squares   F-statistic:                     60.38\n",
        "Date:                Mon, 20 Oct 2014   Prob (F-statistic):           2.43e-13\n",
        "Time:                        21:02:04   Log-Likelihood:                -586.77\n",
        "No. Observations:                  47   AIC:                             1180.\n",
        "Df Residuals:                      44   BIC:                             1185.\n",
        "Df Model:                           2                                         \n",
        "==============================================================================\n",
        "                 coef    std err          t      P>|t|      [95.0% Conf. Int.]\n",
        "------------------------------------------------------------------------------\n",
        "Intercept    8.96e+04   4.18e+04      2.145      0.037      5421.208  1.74e+05\n",
        "sqft         139.2107     14.795      9.409      0.000       109.393   169.028\n",
        "bedrooms   -8738.0191   1.55e+04     -0.566      0.575     -3.99e+04  2.24e+04\n",
        "==============================================================================\n",
        "Omnibus:                        4.083   Durbin-Watson:                   1.826\n",
        "Prob(Omnibus):                  0.130   Jarque-Bera (JB):                2.977\n",
        "Skew:                           0.567   Prob(JB):                        0.226\n",
        "Kurtosis:                       3.484   Cond. No.                     9.71e+03\n",
        "==============================================================================\n",
        "\n",
        "Warnings:\n",
        "[1] The condition number is large, 9.71e+03. This might indicate that there are\n",
        "strong multicollinearity or other numerical problems.\n",
        "\"\"\""
       ]
      }
     ],
     "prompt_number": 97
    },
    {
     "cell_type": "markdown",
     "metadata": {},
     "source": [
      "## Nonlinear Fitting"
     ]
    },
    {
     "cell_type": "markdown",
     "metadata": {},
     "source": [
      "Let's generate points with an arbitrary nonlinear function"
     ]
    },
    {
     "cell_type": "markdown",
     "metadata": {},
     "source": [
      "$y = \\frac{1}{2} x + \\frac{1}{2} \\sin{x} - \\frac{1}{50} (x-5)^2 + 5$"
     ]
    },
    {
     "cell_type": "code",
     "collapsed": false,
     "input": [
      "# start with some fake data\n",
      "nsample = 50\n",
      "sig = 0.5\n",
      "# generate linear space\n",
      "x = np.linspace(0, 20, nsample)\n",
      "# invent function\n",
      "X = np.c_[x, np.sin(x), (x - 5)**2, np.ones(nsample)]\n",
      "# invent coefficients\n",
      "beta = [0.5, 0.5, -0.02, 5.]\n",
      "# generate |\n",
      "y_true = np.dot(X, beta)\n",
      "# add noise\n",
      "y = y_true + sig * np.random.normal(size=nsample)"
     ],
     "language": "python",
     "metadata": {},
     "outputs": [],
     "prompt_number": 133
    },
    {
     "cell_type": "code",
     "collapsed": false,
     "input": [
      "y_true"
     ],
     "language": "python",
     "metadata": {},
     "outputs": [
      {
       "metadata": {},
       "output_type": "pyout",
       "prompt_number": 134,
       "text": [
        "array([  4.5       ,   4.98084442,   5.42241818,   5.79747174,\n",
        "         6.08858976,   6.29105242,   6.41361085,   6.47704939,\n",
        "         6.51077074,   6.54796517,   6.62015751,   6.75202765,\n",
        "         6.95735574,   7.23675814,   7.57758613,   7.95600411,\n",
        "         8.34090568,   8.69902434,   9.0003991 ,   9.22329697,\n",
        "         9.35778363,   9.40735561,   9.38836583,   9.32733686,\n",
        "         9.25660331,   9.20899939,   9.21246432,   9.28545197,\n",
        "         9.43389898,   9.65024938,   9.91469599,  10.19843472,\n",
        "        10.46839697,  10.69268271,  10.84580159,  10.91286091,\n",
        "        10.89201244,  10.79475611,  10.64405059,  10.47054122,\n",
        "        10.30752511,  10.1854805 ,  10.12705925,  10.14336524,\n",
        "        10.23213001,  10.37808548,  10.55547244,  10.7322727 ,\n",
        "        10.87546961,  10.95647263])"
       ]
      }
     ],
     "prompt_number": 134
    },
    {
     "cell_type": "markdown",
     "metadata": {},
     "source": [
      "quick look at the data"
     ]
    },
    {
     "cell_type": "code",
     "collapsed": false,
     "input": [
      "# nice! ipython shortcuts!\n",
      "plt.plot(x, y_true)\n",
      "plt.scatter(x, y, c='g')\n",
      "plt.show()"
     ],
     "language": "python",
     "metadata": {},
     "outputs": [
      {
       "metadata": {},
       "output_type": "display_data",
       "png": "[encoded data removed]",
       "text": [
        "<matplotlib.figure.Figure at 0x11212cf90>"
       ]
      }
     ],
     "prompt_number": 121
    },
    {
     "cell_type": "code",
     "collapsed": false,
     "input": [
      "res = sm.OLS(y, X).fit()\n",
      "res.summary()"
     ],
     "language": "python",
     "metadata": {},
     "outputs": [
      {
       "html": [
        "<table class=\"simpletable\">\n",
        "<caption>OLS Regression Results</caption>\n",
        "<tr>\n",
        "  <th>Dep. Variable:</th>            <td>y</td>        <th>  R-squared:         </th> <td>   0.938</td>\n",
        "</tr>\n",
        "<tr>\n",
        "  <th>Model:</th>                   <td>OLS</td>       <th>  Adj. R-squared:    </th> <td>   0.934</td>\n",
        "</tr>\n",
        "<tr>\n",
        "  <th>Method:</th>             <td>Least Squares</td>  <th>  F-statistic:       </th> <td>   233.5</td>\n",
        "</tr>\n",
        "<tr>\n",
        "  <th>Date:</th>             <td>Mon, 20 Oct 2014</td> <th>  Prob (F-statistic):</th> <td>7.76e-28</td>\n",
        "</tr>\n",
        "<tr>\n",
        "  <th>Time:</th>                 <td>21:14:10</td>     <th>  Log-Likelihood:    </th> <td> -35.335</td>\n",
        "</tr>\n",
        "<tr>\n",
        "  <th>No. Observations:</th>      <td>    50</td>      <th>  AIC:               </th> <td>   78.67</td>\n",
        "</tr>\n",
        "<tr>\n",
        "  <th>Df Residuals:</th>          <td>    46</td>      <th>  BIC:               </th> <td>   86.32</td>\n",
        "</tr>\n",
        "<tr>\n",
        "  <th>Df Model:</th>              <td>     3</td>      <th>                     </th>     <td> </td>   \n",
        "</tr>\n",
        "</table>\n",
        "<table class=\"simpletable\">\n",
        "<tr>\n",
        "    <td></td>       <th>coef</th>     <th>std err</th>      <th>t</th>      <th>P>|t|</th> <th>[95.0% Conf. Int.]</th> \n",
        "</tr>\n",
        "<tr>\n",
        "  <th>x1</th>    <td>    0.5301</td> <td>    0.027</td> <td>   19.719</td> <td> 0.000</td> <td>    0.476     0.584</td>\n",
        "</tr>\n",
        "<tr>\n",
        "  <th>x2</th>    <td>    0.5481</td> <td>    0.106</td> <td>    5.186</td> <td> 0.000</td> <td>    0.335     0.761</td>\n",
        "</tr>\n",
        "<tr>\n",
        "  <th>x3</th>    <td>   -0.0221</td> <td>    0.002</td> <td>   -9.369</td> <td> 0.000</td> <td>   -0.027    -0.017</td>\n",
        "</tr>\n",
        "<tr>\n",
        "  <th>const</th> <td>    4.7921</td> <td>    0.174</td> <td>   27.491</td> <td> 0.000</td> <td>    4.441     5.143</td>\n",
        "</tr>\n",
        "</table>\n",
        "<table class=\"simpletable\">\n",
        "<tr>\n",
        "  <th>Omnibus:</th>       <td> 5.287</td> <th>  Durbin-Watson:     </th> <td>   1.978</td>\n",
        "</tr>\n",
        "<tr>\n",
        "  <th>Prob(Omnibus):</th> <td> 0.071</td> <th>  Jarque-Bera (JB):  </th> <td>   2.201</td>\n",
        "</tr>\n",
        "<tr>\n",
        "  <th>Skew:</th>          <td> 0.138</td> <th>  Prob(JB):          </th> <td>   0.333</td>\n",
        "</tr>\n",
        "<tr>\n",
        "  <th>Kurtosis:</th>      <td> 2.010</td> <th>  Cond. No.          </th> <td>    221.</td>\n",
        "</tr>\n",
        "</table>"
       ],
       "metadata": {},
       "output_type": "pyout",
       "prompt_number": 122,
       "text": [
        "<class 'statsmodels.iolib.summary.Summary'>\n",
        "\"\"\"\n",
        "                            OLS Regression Results                            \n",
        "==============================================================================\n",
        "Dep. Variable:                      y   R-squared:                       0.938\n",
        "Model:                            OLS   Adj. R-squared:                  0.934\n",
        "Method:                 Least Squares   F-statistic:                     233.5\n",
        "Date:                Mon, 20 Oct 2014   Prob (F-statistic):           7.76e-28\n",
        "Time:                        21:14:10   Log-Likelihood:                -35.335\n",
        "No. Observations:                  50   AIC:                             78.67\n",
        "Df Residuals:                      46   BIC:                             86.32\n",
        "Df Model:                           3                                         \n",
        "==============================================================================\n",
        "                 coef    std err          t      P>|t|      [95.0% Conf. Int.]\n",
        "------------------------------------------------------------------------------\n",
        "x1             0.5301      0.027     19.719      0.000         0.476     0.584\n",
        "x2             0.5481      0.106      5.186      0.000         0.335     0.761\n",
        "x3            -0.0221      0.002     -9.369      0.000        -0.027    -0.017\n",
        "const          4.7921      0.174     27.491      0.000         4.441     5.143\n",
        "==============================================================================\n",
        "Omnibus:                        5.287   Durbin-Watson:                   1.978\n",
        "Prob(Omnibus):                  0.071   Jarque-Bera (JB):                2.201\n",
        "Skew:                           0.138   Prob(JB):                        0.333\n",
        "Kurtosis:                       2.010   Cond. No.                         221.\n",
        "==============================================================================\n",
        "\"\"\""
       ]
      }
     ],
     "prompt_number": 122
    },
    {
     "cell_type": "markdown",
     "metadata": {},
     "source": [
      "I can access the results attributes"
     ]
    },
    {
     "cell_type": "code",
     "collapsed": false,
     "input": [
      "print res.params"
     ],
     "language": "python",
     "metadata": {},
     "outputs": [
      {
       "output_type": "stream",
       "stream": "stdout",
       "text": [
        "[ 0.53013011  0.54808171 -0.02211419  4.79206372]\n"
       ]
      }
     ],
     "prompt_number": 123
    },
    {
     "cell_type": "code",
     "collapsed": false,
     "input": [
      "print \n",
      "res.bse"
     ],
     "language": "python",
     "metadata": {},
     "outputs": [
      {
       "output_type": "stream",
       "stream": "stdout",
       "text": [
        "\n"
       ]
      },
      {
       "metadata": {},
       "output_type": "pyout",
       "prompt_number": 124,
       "text": [
        "array([ 0.026884  ,  0.10568418,  0.00236044,  0.1743169 ])"
       ]
      }
     ],
     "prompt_number": 124
    },
    {
     "cell_type": "code",
     "collapsed": false,
     "input": [
      "print res.predict()"
     ],
     "language": "python",
     "metadata": {},
     "outputs": [
      {
       "output_type": "stream",
       "stream": "stdout",
       "text": [
        "[  4.23920904   4.75971337   5.23710704   5.64152008   5.95386243\n",
        "   6.1689604    6.29640668   6.35898427   6.38892335   6.42260589\n",
        "   6.49458824   6.63192361   6.84971728   7.14864487   7.51484135\n",
        "   7.92217899   8.33656008   8.72151912   9.04421395   9.28082167\n",
        "   9.42045265   9.46693964   9.43820814   9.36333118   9.27775282\n",
        "   9.21746471   9.21309277   9.28486549   9.43929039   9.66808488\n",
        "   9.94953708  10.25207297  10.53944397  10.77668245  10.9358468\n",
        "  11.00061219  10.96895267  10.85347404  10.67934274  10.48015109\n",
        "  10.29239815  10.14949305  10.07626594  10.08488849  10.17287409\n",
        "  10.32348643  10.5084892   10.69278524  10.84018292  10.9193423 ]\n"
       ]
      }
     ],
     "prompt_number": 125
    },
    {
     "cell_type": "markdown",
     "metadata": {},
     "source": [
      "Let's look at the fit!"
     ]
    },
    {
     "cell_type": "code",
     "collapsed": false,
     "input": [
      "plt.figure(figsize = (15,10));\n",
      "plt.plot(x, y, 'o', x, y_true, 'b-');\n",
      "prstd, iv_l, iv_u = wls_prediction_std(res);\n",
      "plt.plot(x, res.fittedvalues, 'r--.');\n",
      "plt.plot(x, iv_u, 'r--');\n",
      "plt.plot(x, iv_l, 'r--');\n",
      "plt.title('blue: true,   red: OLS');"
     ],
     "language": "python",
     "metadata": {},
     "outputs": [
      {
       "metadata": {},
       "output_type": "display_data",
       "png": "[encoded data removed]",
       "text": [
        "<matplotlib.figure.Figure at 0x111d90ed0>"
       ]
      }
     ],
     "prompt_number": 129
    },
    {
     "cell_type": "markdown",
     "metadata": {},
     "source": [
      "## Overfitting"
     ]
    },
    {
     "cell_type": "code",
     "collapsed": false,
     "input": [
      "x = np.array([-0.99768, -0.69574, -0.40373, -0.10236, 0.22024, 0.47742, 0.82229])\n",
      "y = np.array([2.0885, 1.1646, 0.3287, 0.46013, 0.44808, 0.10013, -0.32952])\n",
      "\n",
      "fig, ax = plt.subplots(figsize = (8,6))\n",
      "ax.plot(x, y, 'o', markersize=12)\n",
      "plt.xlim((-1.3, 1.3))"
     ],
     "language": "python",
     "metadata": {},
     "outputs": [
      {
       "metadata": {},
       "output_type": "pyout",
       "prompt_number": 136,
       "text": [
        "(-1.3, 1.3)"
       ]
      },
      {
       "metadata": {},
       "output_type": "display_data",
       "png": "[encoded data removed]",
       "text": [
        "<matplotlib.figure.Figure at 0x11199f650>"
       ]
      }
     ],
     "prompt_number": 136
    },
    {
     "cell_type": "code",
     "collapsed": false,
     "input": [
      "X = np.c_[x, np.ones(len(x))]\n",
      "# X = np.vander(x, 1+1)"
     ],
     "language": "python",
     "metadata": {},
     "outputs": [],
     "prompt_number": 143
    },
    {
     "cell_type": "code",
     "collapsed": false,
     "input": [
      "res = sm.OLS(y, X).fit()\n",
      "res.summary()"
     ],
     "language": "python",
     "metadata": {},
     "outputs": [
      {
       "html": [
        "<table class=\"simpletable\">\n",
        "<caption>OLS Regression Results</caption>\n",
        "<tr>\n",
        "  <th>Dep. Variable:</th>            <td>y</td>        <th>  R-squared:         </th> <td>   0.811</td>\n",
        "</tr>\n",
        "<tr>\n",
        "  <th>Model:</th>                   <td>OLS</td>       <th>  Adj. R-squared:    </th> <td>   0.773</td>\n",
        "</tr>\n",
        "<tr>\n",
        "  <th>Method:</th>             <td>Least Squares</td>  <th>  F-statistic:       </th> <td>   21.48</td>\n",
        "</tr>\n",
        "<tr>\n",
        "  <th>Date:</th>             <td>Mon, 20 Oct 2014</td> <th>  Prob (F-statistic):</th>  <td>0.00566</td>\n",
        "</tr>\n",
        "<tr>\n",
        "  <th>Time:</th>                 <td>21:30:53</td>     <th>  Log-Likelihood:    </th> <td> -1.9268</td>\n",
        "</tr>\n",
        "<tr>\n",
        "  <th>No. Observations:</th>      <td>     7</td>      <th>  AIC:               </th> <td>   7.854</td>\n",
        "</tr>\n",
        "<tr>\n",
        "  <th>Df Residuals:</th>          <td>     5</td>      <th>  BIC:               </th> <td>   7.745</td>\n",
        "</tr>\n",
        "<tr>\n",
        "  <th>Df Model:</th>              <td>     1</td>      <th>                     </th>     <td> </td>   \n",
        "</tr>\n",
        "</table>\n",
        "<table class=\"simpletable\">\n",
        "<tr>\n",
        "    <td></td>       <th>coef</th>     <th>std err</th>      <th>t</th>      <th>P>|t|</th> <th>[95.0% Conf. Int.]</th> \n",
        "</tr>\n",
        "<tr>\n",
        "  <th>x1</th>    <td>   -1.0965</td> <td>    0.237</td> <td>   -4.635</td> <td> 0.006</td> <td>   -1.705    -0.488</td>\n",
        "</tr>\n",
        "<tr>\n",
        "  <th>const</th> <td>    0.5022</td> <td>    0.144</td> <td>    3.479</td> <td> 0.018</td> <td>    0.131     0.873</td>\n",
        "</tr>\n",
        "</table>\n",
        "<table class=\"simpletable\">\n",
        "<tr>\n",
        "  <th>Omnibus:</th>       <td>   nan</td> <th>  Durbin-Watson:     </th> <td>   1.343</td>\n",
        "</tr>\n",
        "<tr>\n",
        "  <th>Prob(Omnibus):</th> <td>   nan</td> <th>  Jarque-Bera (JB):  </th> <td>   0.286</td>\n",
        "</tr>\n",
        "<tr>\n",
        "  <th>Skew:</th>          <td>-0.488</td> <th>  Prob(JB):          </th> <td>   0.867</td>\n",
        "</tr>\n",
        "<tr>\n",
        "  <th>Kurtosis:</th>      <td> 2.842</td> <th>  Cond. No.          </th> <td>    1.68</td>\n",
        "</tr>\n",
        "</table>"
       ],
       "metadata": {},
       "output_type": "pyout",
       "prompt_number": 144,
       "text": [
        "<class 'statsmodels.iolib.summary.Summary'>\n",
        "\"\"\"\n",
        "                            OLS Regression Results                            \n",
        "==============================================================================\n",
        "Dep. Variable:                      y   R-squared:                       0.811\n",
        "Model:                            OLS   Adj. R-squared:                  0.773\n",
        "Method:                 Least Squares   F-statistic:                     21.48\n",
        "Date:                Mon, 20 Oct 2014   Prob (F-statistic):            0.00566\n",
        "Time:                        21:30:53   Log-Likelihood:                -1.9268\n",
        "No. Observations:                   7   AIC:                             7.854\n",
        "Df Residuals:                       5   BIC:                             7.745\n",
        "Df Model:                           1                                         \n",
        "==============================================================================\n",
        "                 coef    std err          t      P>|t|      [95.0% Conf. Int.]\n",
        "------------------------------------------------------------------------------\n",
        "x1            -1.0965      0.237     -4.635      0.006        -1.705    -0.488\n",
        "const          0.5022      0.144      3.479      0.018         0.131     0.873\n",
        "==============================================================================\n",
        "Omnibus:                          nan   Durbin-Watson:                   1.343\n",
        "Prob(Omnibus):                    nan   Jarque-Bera (JB):                0.286\n",
        "Skew:                          -0.488   Prob(JB):                        0.867\n",
        "Kurtosis:                       2.842   Cond. No.                         1.68\n",
        "==============================================================================\n",
        "\"\"\""
       ]
      }
     ],
     "prompt_number": 144
    },
    {
     "cell_type": "markdown",
     "metadata": {},
     "source": [
      "### Linear fit"
     ]
    },
    {
     "cell_type": "code",
     "collapsed": false,
     "input": [
      "plt.figure(figsize = (6,6));\n",
      "plt.plot(x, y, 'o');\n",
      "xx = np.linspace(-1.25,1.25,100)\n",
      "plt.plot(xx, res.predict(np.vander(xx,2)), 'r-');\n",
      "plt.title('blue: true,   red: OLS');"
     ],
     "language": "python",
     "metadata": {},
     "outputs": [
      {
       "metadata": {},
       "output_type": "display_data",
       "png": "[encoded data removed]",
       "text": [
        "<matplotlib.figure.Figure at 0x1120328d0>"
       ]
      }
     ],
     "prompt_number": 145
    },
    {
     "cell_type": "markdown",
     "metadata": {},
     "source": [
      "### Quadratic"
     ]
    },
    {
     "cell_type": "code",
     "collapsed": false,
     "input": [
      "X = np.c_[x**2, x, np.ones(len(x))]\n",
      "res = sm.OLS(y, X).fit()\n",
      "\n",
      "plt.figure(figsize = (6,6));\n",
      "plt.plot(x, y, 'o');\n",
      "xx = np.linspace(-1.25,1.25,100)\n",
      "plt.plot(xx, res.predict(np.vander(xx,3)), 'r-');\n",
      "plt.title('blue: true,   red: OLS');\n",
      "\n",
      "res.summary()"
     ],
     "language": "python",
     "metadata": {},
     "outputs": [
      {
       "html": [
        "<table class=\"simpletable\">\n",
        "<caption>OLS Regression Results</caption>\n",
        "<tr>\n",
        "  <th>Dep. Variable:</th>            <td>y</td>        <th>  R-squared:         </th> <td>   0.879</td>\n",
        "</tr>\n",
        "<tr>\n",
        "  <th>Model:</th>                   <td>OLS</td>       <th>  Adj. R-squared:    </th> <td>   0.818</td>\n",
        "</tr>\n",
        "<tr>\n",
        "  <th>Method:</th>             <td>Least Squares</td>  <th>  F-statistic:       </th> <td>   14.46</td>\n",
        "</tr>\n",
        "<tr>\n",
        "  <th>Date:</th>             <td>Mon, 20 Oct 2014</td> <th>  Prob (F-statistic):</th>  <td>0.0148</td> \n",
        "</tr>\n",
        "<tr>\n",
        "  <th>Time:</th>                 <td>21:31:14</td>     <th>  Log-Likelihood:    </th> <td>-0.38291</td>\n",
        "</tr>\n",
        "<tr>\n",
        "  <th>No. Observations:</th>      <td>     7</td>      <th>  AIC:               </th> <td>   6.766</td>\n",
        "</tr>\n",
        "<tr>\n",
        "  <th>Df Residuals:</th>          <td>     4</td>      <th>  BIC:               </th> <td>   6.604</td>\n",
        "</tr>\n",
        "<tr>\n",
        "  <th>Df Model:</th>              <td>     2</td>      <th>                     </th>     <td> </td>   \n",
        "</tr>\n",
        "</table>\n",
        "<table class=\"simpletable\">\n",
        "<tr>\n",
        "    <td></td>       <th>coef</th>     <th>std err</th>      <th>t</th>      <th>P>|t|</th> <th>[95.0% Conf. Int.]</th> \n",
        "</tr>\n",
        "<tr>\n",
        "  <th>x1</th>    <td>    0.5988</td> <td>    0.402</td> <td>    1.489</td> <td> 0.211</td> <td>   -0.518     1.715</td>\n",
        "</tr>\n",
        "<tr>\n",
        "  <th>x2</th>    <td>   -0.9861</td> <td>    0.225</td> <td>   -4.388</td> <td> 0.012</td> <td>   -1.610    -0.362</td>\n",
        "</tr>\n",
        "<tr>\n",
        "  <th>const</th> <td>    0.2901</td> <td>    0.192</td> <td>    1.507</td> <td> 0.206</td> <td>   -0.244     0.824</td>\n",
        "</tr>\n",
        "</table>\n",
        "<table class=\"simpletable\">\n",
        "<tr>\n",
        "  <th>Omnibus:</th>       <td>   nan</td> <th>  Durbin-Watson:     </th> <td>   1.637</td>\n",
        "</tr>\n",
        "<tr>\n",
        "  <th>Prob(Omnibus):</th> <td>   nan</td> <th>  Jarque-Bera (JB):  </th> <td>   0.456</td>\n",
        "</tr>\n",
        "<tr>\n",
        "  <th>Skew:</th>          <td>-0.437</td> <th>  Prob(JB):          </th> <td>   0.796</td>\n",
        "</tr>\n",
        "<tr>\n",
        "  <th>Kurtosis:</th>      <td> 2.107</td> <th>  Cond. No.          </th> <td>    3.70</td>\n",
        "</tr>\n",
        "</table>"
       ],
       "metadata": {},
       "output_type": "pyout",
       "prompt_number": 147,
       "text": [
        "<class 'statsmodels.iolib.summary.Summary'>\n",
        "\"\"\"\n",
        "                            OLS Regression Results                            \n",
        "==============================================================================\n",
        "Dep. Variable:                      y   R-squared:                       0.879\n",
        "Model:                            OLS   Adj. R-squared:                  0.818\n",
        "Method:                 Least Squares   F-statistic:                     14.46\n",
        "Date:                Mon, 20 Oct 2014   Prob (F-statistic):             0.0148\n",
        "Time:                        21:31:14   Log-Likelihood:               -0.38291\n",
        "No. Observations:                   7   AIC:                             6.766\n",
        "Df Residuals:                       4   BIC:                             6.604\n",
        "Df Model:                           2                                         \n",
        "==============================================================================\n",
        "                 coef    std err          t      P>|t|      [95.0% Conf. Int.]\n",
        "------------------------------------------------------------------------------\n",
        "x1             0.5988      0.402      1.489      0.211        -0.518     1.715\n",
        "x2            -0.9861      0.225     -4.388      0.012        -1.610    -0.362\n",
        "const          0.2901      0.192      1.507      0.206        -0.244     0.824\n",
        "==============================================================================\n",
        "Omnibus:                          nan   Durbin-Watson:                   1.637\n",
        "Prob(Omnibus):                    nan   Jarque-Bera (JB):                0.456\n",
        "Skew:                          -0.437   Prob(JB):                        0.796\n",
        "Kurtosis:                       2.107   Cond. No.                         3.70\n",
        "==============================================================================\n",
        "\"\"\""
       ]
      },
      {
       "metadata": {},
       "output_type": "display_data",
       "png": "[encoded data removed]",
       "text": [
        "<matplotlib.figure.Figure at 0x111a1b510>"
       ]
      }
     ],
     "prompt_number": 147
    },
    {
     "cell_type": "markdown",
     "metadata": {},
     "source": [
      "### Quintic"
     ]
    },
    {
     "cell_type": "code",
     "collapsed": false,
     "input": [
      "X = np.c_[x**5, x**4, x**3, x**2, x, np.ones(len(x))]\n",
      "res = sm.OLS(y, X).fit()\n",
      "\n",
      "plt.figure(figsize = (6,6));\n",
      "plt.plot(x, y, 'o');\n",
      "xx = np.linspace(-1.25,1.1,100)\n",
      "plt.plot(xx, res.predict(np.vander(xx,6)), 'r-');\n",
      "plt.title('blue: true,   red: OLS');\n",
      "\n",
      "res.summary()"
     ],
     "language": "python",
     "metadata": {},
     "outputs": [
      {
       "html": [
        "<table class=\"simpletable\">\n",
        "<caption>OLS Regression Results</caption>\n",
        "<tr>\n",
        "  <th>Dep. Variable:</th>            <td>y</td>        <th>  R-squared:         </th> <td>   0.997</td>\n",
        "</tr>\n",
        "<tr>\n",
        "  <th>Model:</th>                   <td>OLS</td>       <th>  Adj. R-squared:    </th> <td>   0.983</td>\n",
        "</tr>\n",
        "<tr>\n",
        "  <th>Method:</th>             <td>Least Squares</td>  <th>  F-statistic:       </th> <td>   71.07</td>\n",
        "</tr>\n",
        "<tr>\n",
        "  <th>Date:</th>             <td>Mon, 20 Oct 2014</td> <th>  Prob (F-statistic):</th>  <td>0.0898</td> \n",
        "</tr>\n",
        "<tr>\n",
        "  <th>Time:</th>                 <td>21:32:37</td>     <th>  Log-Likelihood:    </th> <td>  12.805</td>\n",
        "</tr>\n",
        "<tr>\n",
        "  <th>No. Observations:</th>      <td>     7</td>      <th>  AIC:               </th> <td>  -13.61</td>\n",
        "</tr>\n",
        "<tr>\n",
        "  <th>Df Residuals:</th>          <td>     1</td>      <th>  BIC:               </th> <td>  -13.93</td>\n",
        "</tr>\n",
        "<tr>\n",
        "  <th>Df Model:</th>              <td>     5</td>      <th>                     </th>     <td> </td>   \n",
        "</tr>\n",
        "</table>\n",
        "<table class=\"simpletable\">\n",
        "<tr>\n",
        "    <td></td>       <th>coef</th>     <th>std err</th>      <th>t</th>      <th>P>|t|</th> <th>[95.0% Conf. Int.]</th> \n",
        "</tr>\n",
        "<tr>\n",
        "  <th>x1</th>    <td>    4.7371</td> <td>    1.679</td> <td>    2.822</td> <td> 0.217</td> <td>  -16.593    26.067</td>\n",
        "</tr>\n",
        "<tr>\n",
        "  <th>x2</th>    <td>    2.4417</td> <td>    1.017</td> <td>    2.400</td> <td> 0.251</td> <td>  -10.486    15.369</td>\n",
        "</tr>\n",
        "<tr>\n",
        "  <th>x3</th>    <td>   -5.9777</td> <td>    1.654</td> <td>   -3.615</td> <td> 0.172</td> <td>  -26.990    15.035</td>\n",
        "</tr>\n",
        "<tr>\n",
        "  <th>x4</th>    <td>   -1.3801</td> <td>    0.748</td> <td>   -1.845</td> <td> 0.316</td> <td>  -10.883     8.123</td>\n",
        "</tr>\n",
        "<tr>\n",
        "  <th>x5</th>    <td>    0.6814</td> <td>    0.340</td> <td>    2.005</td> <td> 0.294</td> <td>   -3.636     4.998</td>\n",
        "</tr>\n",
        "<tr>\n",
        "  <th>const</th> <td>    0.4725</td> <td>    0.085</td> <td>    5.558</td> <td> 0.113</td> <td>   -0.608     1.553</td>\n",
        "</tr>\n",
        "</table>\n",
        "<table class=\"simpletable\">\n",
        "<tr>\n",
        "  <th>Omnibus:</th>       <td>   nan</td> <th>  Durbin-Watson:     </th> <td>   3.728</td>\n",
        "</tr>\n",
        "<tr>\n",
        "  <th>Prob(Omnibus):</th> <td>   nan</td> <th>  Jarque-Bera (JB):  </th> <td>   0.267</td>\n",
        "</tr>\n",
        "<tr>\n",
        "  <th>Skew:</th>          <td> 0.059</td> <th>  Prob(JB):          </th> <td>   0.875</td>\n",
        "</tr>\n",
        "<tr>\n",
        "  <th>Kurtosis:</th>      <td> 2.050</td> <th>  Cond. No.          </th> <td>    77.1</td>\n",
        "</tr>\n",
        "</table>"
       ],
       "metadata": {},
       "output_type": "pyout",
       "prompt_number": 150,
       "text": [
        "<class 'statsmodels.iolib.summary.Summary'>\n",
        "\"\"\"\n",
        "                            OLS Regression Results                            \n",
        "==============================================================================\n",
        "Dep. Variable:                      y   R-squared:                       0.997\n",
        "Model:                            OLS   Adj. R-squared:                  0.983\n",
        "Method:                 Least Squares   F-statistic:                     71.07\n",
        "Date:                Mon, 20 Oct 2014   Prob (F-statistic):             0.0898\n",
        "Time:                        21:32:37   Log-Likelihood:                 12.805\n",
        "No. Observations:                   7   AIC:                            -13.61\n",
        "Df Residuals:                       1   BIC:                            -13.93\n",
        "Df Model:                           5                                         \n",
        "==============================================================================\n",
        "                 coef    std err          t      P>|t|      [95.0% Conf. Int.]\n",
        "------------------------------------------------------------------------------\n",
        "x1             4.7371      1.679      2.822      0.217       -16.593    26.067\n",
        "x2             2.4417      1.017      2.400      0.251       -10.486    15.369\n",
        "x3            -5.9777      1.654     -3.615      0.172       -26.990    15.035\n",
        "x4            -1.3801      0.748     -1.845      0.316       -10.883     8.123\n",
        "x5             0.6814      0.340      2.005      0.294        -3.636     4.998\n",
        "const          0.4725      0.085      5.558      0.113        -0.608     1.553\n",
        "==============================================================================\n",
        "Omnibus:                          nan   Durbin-Watson:                   3.728\n",
        "Prob(Omnibus):                    nan   Jarque-Bera (JB):                0.267\n",
        "Skew:                           0.059   Prob(JB):                        0.875\n",
        "Kurtosis:                       2.050   Cond. No.                         77.1\n",
        "==============================================================================\n",
        "\"\"\""
       ]
      },
      {
       "metadata": {},
       "output_type": "display_data",
       "png": "[encoded data removed]",
       "text": [
        "<matplotlib.figure.Figure at 0x11203d250>"
       ]
      }
     ],
     "prompt_number": 150
    },
    {
     "cell_type": "markdown",
     "metadata": {},
     "source": [
      "## Regularization"
     ]
    },
    {
     "cell_type": "code",
     "collapsed": false,
     "input": [
      "from sklearn.linear_model import Ridge, Lasso"
     ],
     "language": "python",
     "metadata": {},
     "outputs": [],
     "prompt_number": 151
    },
    {
     "cell_type": "code",
     "collapsed": false,
     "input": [
      "ridge = Ridge(alpha = 1.)\n",
      "ridge.fit(np.vander(x, 6), y)\n",
      "\n",
      "lasso = Lasso(alpha = 0.1)\n",
      "lasso.fit(np.vander(x, 6), y)\n",
      "\n",
      "plt.figure(figsize = (6,6));\n",
      "plt.plot(x, y, 'o');\n",
      "xx = np.linspace(-1.25,1.1,100)\n",
      "plt.plot(xx, res.predict(np.vander(xx,6)), 'r-');\n",
      "plt.plot(xx,  ridge.predict(np.vander(xx, 6)), 'g-', label='Ridge');\n",
      "plt.plot(xx,  lasso.predict(np.vander(xx, 6)), 'c-', label='Lasso');\n",
      "plt.legend(loc='best')"
     ],
     "language": "python",
     "metadata": {},
     "outputs": [
      {
       "metadata": {},
       "output_type": "pyout",
       "prompt_number": 166,
       "text": [
        "<matplotlib.legend.Legend at 0x1149bd190>"
       ]
      },
      {
       "metadata": {},
       "output_type": "display_data",
       "png": "[encoded data removed]",
       "text": [
        "<matplotlib.figure.Figure at 0x114884750>"
       ]
      }
     ],
     "prompt_number": 166
    },
    {
     "cell_type": "code",
     "collapsed": false,
     "input": [],
     "language": "python",
     "metadata": {},
     "outputs": []
    }
   ],
   "metadata": {}
  }
 ]
}