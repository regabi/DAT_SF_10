{
 "metadata": {
  "name": "",
  "signature": "sha256:7220b162668a3a99afb607003ec12a126b0be1c8eecd510c66d4625f23937d20"
 },
 "nbformat": 3,
 "nbformat_minor": 0,
 "worksheets": [
  {
   "cells": [
    {
     "cell_type": "markdown",
     "metadata": {},
     "source": [
      "# GA Data Science (DAT10) - Lab8\n",
      "\n",
      "## K-Means Clustering\n"
     ]
    },
    {
     "cell_type": "markdown",
     "metadata": {},
     "source": [
      "### Create Random Data Set"
     ]
    },
    {
     "cell_type": "markdown",
     "metadata": {},
     "source": [
      "Assignment: generate a series of 80 data points in 2 dimensions (x,y) with the following properties:\n",
      "\n",
      "- there should be 4 clusters of points\n",
      "- each cluster should be formed by points whose coordinates come from a 2D gaussian\n",
      "- the 2D gaussians should have the following centers:\n",
      "- [1,1] , [1,3], [3,1], [3,3]\n",
      "- they should have variance of 0.1, and 0 covariance"
     ]
    },
    {
     "cell_type": "markdown",
     "metadata": {},
     "source": [
      "np.random.multivariate takes 3 parameters:\n",
      "- mean\n",
      "- covariance\n",
      "- number of samples"
     ]
    },
    {
     "cell_type": "code",
     "collapsed": false,
     "input": [
      "import numpy as np\n",
      "import matplotlib.pyplot as plt\n",
      "%matplotlib inline"
     ],
     "language": "python",
     "metadata": {},
     "outputs": [],
     "prompt_number": 1
    },
    {
     "cell_type": "code",
     "collapsed": false,
     "input": [
      "data = np.vstack([np.random.multivariate_normal([1,1],[[.1,0],[0,.1]],20),\n",
      "                 np.random.multivariate_normal([1,3],[[.1,0],[0,.1]],20),\n",
      "                 np.random.multivariate_normal([3,1],[[.1,0],[0,.1]],20),\n",
      "                 np.random.multivariate_normal([3,3],[[.1,0],[0,.1]],20)])"
     ],
     "language": "python",
     "metadata": {},
     "outputs": [],
     "prompt_number": 2
    },
    {
     "cell_type": "code",
     "collapsed": false,
     "input": [
      "data[:10,:]"
     ],
     "language": "python",
     "metadata": {},
     "outputs": [
      {
       "metadata": {},
       "output_type": "pyout",
       "prompt_number": 3,
       "text": [
        "array([[ 1.06750056,  0.77576875],\n",
        "       [ 0.94448625,  1.34168756],\n",
        "       [ 0.76793633,  1.16662801],\n",
        "       [ 1.03438451,  1.61872661],\n",
        "       [ 1.44317251,  1.0209864 ],\n",
        "       [ 1.12976307,  0.53803056],\n",
        "       [ 0.63495223,  1.19475002],\n",
        "       [ 0.31169169,  0.93230436],\n",
        "       [ 0.97061859,  1.1482812 ],\n",
        "       [ 1.08629741,  0.26989467]])"
       ]
      }
     ],
     "prompt_number": 3
    },
    {
     "cell_type": "markdown",
     "metadata": {},
     "source": [
      "Plot the points"
     ]
    },
    {
     "cell_type": "code",
     "collapsed": false,
     "input": [
      "plt.scatter(data[:,0], data[:,1])\n",
      "plt.title('4 clusters ?')\n",
      "plt.show()"
     ],
     "language": "python",
     "metadata": {},
     "outputs": [
      {
       "metadata": {},
       "output_type": "display_data",
       "png": "[encoded data removed]",
       "text": [
        "<matplotlib.figure.Figure at 0x106779e10>"
       ]
      }
     ],
     "prompt_number": 4
    },
    {
     "cell_type": "markdown",
     "metadata": {},
     "source": [
      "###Load the KMeans Class from sklearn.cluster"
     ]
    },
    {
     "cell_type": "code",
     "collapsed": false,
     "input": [
      "from sklearn.cluster import KMeans"
     ],
     "language": "python",
     "metadata": {},
     "outputs": [],
     "prompt_number": 5
    },
    {
     "cell_type": "markdown",
     "metadata": {},
     "source": [
      "Initialize a KMeans classifier with 4 cluster, random initialization, random_state=1, 1 initial centroid seed and maximum number of iterations equal to 1"
     ]
    },
    {
     "cell_type": "code",
     "collapsed": false,
     "input": [
      "km = KMeans(n_clusters=4,  init='random', n_init=1 , max_iter = 1, random_state=1)"
     ],
     "language": "python",
     "metadata": {},
     "outputs": [],
     "prompt_number": 6
    },
    {
     "cell_type": "markdown",
     "metadata": {},
     "source": [
      "Train the classifier on all the data"
     ]
    },
    {
     "cell_type": "code",
     "collapsed": false,
     "input": [
      "km.fit(data)"
     ],
     "language": "python",
     "metadata": {},
     "outputs": [
      {
       "metadata": {},
       "output_type": "pyout",
       "prompt_number": 7,
       "text": [
        "KMeans(copy_x=True, init='random', max_iter=1, n_clusters=4, n_init=1,\n",
        "    n_jobs=1, precompute_distances=True, random_state=1, tol=0.0001,\n",
        "    verbose=0)"
       ]
      }
     ],
     "prompt_number": 7
    },
    {
     "cell_type": "markdown",
     "metadata": {},
     "source": [
      "Extract the coordinates of the cluster centers"
     ]
    },
    {
     "cell_type": "code",
     "collapsed": false,
     "input": [
      "centroids = km.cluster_centers_\n",
      "centroids"
     ],
     "language": "python",
     "metadata": {},
     "outputs": [
      {
       "metadata": {},
       "output_type": "pyout",
       "prompt_number": 8,
       "text": [
        "array([[ 3.27292942,  2.39326395],\n",
        "       [ 1.23133698,  1.57758861],\n",
        "       [ 0.7168795 ,  2.89019412],\n",
        "       [ 2.92260604,  2.13652403]])"
       ]
      }
     ],
     "prompt_number": 8
    },
    {
     "cell_type": "markdown",
     "metadata": {},
     "source": [
      "Predict the clusters for each data point"
     ]
    },
    {
     "cell_type": "code",
     "collapsed": false,
     "input": [
      "y = km.predict(data)\n",
      "print y"
     ],
     "language": "python",
     "metadata": {},
     "outputs": [
      {
       "output_type": "stream",
       "stream": "stdout",
       "text": [
        "[1 1 1 1 1 1 1 1 1 1 1 1 1 1 1 1 1 1 1 1 2 2 2 2 2 2 2 2 2 2 2 2 2 2 2 2 2\n",
        " 2 2 2 3 3 3 3 3 3 3 3 3 1 3 3 3 3 3 3 3 3 3 3 0 0 0 0 0 0 0 0 0 0 3 0 0 0\n",
        " 0 0 0 0 3 0]\n"
       ]
      }
     ],
     "prompt_number": 9
    },
    {
     "cell_type": "markdown",
     "metadata": {},
     "source": [
      "Plot the points with a different color for each cluster. Plot also the centroids in Red"
     ]
    },
    {
     "cell_type": "code",
     "collapsed": false,
     "input": [
      "fig, ax = plt.subplots(1,1, figsize=(8,8))\n",
      "for t,marker,c in zip(xrange(4),\">ox+\",\"rgby\") :\n",
      "    ax.scatter(data[y == t,0],\n",
      "                data[y == t,1],\n",
      "                marker=marker,\n",
      "                c=c)\n",
      "\n",
      "ax.scatter(centroids[:,0],centroids[:,1],marker = 's',c='r')"
     ],
     "language": "python",
     "metadata": {},
     "outputs": [
      {
       "metadata": {},
       "output_type": "pyout",
       "prompt_number": 10,
       "text": [
        "<matplotlib.collections.PathCollection at 0x1068bb150>"
       ]
      },
      {
       "metadata": {},
       "output_type": "display_data",
       "png": "[encoded data removed]",
       "text": [
        "<matplotlib.figure.Figure at 0x1086b1610>"
       ]
      }
     ],
     "prompt_number": 10
    },
    {
     "cell_type": "markdown",
     "metadata": {},
     "source": [
      "#### Discussion: what do you see?"
     ]
    },
    {
     "cell_type": "markdown",
     "metadata": {},
     "source": [
      "Let's try with better parameters. Initialize a KMeans classifier with 4 clusters, improved initialization, 10 initial centroid seeds and maximum number of iterations equal to 300."
     ]
    },
    {
     "cell_type": "code",
     "collapsed": false,
     "input": [
      "km = KMeans(n_clusters=4, init='k-means++', n_init=10 , max_iter = 300, random_state=1)"
     ],
     "language": "python",
     "metadata": {},
     "outputs": [],
     "prompt_number": 11
    },
    {
     "cell_type": "markdown",
     "metadata": {},
     "source": [
      "Condense the steps above in a handy function that receives the data and the classifier as input parameters and returns the figure. Make sure you are aware of the number of clusters"
     ]
    },
    {
     "cell_type": "code",
     "collapsed": false,
     "input": [
      "def do_kmeans_4(km, data):\n",
      "    km.fit(data)\n",
      "    centroids = km.cluster_centers_\n",
      "    print \"centroids:\", centroids\n",
      "    y = km.predict(data)\n",
      "    \n",
      "    \n",
      "    fig, ax = plt.subplots(1,1, figsize=(8,8))\n",
      "    for t,marker,c in zip(xrange(4),\">ox+\",\"rgby\") :\n",
      "        ax.scatter(data[y == t,0],\n",
      "                   data[y == t,1],\n",
      "                   marker=marker,\n",
      "                   c=c)\n",
      "\n",
      "    ax.scatter(centroids[:,0],centroids[:,1],marker = 's',c='r')"
     ],
     "language": "python",
     "metadata": {},
     "outputs": [],
     "prompt_number": 12
    },
    {
     "cell_type": "code",
     "collapsed": false,
     "input": [
      "do_kmeans_4(km, data)"
     ],
     "language": "python",
     "metadata": {},
     "outputs": [
      {
       "output_type": "stream",
       "stream": "stdout",
       "text": [
        "centroids: [[ 0.9896145   2.89696433]\n",
        " [ 2.95785307  3.12421571]\n",
        " [ 0.97390048  1.02662911]\n",
        " [ 2.97440383  0.97483448]]\n"
       ]
      },
      {
       "metadata": {},
       "output_type": "display_data",
       "png": "[encoded data removed]",
       "text": [
        "<matplotlib.figure.Figure at 0x106779810>"
       ]
      }
     ],
     "prompt_number": 13
    },
    {
     "cell_type": "markdown",
     "metadata": {},
     "source": [
      "### Blurred boundaries"
     ]
    },
    {
     "cell_type": "markdown",
     "metadata": {},
     "source": [
      "Generate new datapoints that have a bigger variance of 0.5, around the same centroids"
     ]
    },
    {
     "cell_type": "code",
     "collapsed": false,
     "input": [
      "data1 = np.vstack([np.random.multivariate_normal([1,1],[[.5,0],[0,.5]],20),\n",
      "                 np.random.multivariate_normal([1,3],[[.5,0],[0,.5]],20),\n",
      "                 np.random.multivariate_normal([3,1],[[.5,0],[0,.5]],20),\n",
      "                 np.random.multivariate_normal([3,3],[[.5,0],[0,.5]],20)])\n",
      "plt.scatter(data1[:,0], data1[:,1])"
     ],
     "language": "python",
     "metadata": {},
     "outputs": [
      {
       "metadata": {},
       "output_type": "pyout",
       "prompt_number": 14,
       "text": [
        "<matplotlib.collections.PathCollection at 0x108967950>"
       ]
      },
      {
       "metadata": {},
       "output_type": "display_data",
       "png": "[encoded data removed]",
       "text": [
        "<matplotlib.figure.Figure at 0x1086b1590>"
       ]
      }
     ],
     "prompt_number": 14
    },
    {
     "cell_type": "markdown",
     "metadata": {},
     "source": [
      "Initialize a new kmeans classifier"
     ]
    },
    {
     "cell_type": "code",
     "collapsed": false,
     "input": [
      "km = KMeans(n_clusters=4, random_state=1)"
     ],
     "language": "python",
     "metadata": {},
     "outputs": [],
     "prompt_number": 15
    },
    {
     "cell_type": "markdown",
     "metadata": {},
     "source": [
      "Use the previously defined function to fit and plot the new data"
     ]
    },
    {
     "cell_type": "code",
     "collapsed": false,
     "input": [
      "do_kmeans_4(km, data1)"
     ],
     "language": "python",
     "metadata": {},
     "outputs": [
      {
       "output_type": "stream",
       "stream": "stdout",
       "text": [
        "centroids: [[ 2.94773199  1.01210396]\n",
        " [ 3.14577946  2.81145993]\n",
        " [ 0.82629342  2.94235355]\n",
        " [ 0.76640994  0.87489347]]\n"
       ]
      },
      {
       "metadata": {},
       "output_type": "display_data",
       "png": "[encoded data removed]",
       "text": [
        "<matplotlib.figure.Figure at 0x1087d1090>"
       ]
      }
     ],
     "prompt_number": 16
    },
    {
     "cell_type": "markdown",
     "metadata": {},
     "source": [
      "Repeat the above with 150 points per cluster"
     ]
    },
    {
     "cell_type": "code",
     "collapsed": false,
     "input": [
      "data1 = np.vstack([np.random.multivariate_normal([1,1],[[.5,0],[0,.5]],150),\n",
      "                 np.random.multivariate_normal([1,3],[[.5,0],[0,.5]],150),\n",
      "                 np.random.multivariate_normal([3,1],[[.5,0],[0,.5]],150),\n",
      "                 np.random.multivariate_normal([3,3],[[.5,0],[0,.5]],150)])\n",
      "plt.scatter(data1[:,0], data1[:,1])"
     ],
     "language": "python",
     "metadata": {},
     "outputs": [
      {
       "metadata": {},
       "output_type": "pyout",
       "prompt_number": 17,
       "text": [
        "<matplotlib.collections.PathCollection at 0x108d35f50>"
       ]
      },
      {
       "metadata": {},
       "output_type": "display_data",
       "png": "[encoded data removed]",
       "text": [
        "<matplotlib.figure.Figure at 0x108b9eb10>"
       ]
      }
     ],
     "prompt_number": 17
    },
    {
     "cell_type": "code",
     "collapsed": false,
     "input": [
      "do_kmeans_4(km, data1)"
     ],
     "language": "python",
     "metadata": {},
     "outputs": [
      {
       "output_type": "stream",
       "stream": "stdout",
       "text": [
        "centroids: [[ 2.89205451  3.04919883]\n",
        " [ 0.90124555  0.88839586]\n",
        " [ 0.84305887  3.13524801]\n",
        " [ 2.95389364  0.92213656]]\n"
       ]
      },
      {
       "metadata": {},
       "output_type": "display_data",
       "png": "[encoded data removed]",
       "text": [
        "<matplotlib.figure.Figure at 0x10693d090>"
       ]
      }
     ],
     "prompt_number": 18
    },
    {
     "cell_type": "markdown",
     "metadata": {},
     "source": [
      "#### Discussion: what do you see?"
     ]
    },
    {
     "cell_type": "markdown",
     "metadata": {},
     "source": [
      "### Multiple scales"
     ]
    },
    {
     "cell_type": "markdown",
     "metadata": {},
     "source": [
      "Let's change the mean and the variance of one of the cluster. Set the mean to [100,100] and the variance to [[20,0],[0,50]]. Generate 20 points"
     ]
    },
    {
     "cell_type": "code",
     "collapsed": false,
     "input": [
      "data2 = np.vstack([np.random.multivariate_normal([1,1],[[.3,0],[0,.3]],20),\n",
      "                 np.random.multivariate_normal([1,3],[[.3,0],[0,.3]],20),\n",
      "                 np.random.multivariate_normal([3,1],[[.3,0],[0,.3]],20),\n",
      "                 np.random.multivariate_normal([100,100],[[20,0],[0,50]],20)])\n",
      "plt.scatter(data2[:,0], data2[:,1])"
     ],
     "language": "python",
     "metadata": {},
     "outputs": [
      {
       "metadata": {},
       "output_type": "pyout",
       "prompt_number": 19,
       "text": [
        "<matplotlib.collections.PathCollection at 0x109934ed0>"
       ]
      },
      {
       "metadata": {},
       "output_type": "display_data",
       "png": "[encoded data removed]",
       "text": [
        "<matplotlib.figure.Figure at 0x108d50850>"
       ]
      }
     ],
     "prompt_number": 19
    },
    {
     "cell_type": "markdown",
     "metadata": {},
     "source": [
      "#### Discussion: what do you expect to happen now?"
     ]
    },
    {
     "cell_type": "code",
     "collapsed": false,
     "input": [
      "do_kmeans_4(km, data2)"
     ],
     "language": "python",
     "metadata": {},
     "outputs": [
      {
       "output_type": "stream",
       "stream": "stdout",
       "text": [
        "centroids: [[ 105.56656049   93.05781471]\n",
        " [   1.64256903    1.61505596]\n",
        " [  98.0180434   110.23464936]\n",
        " [  96.45862704  100.34144356]]\n"
       ]
      },
      {
       "metadata": {},
       "output_type": "display_data",
       "png": "[encoded data removed]",
       "text": [
        "<matplotlib.figure.Figure at 0x108f85850>"
       ]
      }
     ],
     "prompt_number": 20
    },
    {
     "cell_type": "markdown",
     "metadata": {},
     "source": [
      "#### Discussion: what to do now?"
     ]
    },
    {
     "cell_type": "markdown",
     "metadata": {},
     "source": [
      "## Let's find clusters in the Iris Dataset"
     ]
    },
    {
     "cell_type": "markdown",
     "metadata": {},
     "source": [
      "Import the data from the iris dataset in sklearn, generate X and y arrays"
     ]
    },
    {
     "cell_type": "code",
     "collapsed": false,
     "input": [
      "from sklearn import datasets\n",
      "\n",
      "iris = datasets.load_iris()\n",
      "\n",
      "X = iris['data']\n",
      "Names = iris['feature_names']\n",
      "target_names = iris['target_names']\n",
      "y = iris['target']"
     ],
     "language": "python",
     "metadata": {},
     "outputs": [],
     "prompt_number": 21
    },
    {
     "cell_type": "markdown",
     "metadata": {},
     "source": [
      "Display the features names"
     ]
    },
    {
     "cell_type": "code",
     "collapsed": false,
     "input": [
      "Names"
     ],
     "language": "python",
     "metadata": {},
     "outputs": [
      {
       "metadata": {},
       "output_type": "pyout",
       "prompt_number": 22,
       "text": [
        "['sepal length (cm)',\n",
        " 'sepal width (cm)',\n",
        " 'petal length (cm)',\n",
        " 'petal width (cm)']"
       ]
      }
     ],
     "prompt_number": 22
    },
    {
     "cell_type": "markdown",
     "metadata": {},
     "source": [
      "Plot the Sepal width versus Petal Width with colors according to species"
     ]
    },
    {
     "cell_type": "code",
     "collapsed": false,
     "input": [
      "fig, ax = plt.subplots(1,1, figsize=(8,8))\n",
      "for t,marker,c,n in zip(xrange(3),\">ox\",\"rgb\",target_names):\n",
      "    ax.scatter(X[y == t,1],\n",
      "               X[y == t,3],\n",
      "               marker=marker,\n",
      "               c=c,\n",
      "               label=n)\n",
      "\n",
      "plt.xlabel('Sepal width (cm)')\n",
      "plt.ylabel('Petal width (cm)')\n",
      "plt.title('Sepal width (cm) VS Petal width (cm)')\n",
      "plt.legend(loc='best')\n",
      "plt.show()"
     ],
     "language": "python",
     "metadata": {},
     "outputs": [
      {
       "metadata": {},
       "output_type": "display_data",
       "png": "[encoded data removed]",
       "text": [
        "<matplotlib.figure.Figure at 0x10694c410>"
       ]
      }
     ],
     "prompt_number": 28
    },
    {
     "cell_type": "markdown",
     "metadata": {},
     "source": [
      "### Exercise 1: Implement Kmeans on Iris Data Set\n",
      "\n",
      "### Using 3 clusters, fit and and predict using Kmeans"
     ]
    },
    {
     "cell_type": "code",
     "collapsed": false,
     "input": [],
     "language": "python",
     "metadata": {},
     "outputs": [],
     "prompt_number": 23
    },
    {
     "cell_type": "markdown",
     "metadata": {},
     "source": [
      "### Exercise 2: Plot Results\n",
      "#### Here's code for plotting the true clusters as the first of two subplots.  "
     ]
    },
    {
     "cell_type": "code",
     "collapsed": false,
     "input": [
      "fig, (ax1, ax2) = plt.subplots( 1,2, figsize=(10,6), sharex=True, sharey=True)\n",
      "\n",
      "## first the true clusters\n",
      "for t,marker,c,n in zip(xrange(3),\">ox\",\"rgb\",target_names):\n",
      "    ax1.scatter(X[y == t,1],\n",
      "               X[y == t,3],\n",
      "               marker=marker,\n",
      "               c=c,\n",
      "               label=n)\n",
      "\n",
      "ax1.set_xlabel('Sepal width (cm)')\n",
      "ax1.set_ylabel('Petal width (cm)')\n",
      "ax1.set_title('Sepal width (cm) VS Petal width (cm)')\n",
      "ax1.legend(loc='best')\n"
     ],
     "language": "python",
     "metadata": {},
     "outputs": [
      {
       "metadata": {},
       "output_type": "pyout",
       "prompt_number": 30,
       "text": [
        "<matplotlib.legend.Legend at 0x109fa4450>"
       ]
      },
      {
       "metadata": {},
       "output_type": "display_data",
       "png": "[encoded data removed]",
       "text": [
        "<matplotlib.figure.Figure at 0x109fa4490>"
       ]
      }
     ],
     "prompt_number": 30
    },
    {
     "cell_type": "markdown",
     "metadata": {},
     "source": [
      "#### Add code to plot the results from the Kmeans as second subplot \n",
      "#### (Hint: Code is very similar to first plot, use ax2 as name of second plot)"
     ]
    },
    {
     "cell_type": "code",
     "collapsed": false,
     "input": [],
     "language": "python",
     "metadata": {},
     "outputs": [],
     "prompt_number": 24
    },
    {
     "cell_type": "markdown",
     "metadata": {},
     "source": [
      "#### After adding code for subplot run the code below to view the results.\n",
      "#### How well does Kmeans perform?\n",
      "#### What are the pros and cons of unsupervised learning?"
     ]
    },
    {
     "cell_type": "code",
     "collapsed": false,
     "input": [
      "plt.show()"
     ],
     "language": "python",
     "metadata": {},
     "outputs": [],
     "prompt_number": 25
    },
    {
     "cell_type": "markdown",
     "metadata": {},
     "source": [
      "### Silhouette score"
     ]
    },
    {
     "cell_type": "code",
     "collapsed": false,
     "input": [
      "from sklearn import metrics\n",
      "from sklearn.metrics import pairwise_distances\n",
      "\n",
      "km = KMeans(n_clusters=3, random_state=1)\n",
      "km.fit(X)\n",
      "labels = km.labels_\n",
      "metrics.silhouette_score(X, labels, metric='euclidean')"
     ],
     "language": "python",
     "metadata": {},
     "outputs": [
      {
       "metadata": {},
       "output_type": "pyout",
       "prompt_number": 26,
       "text": [
        "0.5525919445213674"
       ]
      }
     ],
     "prompt_number": 26
    },
    {
     "cell_type": "markdown",
     "metadata": {},
     "source": [
      "calculate the Silhouette score for different values of k"
     ]
    },
    {
     "cell_type": "code",
     "collapsed": false,
     "input": [
      "for k in xrange(2,8):\n",
      "    km = KMeans(n_clusters=k, random_state=1)\n",
      "    km.fit(X)\n",
      "    labels = km.labels_\n",
      "    print k, metrics.silhouette_score(X, labels, metric='euclidean')\n",
      "    "
     ],
     "language": "python",
     "metadata": {},
     "outputs": [
      {
       "output_type": "stream",
       "stream": "stdout",
       "text": [
        "2 0.680813620271\n",
        "3 "
       ]
      },
      {
       "output_type": "stream",
       "stream": "stdout",
       "text": [
        "0.552591944521\n",
        "4 "
       ]
      },
      {
       "output_type": "stream",
       "stream": "stdout",
       "text": [
        "0.49722797263\n",
        "5 "
       ]
      },
      {
       "output_type": "stream",
       "stream": "stdout",
       "text": [
        "0.488517550854\n",
        "6 "
       ]
      },
      {
       "output_type": "stream",
       "stream": "stdout",
       "text": [
        "0.371218050256\n",
        "7"
       ]
      },
      {
       "output_type": "stream",
       "stream": "stdout",
       "text": [
        " 0.353677304626\n"
       ]
      }
     ],
     "prompt_number": 27
    },
    {
     "cell_type": "code",
     "collapsed": false,
     "input": [],
     "language": "python",
     "metadata": {},
     "outputs": [],
     "prompt_number": 27
    }
   ],
   "metadata": {}
  }
 ]
}